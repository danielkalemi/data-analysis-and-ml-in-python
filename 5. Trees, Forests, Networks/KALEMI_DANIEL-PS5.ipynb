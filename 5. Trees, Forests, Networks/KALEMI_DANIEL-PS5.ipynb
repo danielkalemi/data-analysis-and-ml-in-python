{
 "cells": [
  {
   "cell_type": "markdown",
   "metadata": {},
   "source": [
    "# Problem Set 5: Trees, Forests, and Networks\n"
   ]
  },
  {
   "cell_type": "markdown",
   "metadata": {},
   "source": [
    "## Part 1: Exploring The Titanic\n",
    "\n",
    "Your mission for this problem set is to use your knowledge of supervised machine learning to try to predict which passengers aboard the Titanic were most likely to survive. The prompts for this part of the problem set are deliberately vague - the goal is to leave it up to you how to structure (most of) your analysis. We **highly recommend** you closely go over the entire problem set once before starting; this is important, so that you understand the sequence of steps and not perform redundant work.\n",
    "\n",
    "To get started, read about the prediction problem on [Kaggle](https://www.kaggle.com/c/titanic). Then, download the data [here](https://www.kaggle.com/c/titanic/data) - you'll need the `train.csv` data. Treat this as your entire dataset, and further build train and test splits from this dataset whenever required. \n",
    "\n",
    "### 1.1 Exploratory data analysis\n",
    "\n",
    "Create 2-3 figures and tables that help give you a feel for the data. Make sure to at least check the data type of each variable, to understand which variables have missing observations, and to understand the distribution of each variable (and determine whether the variables should be standardized or not). Are any of the potential predictor variables (i.e., anything execpt for survival) collinear or highly correlated? Remember that this is the EDA phase, and we want to save pre-processing steps like imputations, transformations etc. and feature engineering for later."
   ]
  },
  {
   "cell_type": "code",
   "execution_count": 1,
   "metadata": {},
   "outputs": [
    {
     "name": "stderr",
     "output_type": "stream",
     "text": [
      "Using TensorFlow backend.\n"
     ]
    }
   ],
   "source": [
    "# Your code here\n",
    "import pandas as pd\n",
    "import numpy as np\n",
    "from sklearn import preprocessing\n",
    "from sklearn.model_selection import train_test_split\n",
    "import matplotlib.pyplot as plt\n",
    "import seaborn as sns\n",
    "from sklearn.model_selection import cross_validate\n",
    "from sklearn.metrics import accuracy_score\n",
    "import tensorflow as tf\n",
    "import keras\n",
    "from scipy import stats\n",
    "from sklearn import tree\n",
    "from sklearn.model_selection import cross_val_score\n",
    "from sklearn.tree import DecisionTreeClassifier\n"
   ]
  },
  {
   "cell_type": "code",
   "execution_count": 2,
   "metadata": {},
   "outputs": [
    {
     "data": {
      "text/html": [
       "<div>\n",
       "<style scoped>\n",
       "    .dataframe tbody tr th:only-of-type {\n",
       "        vertical-align: middle;\n",
       "    }\n",
       "\n",
       "    .dataframe tbody tr th {\n",
       "        vertical-align: top;\n",
       "    }\n",
       "\n",
       "    .dataframe thead th {\n",
       "        text-align: right;\n",
       "    }\n",
       "</style>\n",
       "<table border=\"1\" class=\"dataframe\">\n",
       "  <thead>\n",
       "    <tr style=\"text-align: right;\">\n",
       "      <th></th>\n",
       "      <th>PassengerId</th>\n",
       "      <th>Survived</th>\n",
       "      <th>Pclass</th>\n",
       "      <th>Name</th>\n",
       "      <th>Sex</th>\n",
       "      <th>Age</th>\n",
       "      <th>SibSp</th>\n",
       "      <th>Parch</th>\n",
       "      <th>Ticket</th>\n",
       "      <th>Fare</th>\n",
       "      <th>Cabin</th>\n",
       "      <th>Embarked</th>\n",
       "    </tr>\n",
       "  </thead>\n",
       "  <tbody>\n",
       "    <tr>\n",
       "      <th>0</th>\n",
       "      <td>1</td>\n",
       "      <td>0</td>\n",
       "      <td>3</td>\n",
       "      <td>Braund, Mr. Owen Harris</td>\n",
       "      <td>male</td>\n",
       "      <td>22.0</td>\n",
       "      <td>1</td>\n",
       "      <td>0</td>\n",
       "      <td>A/5 21171</td>\n",
       "      <td>7.2500</td>\n",
       "      <td>NaN</td>\n",
       "      <td>S</td>\n",
       "    </tr>\n",
       "    <tr>\n",
       "      <th>1</th>\n",
       "      <td>2</td>\n",
       "      <td>1</td>\n",
       "      <td>1</td>\n",
       "      <td>Cumings, Mrs. John Bradley (Florence Briggs Th...</td>\n",
       "      <td>female</td>\n",
       "      <td>38.0</td>\n",
       "      <td>1</td>\n",
       "      <td>0</td>\n",
       "      <td>PC 17599</td>\n",
       "      <td>71.2833</td>\n",
       "      <td>C85</td>\n",
       "      <td>C</td>\n",
       "    </tr>\n",
       "    <tr>\n",
       "      <th>2</th>\n",
       "      <td>3</td>\n",
       "      <td>1</td>\n",
       "      <td>3</td>\n",
       "      <td>Heikkinen, Miss. Laina</td>\n",
       "      <td>female</td>\n",
       "      <td>26.0</td>\n",
       "      <td>0</td>\n",
       "      <td>0</td>\n",
       "      <td>STON/O2. 3101282</td>\n",
       "      <td>7.9250</td>\n",
       "      <td>NaN</td>\n",
       "      <td>S</td>\n",
       "    </tr>\n",
       "    <tr>\n",
       "      <th>3</th>\n",
       "      <td>4</td>\n",
       "      <td>1</td>\n",
       "      <td>1</td>\n",
       "      <td>Futrelle, Mrs. Jacques Heath (Lily May Peel)</td>\n",
       "      <td>female</td>\n",
       "      <td>35.0</td>\n",
       "      <td>1</td>\n",
       "      <td>0</td>\n",
       "      <td>113803</td>\n",
       "      <td>53.1000</td>\n",
       "      <td>C123</td>\n",
       "      <td>S</td>\n",
       "    </tr>\n",
       "    <tr>\n",
       "      <th>4</th>\n",
       "      <td>5</td>\n",
       "      <td>0</td>\n",
       "      <td>3</td>\n",
       "      <td>Allen, Mr. William Henry</td>\n",
       "      <td>male</td>\n",
       "      <td>35.0</td>\n",
       "      <td>0</td>\n",
       "      <td>0</td>\n",
       "      <td>373450</td>\n",
       "      <td>8.0500</td>\n",
       "      <td>NaN</td>\n",
       "      <td>S</td>\n",
       "    </tr>\n",
       "  </tbody>\n",
       "</table>\n",
       "</div>"
      ],
      "text/plain": [
       "   PassengerId  Survived  Pclass  \\\n",
       "0            1         0       3   \n",
       "1            2         1       1   \n",
       "2            3         1       3   \n",
       "3            4         1       1   \n",
       "4            5         0       3   \n",
       "\n",
       "                                                Name     Sex   Age  SibSp  \\\n",
       "0                            Braund, Mr. Owen Harris    male  22.0      1   \n",
       "1  Cumings, Mrs. John Bradley (Florence Briggs Th...  female  38.0      1   \n",
       "2                             Heikkinen, Miss. Laina  female  26.0      0   \n",
       "3       Futrelle, Mrs. Jacques Heath (Lily May Peel)  female  35.0      1   \n",
       "4                           Allen, Mr. William Henry    male  35.0      0   \n",
       "\n",
       "   Parch            Ticket     Fare Cabin Embarked  \n",
       "0      0         A/5 21171   7.2500   NaN        S  \n",
       "1      0          PC 17599  71.2833   C85        C  \n",
       "2      0  STON/O2. 3101282   7.9250   NaN        S  \n",
       "3      0            113803  53.1000  C123        S  \n",
       "4      0            373450   8.0500   NaN        S  "
      ]
     },
     "execution_count": 2,
     "metadata": {},
     "output_type": "execute_result"
    }
   ],
   "source": [
    "data = pd.read_csv(\"train.csv\")\n",
    "data.head()"
   ]
  },
  {
   "cell_type": "code",
   "execution_count": 3,
   "metadata": {},
   "outputs": [
    {
     "name": "stdout",
     "output_type": "stream",
     "text": [
      "<class 'pandas.core.frame.DataFrame'>\n",
      "RangeIndex: 891 entries, 0 to 890\n",
      "Data columns (total 12 columns):\n",
      " #   Column       Non-Null Count  Dtype  \n",
      "---  ------       --------------  -----  \n",
      " 0   PassengerId  891 non-null    int64  \n",
      " 1   Survived     891 non-null    int64  \n",
      " 2   Pclass       891 non-null    int64  \n",
      " 3   Name         891 non-null    object \n",
      " 4   Sex          891 non-null    object \n",
      " 5   Age          714 non-null    float64\n",
      " 6   SibSp        891 non-null    int64  \n",
      " 7   Parch        891 non-null    int64  \n",
      " 8   Ticket       891 non-null    object \n",
      " 9   Fare         891 non-null    float64\n",
      " 10  Cabin        204 non-null    object \n",
      " 11  Embarked     889 non-null    object \n",
      "dtypes: float64(2), int64(5), object(5)\n",
      "memory usage: 83.7+ KB\n"
     ]
    }
   ],
   "source": [
    "data.info()"
   ]
  },
  {
   "cell_type": "code",
   "execution_count": 4,
   "metadata": {},
   "outputs": [
    {
     "data": {
      "text/html": [
       "<div>\n",
       "<style scoped>\n",
       "    .dataframe tbody tr th:only-of-type {\n",
       "        vertical-align: middle;\n",
       "    }\n",
       "\n",
       "    .dataframe tbody tr th {\n",
       "        vertical-align: top;\n",
       "    }\n",
       "\n",
       "    .dataframe thead th {\n",
       "        text-align: right;\n",
       "    }\n",
       "</style>\n",
       "<table border=\"1\" class=\"dataframe\">\n",
       "  <thead>\n",
       "    <tr style=\"text-align: right;\">\n",
       "      <th></th>\n",
       "      <th>PassengerId</th>\n",
       "      <th>Survived</th>\n",
       "      <th>Pclass</th>\n",
       "      <th>Age</th>\n",
       "      <th>SibSp</th>\n",
       "      <th>Parch</th>\n",
       "      <th>Fare</th>\n",
       "    </tr>\n",
       "  </thead>\n",
       "  <tbody>\n",
       "    <tr>\n",
       "      <th>count</th>\n",
       "      <td>891.000000</td>\n",
       "      <td>891.000000</td>\n",
       "      <td>891.000000</td>\n",
       "      <td>714.000000</td>\n",
       "      <td>891.000000</td>\n",
       "      <td>891.000000</td>\n",
       "      <td>891.000000</td>\n",
       "    </tr>\n",
       "    <tr>\n",
       "      <th>mean</th>\n",
       "      <td>446.000000</td>\n",
       "      <td>0.383838</td>\n",
       "      <td>2.308642</td>\n",
       "      <td>29.699118</td>\n",
       "      <td>0.523008</td>\n",
       "      <td>0.381594</td>\n",
       "      <td>32.204208</td>\n",
       "    </tr>\n",
       "    <tr>\n",
       "      <th>std</th>\n",
       "      <td>257.353842</td>\n",
       "      <td>0.486592</td>\n",
       "      <td>0.836071</td>\n",
       "      <td>14.526497</td>\n",
       "      <td>1.102743</td>\n",
       "      <td>0.806057</td>\n",
       "      <td>49.693429</td>\n",
       "    </tr>\n",
       "    <tr>\n",
       "      <th>min</th>\n",
       "      <td>1.000000</td>\n",
       "      <td>0.000000</td>\n",
       "      <td>1.000000</td>\n",
       "      <td>0.420000</td>\n",
       "      <td>0.000000</td>\n",
       "      <td>0.000000</td>\n",
       "      <td>0.000000</td>\n",
       "    </tr>\n",
       "    <tr>\n",
       "      <th>25%</th>\n",
       "      <td>223.500000</td>\n",
       "      <td>0.000000</td>\n",
       "      <td>2.000000</td>\n",
       "      <td>20.125000</td>\n",
       "      <td>0.000000</td>\n",
       "      <td>0.000000</td>\n",
       "      <td>7.910400</td>\n",
       "    </tr>\n",
       "    <tr>\n",
       "      <th>50%</th>\n",
       "      <td>446.000000</td>\n",
       "      <td>0.000000</td>\n",
       "      <td>3.000000</td>\n",
       "      <td>28.000000</td>\n",
       "      <td>0.000000</td>\n",
       "      <td>0.000000</td>\n",
       "      <td>14.454200</td>\n",
       "    </tr>\n",
       "    <tr>\n",
       "      <th>75%</th>\n",
       "      <td>668.500000</td>\n",
       "      <td>1.000000</td>\n",
       "      <td>3.000000</td>\n",
       "      <td>38.000000</td>\n",
       "      <td>1.000000</td>\n",
       "      <td>0.000000</td>\n",
       "      <td>31.000000</td>\n",
       "    </tr>\n",
       "    <tr>\n",
       "      <th>max</th>\n",
       "      <td>891.000000</td>\n",
       "      <td>1.000000</td>\n",
       "      <td>3.000000</td>\n",
       "      <td>80.000000</td>\n",
       "      <td>8.000000</td>\n",
       "      <td>6.000000</td>\n",
       "      <td>512.329200</td>\n",
       "    </tr>\n",
       "  </tbody>\n",
       "</table>\n",
       "</div>"
      ],
      "text/plain": [
       "       PassengerId    Survived      Pclass         Age       SibSp  \\\n",
       "count   891.000000  891.000000  891.000000  714.000000  891.000000   \n",
       "mean    446.000000    0.383838    2.308642   29.699118    0.523008   \n",
       "std     257.353842    0.486592    0.836071   14.526497    1.102743   \n",
       "min       1.000000    0.000000    1.000000    0.420000    0.000000   \n",
       "25%     223.500000    0.000000    2.000000   20.125000    0.000000   \n",
       "50%     446.000000    0.000000    3.000000   28.000000    0.000000   \n",
       "75%     668.500000    1.000000    3.000000   38.000000    1.000000   \n",
       "max     891.000000    1.000000    3.000000   80.000000    8.000000   \n",
       "\n",
       "            Parch        Fare  \n",
       "count  891.000000  891.000000  \n",
       "mean     0.381594   32.204208  \n",
       "std      0.806057   49.693429  \n",
       "min      0.000000    0.000000  \n",
       "25%      0.000000    7.910400  \n",
       "50%      0.000000   14.454200  \n",
       "75%      0.000000   31.000000  \n",
       "max      6.000000  512.329200  "
      ]
     },
     "execution_count": 4,
     "metadata": {},
     "output_type": "execute_result"
    }
   ],
   "source": [
    "data.describe()"
   ]
  },
  {
   "cell_type": "code",
   "execution_count": 5,
   "metadata": {},
   "outputs": [
    {
     "data": {
      "text/plain": [
       "PassengerId      0\n",
       "Survived         0\n",
       "Pclass           0\n",
       "Name             0\n",
       "Sex              0\n",
       "Age            177\n",
       "SibSp            0\n",
       "Parch            0\n",
       "Ticket           0\n",
       "Fare             0\n",
       "Cabin          687\n",
       "Embarked         2\n",
       "dtype: int64"
      ]
     },
     "execution_count": 5,
     "metadata": {},
     "output_type": "execute_result"
    }
   ],
   "source": [
    "data.isnull().sum()"
   ]
  },
  {
   "cell_type": "code",
   "execution_count": 6,
   "metadata": {},
   "outputs": [
    {
     "data": {
      "text/html": [
       "<div>\n",
       "<style scoped>\n",
       "    .dataframe tbody tr th:only-of-type {\n",
       "        vertical-align: middle;\n",
       "    }\n",
       "\n",
       "    .dataframe tbody tr th {\n",
       "        vertical-align: top;\n",
       "    }\n",
       "\n",
       "    .dataframe thead th {\n",
       "        text-align: right;\n",
       "    }\n",
       "</style>\n",
       "<table border=\"1\" class=\"dataframe\">\n",
       "  <thead>\n",
       "    <tr style=\"text-align: right;\">\n",
       "      <th></th>\n",
       "      <th>PassengerId</th>\n",
       "      <th>Survived</th>\n",
       "      <th>Pclass</th>\n",
       "      <th>Age</th>\n",
       "      <th>SibSp</th>\n",
       "      <th>Parch</th>\n",
       "      <th>Fare</th>\n",
       "    </tr>\n",
       "  </thead>\n",
       "  <tbody>\n",
       "    <tr>\n",
       "      <th>PassengerId</th>\n",
       "      <td>1.000000</td>\n",
       "      <td>-0.005007</td>\n",
       "      <td>-0.035144</td>\n",
       "      <td>0.036847</td>\n",
       "      <td>-0.057527</td>\n",
       "      <td>-0.001652</td>\n",
       "      <td>0.012658</td>\n",
       "    </tr>\n",
       "    <tr>\n",
       "      <th>Survived</th>\n",
       "      <td>-0.005007</td>\n",
       "      <td>1.000000</td>\n",
       "      <td>-0.338481</td>\n",
       "      <td>-0.077221</td>\n",
       "      <td>-0.035322</td>\n",
       "      <td>0.081629</td>\n",
       "      <td>0.257307</td>\n",
       "    </tr>\n",
       "    <tr>\n",
       "      <th>Pclass</th>\n",
       "      <td>-0.035144</td>\n",
       "      <td>-0.338481</td>\n",
       "      <td>1.000000</td>\n",
       "      <td>-0.369226</td>\n",
       "      <td>0.083081</td>\n",
       "      <td>0.018443</td>\n",
       "      <td>-0.549500</td>\n",
       "    </tr>\n",
       "    <tr>\n",
       "      <th>Age</th>\n",
       "      <td>0.036847</td>\n",
       "      <td>-0.077221</td>\n",
       "      <td>-0.369226</td>\n",
       "      <td>1.000000</td>\n",
       "      <td>-0.308247</td>\n",
       "      <td>-0.189119</td>\n",
       "      <td>0.096067</td>\n",
       "    </tr>\n",
       "    <tr>\n",
       "      <th>SibSp</th>\n",
       "      <td>-0.057527</td>\n",
       "      <td>-0.035322</td>\n",
       "      <td>0.083081</td>\n",
       "      <td>-0.308247</td>\n",
       "      <td>1.000000</td>\n",
       "      <td>0.414838</td>\n",
       "      <td>0.159651</td>\n",
       "    </tr>\n",
       "    <tr>\n",
       "      <th>Parch</th>\n",
       "      <td>-0.001652</td>\n",
       "      <td>0.081629</td>\n",
       "      <td>0.018443</td>\n",
       "      <td>-0.189119</td>\n",
       "      <td>0.414838</td>\n",
       "      <td>1.000000</td>\n",
       "      <td>0.216225</td>\n",
       "    </tr>\n",
       "    <tr>\n",
       "      <th>Fare</th>\n",
       "      <td>0.012658</td>\n",
       "      <td>0.257307</td>\n",
       "      <td>-0.549500</td>\n",
       "      <td>0.096067</td>\n",
       "      <td>0.159651</td>\n",
       "      <td>0.216225</td>\n",
       "      <td>1.000000</td>\n",
       "    </tr>\n",
       "  </tbody>\n",
       "</table>\n",
       "</div>"
      ],
      "text/plain": [
       "             PassengerId  Survived    Pclass       Age     SibSp     Parch  \\\n",
       "PassengerId     1.000000 -0.005007 -0.035144  0.036847 -0.057527 -0.001652   \n",
       "Survived       -0.005007  1.000000 -0.338481 -0.077221 -0.035322  0.081629   \n",
       "Pclass         -0.035144 -0.338481  1.000000 -0.369226  0.083081  0.018443   \n",
       "Age             0.036847 -0.077221 -0.369226  1.000000 -0.308247 -0.189119   \n",
       "SibSp          -0.057527 -0.035322  0.083081 -0.308247  1.000000  0.414838   \n",
       "Parch          -0.001652  0.081629  0.018443 -0.189119  0.414838  1.000000   \n",
       "Fare            0.012658  0.257307 -0.549500  0.096067  0.159651  0.216225   \n",
       "\n",
       "                 Fare  \n",
       "PassengerId  0.012658  \n",
       "Survived     0.257307  \n",
       "Pclass      -0.549500  \n",
       "Age          0.096067  \n",
       "SibSp        0.159651  \n",
       "Parch        0.216225  \n",
       "Fare         1.000000  "
      ]
     },
     "execution_count": 6,
     "metadata": {},
     "output_type": "execute_result"
    }
   ],
   "source": [
    "data.corr()"
   ]
  },
  {
   "cell_type": "code",
   "execution_count": 7,
   "metadata": {},
   "outputs": [
    {
     "data": {
      "text/plain": [
       "male      577\n",
       "female    314\n",
       "Name: Sex, dtype: int64"
      ]
     },
     "execution_count": 7,
     "metadata": {},
     "output_type": "execute_result"
    }
   ],
   "source": [
    "data.Sex.value_counts()"
   ]
  },
  {
   "cell_type": "code",
   "execution_count": 8,
   "metadata": {},
   "outputs": [
    {
     "data": {
      "text/plain": [
       "681"
      ]
     },
     "execution_count": 8,
     "metadata": {},
     "output_type": "execute_result"
    }
   ],
   "source": [
    "data.Ticket.unique().size"
   ]
  },
  {
   "cell_type": "code",
   "execution_count": 9,
   "metadata": {},
   "outputs": [
    {
     "data": {
      "text/plain": [
       "0    549\n",
       "1    342\n",
       "Name: Survived, dtype: int64"
      ]
     },
     "execution_count": 9,
     "metadata": {},
     "output_type": "execute_result"
    }
   ],
   "source": [
    "data.Survived.value_counts()"
   ]
  },
  {
   "cell_type": "code",
   "execution_count": 10,
   "metadata": {},
   "outputs": [
    {
     "data": {
      "text/html": [
       "<div>\n",
       "<style scoped>\n",
       "    .dataframe tbody tr th:only-of-type {\n",
       "        vertical-align: middle;\n",
       "    }\n",
       "\n",
       "    .dataframe tbody tr th {\n",
       "        vertical-align: top;\n",
       "    }\n",
       "\n",
       "    .dataframe thead th {\n",
       "        text-align: right;\n",
       "    }\n",
       "</style>\n",
       "<table border=\"1\" class=\"dataframe\">\n",
       "  <thead>\n",
       "    <tr style=\"text-align: right;\">\n",
       "      <th>Sex</th>\n",
       "      <th>female</th>\n",
       "      <th>male</th>\n",
       "    </tr>\n",
       "    <tr>\n",
       "      <th>Survived</th>\n",
       "      <th></th>\n",
       "      <th></th>\n",
       "    </tr>\n",
       "  </thead>\n",
       "  <tbody>\n",
       "    <tr>\n",
       "      <th>0</th>\n",
       "      <td>81</td>\n",
       "      <td>468</td>\n",
       "    </tr>\n",
       "    <tr>\n",
       "      <th>1</th>\n",
       "      <td>233</td>\n",
       "      <td>109</td>\n",
       "    </tr>\n",
       "  </tbody>\n",
       "</table>\n",
       "</div>"
      ],
      "text/plain": [
       "Sex       female  male\n",
       "Survived              \n",
       "0             81   468\n",
       "1            233   109"
      ]
     },
     "execution_count": 10,
     "metadata": {},
     "output_type": "execute_result"
    }
   ],
   "source": [
    "pd.crosstab(data.Survived,data.Sex)"
   ]
  },
  {
   "cell_type": "code",
   "execution_count": 11,
   "metadata": {},
   "outputs": [
    {
     "data": {
      "text/plain": [
       "S    644\n",
       "C    168\n",
       "Q     77\n",
       "Name: Embarked, dtype: int64"
      ]
     },
     "execution_count": 11,
     "metadata": {},
     "output_type": "execute_result"
    }
   ],
   "source": [
    "data.Embarked.value_counts()"
   ]
  },
  {
   "cell_type": "code",
   "execution_count": 12,
   "metadata": {},
   "outputs": [
    {
     "data": {
      "text/html": [
       "<div>\n",
       "<style scoped>\n",
       "    .dataframe tbody tr th:only-of-type {\n",
       "        vertical-align: middle;\n",
       "    }\n",
       "\n",
       "    .dataframe tbody tr th {\n",
       "        vertical-align: top;\n",
       "    }\n",
       "\n",
       "    .dataframe thead th {\n",
       "        text-align: right;\n",
       "    }\n",
       "</style>\n",
       "<table border=\"1\" class=\"dataframe\">\n",
       "  <thead>\n",
       "    <tr style=\"text-align: right;\">\n",
       "      <th>Embarked</th>\n",
       "      <th>C</th>\n",
       "      <th>Q</th>\n",
       "      <th>S</th>\n",
       "    </tr>\n",
       "    <tr>\n",
       "      <th>Survived</th>\n",
       "      <th></th>\n",
       "      <th></th>\n",
       "      <th></th>\n",
       "    </tr>\n",
       "  </thead>\n",
       "  <tbody>\n",
       "    <tr>\n",
       "      <th>0</th>\n",
       "      <td>75</td>\n",
       "      <td>47</td>\n",
       "      <td>427</td>\n",
       "    </tr>\n",
       "    <tr>\n",
       "      <th>1</th>\n",
       "      <td>93</td>\n",
       "      <td>30</td>\n",
       "      <td>217</td>\n",
       "    </tr>\n",
       "  </tbody>\n",
       "</table>\n",
       "</div>"
      ],
      "text/plain": [
       "Embarked   C   Q    S\n",
       "Survived             \n",
       "0         75  47  427\n",
       "1         93  30  217"
      ]
     },
     "execution_count": 12,
     "metadata": {},
     "output_type": "execute_result"
    }
   ],
   "source": [
    "pd.crosstab(data.Survived,data.Embarked)"
   ]
  },
  {
   "cell_type": "code",
   "execution_count": 13,
   "metadata": {},
   "outputs": [
    {
     "data": {
      "text/plain": [
       "148"
      ]
     },
     "execution_count": 13,
     "metadata": {},
     "output_type": "execute_result"
    }
   ],
   "source": [
    "data.Cabin.unique().size"
   ]
  },
  {
   "cell_type": "code",
   "execution_count": 14,
   "metadata": {},
   "outputs": [
    {
     "data": {
      "text/html": [
       "<div>\n",
       "<style scoped>\n",
       "    .dataframe tbody tr th:only-of-type {\n",
       "        vertical-align: middle;\n",
       "    }\n",
       "\n",
       "    .dataframe tbody tr th {\n",
       "        vertical-align: top;\n",
       "    }\n",
       "\n",
       "    .dataframe thead th {\n",
       "        text-align: right;\n",
       "    }\n",
       "</style>\n",
       "<table border=\"1\" class=\"dataframe\">\n",
       "  <thead>\n",
       "    <tr style=\"text-align: right;\">\n",
       "      <th>Parch</th>\n",
       "      <th>0</th>\n",
       "      <th>1</th>\n",
       "      <th>2</th>\n",
       "      <th>3</th>\n",
       "      <th>4</th>\n",
       "      <th>5</th>\n",
       "      <th>6</th>\n",
       "    </tr>\n",
       "    <tr>\n",
       "      <th>Survived</th>\n",
       "      <th></th>\n",
       "      <th></th>\n",
       "      <th></th>\n",
       "      <th></th>\n",
       "      <th></th>\n",
       "      <th></th>\n",
       "      <th></th>\n",
       "    </tr>\n",
       "  </thead>\n",
       "  <tbody>\n",
       "    <tr>\n",
       "      <th>0</th>\n",
       "      <td>445</td>\n",
       "      <td>53</td>\n",
       "      <td>40</td>\n",
       "      <td>2</td>\n",
       "      <td>4</td>\n",
       "      <td>4</td>\n",
       "      <td>1</td>\n",
       "    </tr>\n",
       "    <tr>\n",
       "      <th>1</th>\n",
       "      <td>233</td>\n",
       "      <td>65</td>\n",
       "      <td>40</td>\n",
       "      <td>3</td>\n",
       "      <td>0</td>\n",
       "      <td>1</td>\n",
       "      <td>0</td>\n",
       "    </tr>\n",
       "  </tbody>\n",
       "</table>\n",
       "</div>"
      ],
      "text/plain": [
       "Parch       0   1   2  3  4  5  6\n",
       "Survived                         \n",
       "0         445  53  40  2  4  4  1\n",
       "1         233  65  40  3  0  1  0"
      ]
     },
     "execution_count": 14,
     "metadata": {},
     "output_type": "execute_result"
    }
   ],
   "source": [
    "pd.crosstab(data.Survived,data.Parch)"
   ]
  },
  {
   "cell_type": "code",
   "execution_count": 15,
   "metadata": {},
   "outputs": [
    {
     "data": {
      "text/html": [
       "<div>\n",
       "<style scoped>\n",
       "    .dataframe tbody tr th:only-of-type {\n",
       "        vertical-align: middle;\n",
       "    }\n",
       "\n",
       "    .dataframe tbody tr th {\n",
       "        vertical-align: top;\n",
       "    }\n",
       "\n",
       "    .dataframe thead th {\n",
       "        text-align: right;\n",
       "    }\n",
       "</style>\n",
       "<table border=\"1\" class=\"dataframe\">\n",
       "  <thead>\n",
       "    <tr style=\"text-align: right;\">\n",
       "      <th>SibSp</th>\n",
       "      <th>0</th>\n",
       "      <th>1</th>\n",
       "      <th>2</th>\n",
       "      <th>3</th>\n",
       "      <th>4</th>\n",
       "      <th>5</th>\n",
       "      <th>8</th>\n",
       "    </tr>\n",
       "    <tr>\n",
       "      <th>Survived</th>\n",
       "      <th></th>\n",
       "      <th></th>\n",
       "      <th></th>\n",
       "      <th></th>\n",
       "      <th></th>\n",
       "      <th></th>\n",
       "      <th></th>\n",
       "    </tr>\n",
       "  </thead>\n",
       "  <tbody>\n",
       "    <tr>\n",
       "      <th>0</th>\n",
       "      <td>398</td>\n",
       "      <td>97</td>\n",
       "      <td>15</td>\n",
       "      <td>12</td>\n",
       "      <td>15</td>\n",
       "      <td>5</td>\n",
       "      <td>7</td>\n",
       "    </tr>\n",
       "    <tr>\n",
       "      <th>1</th>\n",
       "      <td>210</td>\n",
       "      <td>112</td>\n",
       "      <td>13</td>\n",
       "      <td>4</td>\n",
       "      <td>3</td>\n",
       "      <td>0</td>\n",
       "      <td>0</td>\n",
       "    </tr>\n",
       "  </tbody>\n",
       "</table>\n",
       "</div>"
      ],
      "text/plain": [
       "SibSp       0    1   2   3   4  5  8\n",
       "Survived                            \n",
       "0         398   97  15  12  15  5  7\n",
       "1         210  112  13   4   3  0  0"
      ]
     },
     "execution_count": 15,
     "metadata": {},
     "output_type": "execute_result"
    }
   ],
   "source": [
    "pd.crosstab(data.Survived,data.SibSp)"
   ]
  },
  {
   "cell_type": "code",
   "execution_count": 16,
   "metadata": {},
   "outputs": [
    {
     "data": {
      "image/png": "[encoded data removed]",
      "text/plain": [
       "<Figure size 576x432 with 1 Axes>"
      ]
     },
     "metadata": {
      "needs_background": "light"
     },
     "output_type": "display_data"
    }
   ],
   "source": [
    "plt.figure(figsize=(8, 6))\n",
    "sns.boxplot(x=\"Survived\", y=\"Age\", data=data)\n",
    "plt.title(\"Age distribution for different classes\")\n",
    "plt.ylabel(\"Age)\")\n",
    "plt.xlabel(\"Survived\");"
   ]
  },
  {
   "cell_type": "code",
   "execution_count": 17,
   "metadata": {},
   "outputs": [
    {
     "data": {
      "image/png": "[encoded data removed]",
      "text/plain": [
       "<Figure size 576x432 with 1 Axes>"
      ]
     },
     "metadata": {
      "needs_background": "light"
     },
     "output_type": "display_data"
    }
   ],
   "source": [
    "plt.figure(figsize=(8, 6))\n",
    "sns.boxplot(x=\"Survived\", y=\"Fare\", data=data)\n",
    "plt.title(\"Fare distribution for different classes\")\n",
    "plt.ylabel(\"Fare)\")\n",
    "plt.xlabel(\"Survived\");"
   ]
  },
  {
   "cell_type": "markdown",
   "metadata": {},
   "source": [
    "### Discussion\n",
    "\n",
    "By using sklearn's KFold function, we are able to suffle the data (randomization) and split it into test and train. Through this process I was able to perform a 5-fold cross-validation fit of the regression model and get for each fold the intercept (model.intercept_) and a slope (model.coef_[0]).\n",
    "To distinguish each of the lines, I used the iterating variable to change the color and the legend name. All 5 lines along with the regression line from 1.1 don't differ that much from each other."
   ]
  },
  {
   "cell_type": "markdown",
   "metadata": {},
   "source": [
    "### 1.2 Correlates of survival\n",
    "\n",
    "Use whatever methods you can think of to try and figure out what factors seem to determine whether or not a person would survive the sinking of the Titanic. You can start with simple correlations, but will likely also want to use multiple regression and/or other methods in your toolkit. What do you conclude?"
   ]
  },
  {
   "cell_type": "code",
   "execution_count": 18,
   "metadata": {},
   "outputs": [
    {
     "data": {
      "text/html": [
       "<div>\n",
       "<style scoped>\n",
       "    .dataframe tbody tr th:only-of-type {\n",
       "        vertical-align: middle;\n",
       "    }\n",
       "\n",
       "    .dataframe tbody tr th {\n",
       "        vertical-align: top;\n",
       "    }\n",
       "\n",
       "    .dataframe thead th {\n",
       "        text-align: right;\n",
       "    }\n",
       "</style>\n",
       "<table border=\"1\" class=\"dataframe\">\n",
       "  <thead>\n",
       "    <tr style=\"text-align: right;\">\n",
       "      <th></th>\n",
       "      <th>PassengerId</th>\n",
       "      <th>Survived</th>\n",
       "      <th>Pclass</th>\n",
       "      <th>Age</th>\n",
       "      <th>SibSp</th>\n",
       "      <th>Parch</th>\n",
       "      <th>Fare</th>\n",
       "    </tr>\n",
       "  </thead>\n",
       "  <tbody>\n",
       "    <tr>\n",
       "      <th>PassengerId</th>\n",
       "      <td>1.000000</td>\n",
       "      <td>-0.005007</td>\n",
       "      <td>-0.035144</td>\n",
       "      <td>0.036847</td>\n",
       "      <td>-0.057527</td>\n",
       "      <td>-0.001652</td>\n",
       "      <td>0.012658</td>\n",
       "    </tr>\n",
       "    <tr>\n",
       "      <th>Survived</th>\n",
       "      <td>-0.005007</td>\n",
       "      <td>1.000000</td>\n",
       "      <td>-0.338481</td>\n",
       "      <td>-0.077221</td>\n",
       "      <td>-0.035322</td>\n",
       "      <td>0.081629</td>\n",
       "      <td>0.257307</td>\n",
       "    </tr>\n",
       "    <tr>\n",
       "      <th>Pclass</th>\n",
       "      <td>-0.035144</td>\n",
       "      <td>-0.338481</td>\n",
       "      <td>1.000000</td>\n",
       "      <td>-0.369226</td>\n",
       "      <td>0.083081</td>\n",
       "      <td>0.018443</td>\n",
       "      <td>-0.549500</td>\n",
       "    </tr>\n",
       "    <tr>\n",
       "      <th>Age</th>\n",
       "      <td>0.036847</td>\n",
       "      <td>-0.077221</td>\n",
       "      <td>-0.369226</td>\n",
       "      <td>1.000000</td>\n",
       "      <td>-0.308247</td>\n",
       "      <td>-0.189119</td>\n",
       "      <td>0.096067</td>\n",
       "    </tr>\n",
       "    <tr>\n",
       "      <th>SibSp</th>\n",
       "      <td>-0.057527</td>\n",
       "      <td>-0.035322</td>\n",
       "      <td>0.083081</td>\n",
       "      <td>-0.308247</td>\n",
       "      <td>1.000000</td>\n",
       "      <td>0.414838</td>\n",
       "      <td>0.159651</td>\n",
       "    </tr>\n",
       "    <tr>\n",
       "      <th>Parch</th>\n",
       "      <td>-0.001652</td>\n",
       "      <td>0.081629</td>\n",
       "      <td>0.018443</td>\n",
       "      <td>-0.189119</td>\n",
       "      <td>0.414838</td>\n",
       "      <td>1.000000</td>\n",
       "      <td>0.216225</td>\n",
       "    </tr>\n",
       "    <tr>\n",
       "      <th>Fare</th>\n",
       "      <td>0.012658</td>\n",
       "      <td>0.257307</td>\n",
       "      <td>-0.549500</td>\n",
       "      <td>0.096067</td>\n",
       "      <td>0.159651</td>\n",
       "      <td>0.216225</td>\n",
       "      <td>1.000000</td>\n",
       "    </tr>\n",
       "  </tbody>\n",
       "</table>\n",
       "</div>"
      ],
      "text/plain": [
       "             PassengerId  Survived    Pclass       Age     SibSp     Parch  \\\n",
       "PassengerId     1.000000 -0.005007 -0.035144  0.036847 -0.057527 -0.001652   \n",
       "Survived       -0.005007  1.000000 -0.338481 -0.077221 -0.035322  0.081629   \n",
       "Pclass         -0.035144 -0.338481  1.000000 -0.369226  0.083081  0.018443   \n",
       "Age             0.036847 -0.077221 -0.369226  1.000000 -0.308247 -0.189119   \n",
       "SibSp          -0.057527 -0.035322  0.083081 -0.308247  1.000000  0.414838   \n",
       "Parch          -0.001652  0.081629  0.018443 -0.189119  0.414838  1.000000   \n",
       "Fare            0.012658  0.257307 -0.549500  0.096067  0.159651  0.216225   \n",
       "\n",
       "                 Fare  \n",
       "PassengerId  0.012658  \n",
       "Survived     0.257307  \n",
       "Pclass      -0.549500  \n",
       "Age          0.096067  \n",
       "SibSp        0.159651  \n",
       "Parch        0.216225  \n",
       "Fare         1.000000  "
      ]
     },
     "execution_count": 18,
     "metadata": {},
     "output_type": "execute_result"
    }
   ],
   "source": [
    "# Your code here\n",
    "#Looking at the correlation of different featues with the survived feature\n",
    "data.corr()"
   ]
  },
  {
   "cell_type": "code",
   "execution_count": 19,
   "metadata": {},
   "outputs": [
    {
     "data": {
      "text/html": [
       "<div>\n",
       "<style scoped>\n",
       "    .dataframe tbody tr th:only-of-type {\n",
       "        vertical-align: middle;\n",
       "    }\n",
       "\n",
       "    .dataframe tbody tr th {\n",
       "        vertical-align: top;\n",
       "    }\n",
       "\n",
       "    .dataframe thead th {\n",
       "        text-align: right;\n",
       "    }\n",
       "</style>\n",
       "<table border=\"1\" class=\"dataframe\">\n",
       "  <thead>\n",
       "    <tr style=\"text-align: right;\">\n",
       "      <th></th>\n",
       "      <th>Feature</th>\n",
       "      <th>stat</th>\n",
       "      <th>pval</th>\n",
       "      <th>Significant?</th>\n",
       "    </tr>\n",
       "  </thead>\n",
       "  <tbody>\n",
       "    <tr>\n",
       "      <th>0</th>\n",
       "      <td>Pclass</td>\n",
       "      <td>10.336953</td>\n",
       "      <td>2.911155e-23</td>\n",
       "      <td>True</td>\n",
       "    </tr>\n",
       "    <tr>\n",
       "      <th>1</th>\n",
       "      <td>Age</td>\n",
       "      <td>2.046030</td>\n",
       "      <td>4.118965e-02</td>\n",
       "      <td>True</td>\n",
       "    </tr>\n",
       "    <tr>\n",
       "      <th>2</th>\n",
       "      <td>SibSp</td>\n",
       "      <td>1.194353</td>\n",
       "      <td>2.326626e-01</td>\n",
       "      <td>False</td>\n",
       "    </tr>\n",
       "    <tr>\n",
       "      <th>3</th>\n",
       "      <td>Parch</td>\n",
       "      <td>-2.478908</td>\n",
       "      <td>1.339484e-02</td>\n",
       "      <td>True</td>\n",
       "    </tr>\n",
       "    <tr>\n",
       "      <th>4</th>\n",
       "      <td>Fare</td>\n",
       "      <td>-6.839099</td>\n",
       "      <td>2.699332e-11</td>\n",
       "      <td>True</td>\n",
       "    </tr>\n",
       "  </tbody>\n",
       "</table>\n",
       "</div>"
      ],
      "text/plain": [
       "  Feature       stat          pval  Significant?\n",
       "0  Pclass  10.336953  2.911155e-23          True\n",
       "1     Age   2.046030  4.118965e-02          True\n",
       "2   SibSp   1.194353  2.326626e-01         False\n",
       "3   Parch  -2.478908  1.339484e-02          True\n",
       "4    Fare  -6.839099  2.699332e-11          True"
      ]
     },
     "execution_count": 19,
     "metadata": {},
     "output_type": "execute_result"
    }
   ],
   "source": [
    "#Performing t test to idenitfy the significant variables\n",
    "\n",
    "\n",
    "# list of features \n",
    "ttest_vars = ['Pclass','Age','SibSp','Parch','Fare']\n",
    "\n",
    "data_not_survived = data[data['Survived']==0].copy()\n",
    "data_survived = data[data['Survived']==1].copy()\n",
    "\n",
    "stat_vec = np.zeros(len(ttest_vars))\n",
    "pval_vec = np.zeros(len(ttest_vars))\n",
    "conclusion_vec = []\n",
    "\n",
    "# iterate through the features\n",
    "for i in range(len(ttest_vars)):\n",
    "    \n",
    "    # do the t-test, dropping empty rows\n",
    "    stat, pval = stats.ttest_ind(data_not_survived[ttest_vars[i]].dropna(),\n",
    "                                 data_survived[ttest_vars[i]].dropna(),\n",
    "                                 equal_var=False)\n",
    "    \n",
    "    # store\n",
    "    stat_vec[i] = stat\n",
    "    pval_vec[i] = pval\n",
    "    if pval < 0.05:\n",
    "        conclusion_vec.append(True)\n",
    "    else:\n",
    "        conclusion_vec.append(False)\n",
    "\n",
    "final_table = pd.DataFrame({'Feature':ttest_vars,'stat':stat_vec,'pval':pval_vec,'Significant?':conclusion_vec})\n",
    "final_table"
   ]
  },
  {
   "cell_type": "markdown",
   "metadata": {},
   "source": [
    "### Discussion\n",
    "\n",
    "As seen above, some of the features seem to have significant difference in their survived/not survived data points and thus could be use as good factors for predicting the survival of the passenger."
   ]
  },
  {
   "cell_type": "markdown",
   "metadata": {},
   "source": [
    "### 1.3 Preprocessing steps\n",
    "Take whatever pre-processing steps you believe are necessary for each variable in the dataset (for example, these might include normalization, standardization, log transforms, dummy-encoding, or dropping a variable altogether). For now, you can ignore null values in the dataset --- we'll come back to those later. Create a table describing the preprocessing step for each variable. Make sure the variables are alphabetized and your table is well-organized."
   ]
  },
  {
   "cell_type": "code",
   "execution_count": 98,
   "metadata": {},
   "outputs": [
    {
     "data": {
      "text/plain": [
       "PassengerId      int64\n",
       "Survived         int64\n",
       "Pclass           int64\n",
       "Name            object\n",
       "Sex              int64\n",
       "Age            float64\n",
       "SibSp            int64\n",
       "Parch            int64\n",
       "Ticket          object\n",
       "Fare           float64\n",
       "Cabin           object\n",
       "Embarked         int64\n",
       "dtype: object"
      ]
     },
     "execution_count": 98,
     "metadata": {},
     "output_type": "execute_result"
    }
   ],
   "source": [
    "# Your code here\n",
    "data.dtypes"
   ]
  },
  {
   "cell_type": "markdown",
   "metadata": {},
   "source": [
    "#### Remove unnecessary columns\n",
    "\n",
    "We can remove 'Ticket' and 'PassengerId', as they don't contribute to target class.\n",
    "Remove 'Cabin' as it has a lot of missing values in both train and test data"
   ]
  },
  {
   "cell_type": "code",
   "execution_count": 101,
   "metadata": {},
   "outputs": [],
   "source": [
    "train_data = data.drop(columns=['Ticket', 'PassengerId', 'Cabin'])"
   ]
  },
  {
   "cell_type": "code",
   "execution_count": 102,
   "metadata": {},
   "outputs": [
    {
     "data": {
      "text/html": [
       "<div>\n",
       "<style scoped>\n",
       "    .dataframe tbody tr th:only-of-type {\n",
       "        vertical-align: middle;\n",
       "    }\n",
       "\n",
       "    .dataframe tbody tr th {\n",
       "        vertical-align: top;\n",
       "    }\n",
       "\n",
       "    .dataframe thead th {\n",
       "        text-align: right;\n",
       "    }\n",
       "</style>\n",
       "<table border=\"1\" class=\"dataframe\">\n",
       "  <thead>\n",
       "    <tr style=\"text-align: right;\">\n",
       "      <th></th>\n",
       "      <th>Survived</th>\n",
       "      <th>Pclass</th>\n",
       "      <th>Name</th>\n",
       "      <th>Sex</th>\n",
       "      <th>Age</th>\n",
       "      <th>SibSp</th>\n",
       "      <th>Parch</th>\n",
       "      <th>Fare</th>\n",
       "      <th>Embarked</th>\n",
       "    </tr>\n",
       "  </thead>\n",
       "  <tbody>\n",
       "    <tr>\n",
       "      <th>0</th>\n",
       "      <td>0</td>\n",
       "      <td>2</td>\n",
       "      <td>Braund, Mr. Owen Harris</td>\n",
       "      <td>1</td>\n",
       "      <td>22.0</td>\n",
       "      <td>1</td>\n",
       "      <td>0</td>\n",
       "      <td>7.2500</td>\n",
       "      <td>2</td>\n",
       "    </tr>\n",
       "    <tr>\n",
       "      <th>1</th>\n",
       "      <td>1</td>\n",
       "      <td>0</td>\n",
       "      <td>Cumings, Mrs. John Bradley (Florence Briggs Th...</td>\n",
       "      <td>0</td>\n",
       "      <td>38.0</td>\n",
       "      <td>1</td>\n",
       "      <td>0</td>\n",
       "      <td>71.2833</td>\n",
       "      <td>0</td>\n",
       "    </tr>\n",
       "    <tr>\n",
       "      <th>2</th>\n",
       "      <td>1</td>\n",
       "      <td>2</td>\n",
       "      <td>Heikkinen, Miss. Laina</td>\n",
       "      <td>0</td>\n",
       "      <td>26.0</td>\n",
       "      <td>0</td>\n",
       "      <td>0</td>\n",
       "      <td>7.9250</td>\n",
       "      <td>2</td>\n",
       "    </tr>\n",
       "    <tr>\n",
       "      <th>3</th>\n",
       "      <td>1</td>\n",
       "      <td>0</td>\n",
       "      <td>Futrelle, Mrs. Jacques Heath (Lily May Peel)</td>\n",
       "      <td>0</td>\n",
       "      <td>35.0</td>\n",
       "      <td>1</td>\n",
       "      <td>0</td>\n",
       "      <td>53.1000</td>\n",
       "      <td>2</td>\n",
       "    </tr>\n",
       "    <tr>\n",
       "      <th>4</th>\n",
       "      <td>0</td>\n",
       "      <td>2</td>\n",
       "      <td>Allen, Mr. William Henry</td>\n",
       "      <td>1</td>\n",
       "      <td>35.0</td>\n",
       "      <td>0</td>\n",
       "      <td>0</td>\n",
       "      <td>8.0500</td>\n",
       "      <td>2</td>\n",
       "    </tr>\n",
       "  </tbody>\n",
       "</table>\n",
       "</div>"
      ],
      "text/plain": [
       "   Survived  Pclass                                               Name  Sex  \\\n",
       "0         0       2                            Braund, Mr. Owen Harris    1   \n",
       "1         1       0  Cumings, Mrs. John Bradley (Florence Briggs Th...    0   \n",
       "2         1       2                             Heikkinen, Miss. Laina    0   \n",
       "3         1       0       Futrelle, Mrs. Jacques Heath (Lily May Peel)    0   \n",
       "4         0       2                           Allen, Mr. William Henry    1   \n",
       "\n",
       "    Age  SibSp  Parch     Fare  Embarked  \n",
       "0  22.0      1      0   7.2500         2  \n",
       "1  38.0      1      0  71.2833         0  \n",
       "2  26.0      0      0   7.9250         2  \n",
       "3  35.0      1      0  53.1000         2  \n",
       "4  35.0      0      0   8.0500         2  "
      ]
     },
     "execution_count": 102,
     "metadata": {},
     "output_type": "execute_result"
    }
   ],
   "source": [
    "train_data.head()"
   ]
  },
  {
   "cell_type": "code",
   "execution_count": 103,
   "metadata": {},
   "outputs": [],
   "source": [
    "# Map 'Sex' and 'Embarked' to numerical values.\n",
    "train_data['Sex'] = train_data['Sex'].map({'male':0, 'female':1})\n",
    "train_data['Embarked'] = train_data['Embarked'].map({'C':0, 'Q':1, 'S':2})"
   ]
  },
  {
   "cell_type": "code",
   "execution_count": 104,
   "metadata": {},
   "outputs": [
    {
     "data": {
      "text/html": [
       "<div>\n",
       "<style scoped>\n",
       "    .dataframe tbody tr th:only-of-type {\n",
       "        vertical-align: middle;\n",
       "    }\n",
       "\n",
       "    .dataframe tbody tr th {\n",
       "        vertical-align: top;\n",
       "    }\n",
       "\n",
       "    .dataframe thead th {\n",
       "        text-align: right;\n",
       "    }\n",
       "</style>\n",
       "<table border=\"1\" class=\"dataframe\">\n",
       "  <thead>\n",
       "    <tr style=\"text-align: right;\">\n",
       "      <th></th>\n",
       "      <th>Survived</th>\n",
       "      <th>Pclass</th>\n",
       "      <th>Name</th>\n",
       "      <th>Sex</th>\n",
       "      <th>Age</th>\n",
       "      <th>SibSp</th>\n",
       "      <th>Parch</th>\n",
       "      <th>Fare</th>\n",
       "      <th>Embarked</th>\n",
       "    </tr>\n",
       "  </thead>\n",
       "  <tbody>\n",
       "    <tr>\n",
       "      <th>0</th>\n",
       "      <td>0</td>\n",
       "      <td>2</td>\n",
       "      <td>Braund, Mr. Owen Harris</td>\n",
       "      <td>NaN</td>\n",
       "      <td>22.0</td>\n",
       "      <td>1</td>\n",
       "      <td>0</td>\n",
       "      <td>7.2500</td>\n",
       "      <td>NaN</td>\n",
       "    </tr>\n",
       "    <tr>\n",
       "      <th>1</th>\n",
       "      <td>1</td>\n",
       "      <td>0</td>\n",
       "      <td>Cumings, Mrs. John Bradley (Florence Briggs Th...</td>\n",
       "      <td>NaN</td>\n",
       "      <td>38.0</td>\n",
       "      <td>1</td>\n",
       "      <td>0</td>\n",
       "      <td>71.2833</td>\n",
       "      <td>NaN</td>\n",
       "    </tr>\n",
       "    <tr>\n",
       "      <th>2</th>\n",
       "      <td>1</td>\n",
       "      <td>2</td>\n",
       "      <td>Heikkinen, Miss. Laina</td>\n",
       "      <td>NaN</td>\n",
       "      <td>26.0</td>\n",
       "      <td>0</td>\n",
       "      <td>0</td>\n",
       "      <td>7.9250</td>\n",
       "      <td>NaN</td>\n",
       "    </tr>\n",
       "    <tr>\n",
       "      <th>3</th>\n",
       "      <td>1</td>\n",
       "      <td>0</td>\n",
       "      <td>Futrelle, Mrs. Jacques Heath (Lily May Peel)</td>\n",
       "      <td>NaN</td>\n",
       "      <td>35.0</td>\n",
       "      <td>1</td>\n",
       "      <td>0</td>\n",
       "      <td>53.1000</td>\n",
       "      <td>NaN</td>\n",
       "    </tr>\n",
       "    <tr>\n",
       "      <th>4</th>\n",
       "      <td>0</td>\n",
       "      <td>2</td>\n",
       "      <td>Allen, Mr. William Henry</td>\n",
       "      <td>NaN</td>\n",
       "      <td>35.0</td>\n",
       "      <td>0</td>\n",
       "      <td>0</td>\n",
       "      <td>8.0500</td>\n",
       "      <td>NaN</td>\n",
       "    </tr>\n",
       "  </tbody>\n",
       "</table>\n",
       "</div>"
      ],
      "text/plain": [
       "   Survived  Pclass                                               Name  Sex  \\\n",
       "0         0       2                            Braund, Mr. Owen Harris  NaN   \n",
       "1         1       0  Cumings, Mrs. John Bradley (Florence Briggs Th...  NaN   \n",
       "2         1       2                             Heikkinen, Miss. Laina  NaN   \n",
       "3         1       0       Futrelle, Mrs. Jacques Heath (Lily May Peel)  NaN   \n",
       "4         0       2                           Allen, Mr. William Henry  NaN   \n",
       "\n",
       "    Age  SibSp  Parch     Fare  Embarked  \n",
       "0  22.0      1      0   7.2500       NaN  \n",
       "1  38.0      1      0  71.2833       NaN  \n",
       "2  26.0      0      0   7.9250       NaN  \n",
       "3  35.0      1      0  53.1000       NaN  \n",
       "4  35.0      0      0   8.0500       NaN  "
      ]
     },
     "execution_count": 104,
     "metadata": {},
     "output_type": "execute_result"
    }
   ],
   "source": [
    "train_data.head()"
   ]
  },
  {
   "cell_type": "markdown",
   "metadata": {},
   "source": [
    "#### Preprocess 'Name'\n",
    "\n",
    "Extarct title from name of the passenger and categorize them.\n",
    "Drop the column 'Name'"
   ]
  },
  {
   "cell_type": "code",
   "execution_count": 105,
   "metadata": {},
   "outputs": [],
   "source": [
    "train_data['Title'] = train_data.Name.str.extract(' ([A-Za-z]+)\\.', expand=False)\n",
    "train_data = train_data.drop(columns='Name')"
   ]
  },
  {
   "cell_type": "code",
   "execution_count": 107,
   "metadata": {},
   "outputs": [],
   "source": [
    "#train_data.Title.value_counts().plot('bar')"
   ]
  },
  {
   "cell_type": "code",
   "execution_count": 108,
   "metadata": {},
   "outputs": [],
   "source": [
    "train_data['Title'] = train_data['Title'].replace(['Dr', 'Rev', 'Col', 'Major', 'Countess', 'Sir', 'Jonkheer', 'Lady', 'Capt', 'Don'], 'Others')\n",
    "train_data['Title'] = train_data['Title'].replace('Ms', 'Miss')\n",
    "train_data['Title'] = train_data['Title'].replace('Mme', 'Mrs')\n",
    "train_data['Title'] = train_data['Title'].replace('Mlle', 'Miss')"
   ]
  },
  {
   "cell_type": "code",
   "execution_count": 110,
   "metadata": {},
   "outputs": [],
   "source": [
    "# plt = train_data.Title.value_counts().sort_index().plot('bar')\n",
    "# plt.set_xlabel('Title')\n",
    "# plt.set_ylabel('Passenger count')"
   ]
  },
  {
   "cell_type": "code",
   "execution_count": 112,
   "metadata": {},
   "outputs": [],
   "source": [
    "train_data['Title'] = train_data['Title'].map({'Master':0, 'Miss':1, 'Mr':2, 'Mrs':3, 'Others':4})"
   ]
  },
  {
   "cell_type": "code",
   "execution_count": 113,
   "metadata": {},
   "outputs": [
    {
     "data": {
      "text/html": [
       "<div>\n",
       "<style scoped>\n",
       "    .dataframe tbody tr th:only-of-type {\n",
       "        vertical-align: middle;\n",
       "    }\n",
       "\n",
       "    .dataframe tbody tr th {\n",
       "        vertical-align: top;\n",
       "    }\n",
       "\n",
       "    .dataframe thead th {\n",
       "        text-align: right;\n",
       "    }\n",
       "</style>\n",
       "<table border=\"1\" class=\"dataframe\">\n",
       "  <thead>\n",
       "    <tr style=\"text-align: right;\">\n",
       "      <th></th>\n",
       "      <th>Survived</th>\n",
       "      <th>Pclass</th>\n",
       "      <th>Sex</th>\n",
       "      <th>Age</th>\n",
       "      <th>SibSp</th>\n",
       "      <th>Parch</th>\n",
       "      <th>Fare</th>\n",
       "      <th>Embarked</th>\n",
       "      <th>Title</th>\n",
       "    </tr>\n",
       "  </thead>\n",
       "  <tbody>\n",
       "    <tr>\n",
       "      <th>0</th>\n",
       "      <td>0</td>\n",
       "      <td>2</td>\n",
       "      <td>NaN</td>\n",
       "      <td>22.0</td>\n",
       "      <td>1</td>\n",
       "      <td>0</td>\n",
       "      <td>7.2500</td>\n",
       "      <td>NaN</td>\n",
       "      <td>NaN</td>\n",
       "    </tr>\n",
       "    <tr>\n",
       "      <th>1</th>\n",
       "      <td>1</td>\n",
       "      <td>0</td>\n",
       "      <td>NaN</td>\n",
       "      <td>38.0</td>\n",
       "      <td>1</td>\n",
       "      <td>0</td>\n",
       "      <td>71.2833</td>\n",
       "      <td>NaN</td>\n",
       "      <td>NaN</td>\n",
       "    </tr>\n",
       "    <tr>\n",
       "      <th>2</th>\n",
       "      <td>1</td>\n",
       "      <td>2</td>\n",
       "      <td>NaN</td>\n",
       "      <td>26.0</td>\n",
       "      <td>0</td>\n",
       "      <td>0</td>\n",
       "      <td>7.9250</td>\n",
       "      <td>NaN</td>\n",
       "      <td>NaN</td>\n",
       "    </tr>\n",
       "    <tr>\n",
       "      <th>3</th>\n",
       "      <td>1</td>\n",
       "      <td>0</td>\n",
       "      <td>NaN</td>\n",
       "      <td>35.0</td>\n",
       "      <td>1</td>\n",
       "      <td>0</td>\n",
       "      <td>53.1000</td>\n",
       "      <td>NaN</td>\n",
       "      <td>NaN</td>\n",
       "    </tr>\n",
       "    <tr>\n",
       "      <th>4</th>\n",
       "      <td>0</td>\n",
       "      <td>2</td>\n",
       "      <td>NaN</td>\n",
       "      <td>35.0</td>\n",
       "      <td>0</td>\n",
       "      <td>0</td>\n",
       "      <td>8.0500</td>\n",
       "      <td>NaN</td>\n",
       "      <td>NaN</td>\n",
       "    </tr>\n",
       "  </tbody>\n",
       "</table>\n",
       "</div>"
      ],
      "text/plain": [
       "   Survived  Pclass  Sex   Age  SibSp  Parch     Fare  Embarked  Title\n",
       "0         0       2  NaN  22.0      1      0   7.2500       NaN    NaN\n",
       "1         1       0  NaN  38.0      1      0  71.2833       NaN    NaN\n",
       "2         1       2  NaN  26.0      0      0   7.9250       NaN    NaN\n",
       "3         1       0  NaN  35.0      1      0  53.1000       NaN    NaN\n",
       "4         0       2  NaN  35.0      0      0   8.0500       NaN    NaN"
      ]
     },
     "execution_count": 113,
     "metadata": {},
     "output_type": "execute_result"
    }
   ],
   "source": [
    "train_data.head()"
   ]
  },
  {
   "cell_type": "markdown",
   "metadata": {},
   "source": [
    "## Part 2: Decision Trees\n",
    "### 2.1 Decision Tree\n",
    "Using the basic [Decision Tree Classifier](http://scikit-learn.org/stable/modules/generated/sklearn.tree.DecisionTreeClassifier.html#sklearn.tree.DecisionTreeClassifier)  in sklearn, fit a model to predict titanic survival, using 10-fold cross-validation. For this and the following problems, you should set aside some (20%) of your training data as held-out test data, prior to cross-validation. \n",
    "\n",
    "Begin by using the default hyperparameters, and report the average training and cross-validated accuracy across the 10 folds.  Then, fit a single decision tree model on all of the training data (i.e., no cross-validation in this particular step), and report the performance of this fitted model on the held-out test data -- how does it compare to the cross-validated accuracy? Finally, show a diagram of this tree (at least the first three levels of splits), and provide a couple sentences interpreting the tree diagram.\n",
    "\n",
    "NOTE - You may drop columns with null values for now; we'll come back to those columns later in the problem set."
   ]
  },
  {
   "cell_type": "code",
   "execution_count": 21,
   "metadata": {},
   "outputs": [],
   "source": [
    "# Your code here\n"
   ]
  },
  {
   "cell_type": "code",
   "execution_count": 22,
   "metadata": {},
   "outputs": [],
   "source": [
    "#Imputing Embarked before label Encoding\n",
    "data.Embarked.fillna(data.Embarked.mode(), inplace=True)"
   ]
  },
  {
   "cell_type": "code",
   "execution_count": 23,
   "metadata": {},
   "outputs": [],
   "source": [
    "# Label Encoding\n",
    "le = preprocessing.LabelEncoder()\n",
    "data.Sex = le.fit_transform(data.Sex)\n",
    "data.Pclass = le.fit_transform(data.Pclass)\n",
    "data.SibSp = le.fit_transform(data.SibSp)\n",
    "data.Parch = le.fit_transform(data.Parch)\n",
    "data.Embarked= le.fit_transform(data.Embarked.astype(str))\n",
    "\n",
    "#Features Selection\n",
    "features_req = ['Pclass','Sex','Age','SibSp','Parch','Fare','Embarked','Survived']\n",
    "data_req = data[features_req]\n",
    "data_req = data_req.dropna(axis=0)"
   ]
  },
  {
   "cell_type": "code",
   "execution_count": 24,
   "metadata": {},
   "outputs": [
    {
     "name": "stdout",
     "output_type": "stream",
     "text": [
      "(571, 8)\n",
      "(143, 8)\n"
     ]
    }
   ],
   "source": [
    "#Train -Test split\n",
    "train, test= train_test_split(data_req,train_size = 0.8,random_state=123)\n",
    "print(train.shape)\n",
    "print(test.shape)"
   ]
  },
  {
   "cell_type": "code",
   "execution_count": 25,
   "metadata": {},
   "outputs": [],
   "source": [
    "#Feature Selection\n",
    "features= ['Pclass','Sex','Age','SibSp','Parch','Fare','Embarked']\n",
    "train_X = train[features]\n",
    "train_Y = train['Survived']\n",
    "test_X = test[features]\n",
    "test_Y = test['Survived']"
   ]
  },
  {
   "cell_type": "code",
   "execution_count": 26,
   "metadata": {},
   "outputs": [],
   "source": [
    "model_1 = DecisionTreeClassifier(random_state=11)\n",
    "cross_validation_result = cross_validate(model_1, train_X, train_Y, cv=10,return_train_score=True,return_estimator=True)\n",
    "fold_number = list(range(1,11,1))\n",
    "fold_accuracy = pd.DataFrame({\"Fold\": fold_number, \"TrainAccuracy\": cross_validation_result['train_score'],\"TestAccuracy\":cross_validation_result['test_score']})"
   ]
  },
  {
   "cell_type": "code",
   "execution_count": 27,
   "metadata": {},
   "outputs": [
    {
     "data": {
      "text/plain": [
       "0.7566243194192376"
      ]
     },
     "execution_count": 27,
     "metadata": {},
     "output_type": "execute_result"
    }
   ],
   "source": [
    "# Average Cross-Validated Accuracy\n",
    "fold_accuracy.TestAccuracy.mean()"
   ]
  },
  {
   "cell_type": "code",
   "execution_count": 28,
   "metadata": {},
   "outputs": [
    {
     "data": {
      "text/plain": [
       "0.7762237762237763"
      ]
     },
     "execution_count": 28,
     "metadata": {},
     "output_type": "execute_result"
    }
   ],
   "source": [
    "#Best model's Performance on Hold-out Test data  \n",
    "best_fold = fold_accuracy.TestAccuracy.idxmax()\n",
    "best_model = cross_validation_result['estimator'][best_fold]\n",
    "accuracy_score(test_Y, best_model.predict(test_X))"
   ]
  },
  {
   "cell_type": "code",
   "execution_count": 29,
   "metadata": {},
   "outputs": [
    {
     "data": {
      "image/png": "[encoded data removed]",
      "text/plain": [
       "<Figure size 1800x720 with 1 Axes>"
      ]
     },
     "metadata": {
      "needs_background": "light"
     },
     "output_type": "display_data"
    }
   ],
   "source": [
    "#upto 3 level epresentation of the Best fit model\n",
    "from sklearn.tree import plot_tree\n",
    "\n",
    "plt.figure(figsize=(25,10))\n",
    "a = plot_tree(best_model, \n",
    "              feature_names=features, \n",
    "              class_names=\"Survived\", \n",
    "              max_depth=3,\n",
    "              filled=True, \n",
    "              rounded=True, \n",
    "              fontsize=14)"
   ]
  },
  {
   "cell_type": "markdown",
   "metadata": {},
   "source": [
    "### Discussion\n",
    "\n",
    "Cross-validated accuracy and the performance of best fold model on the test data are quite comparable:\n",
    "- Cross Validated Accuracy: 75.29%\n",
    "- Accuracy on Test Set: 77.62%"
   ]
  },
  {
   "cell_type": "markdown",
   "metadata": {},
   "source": [
    "### 2.2 Hyperparameter: Maximum Depth\n",
    "\n",
    "Use all of the data (minus the held-out data) to re-fit a single decision tree with `max_depth = 4` (i.e., no cross-validation). Show the tree diagram and also plot the feature importance. What do you observe? How does the performance of this tree compare to the tree from 2.1?"
   ]
  },
  {
   "cell_type": "code",
   "execution_count": 30,
   "metadata": {},
   "outputs": [
    {
     "name": "stdout",
     "output_type": "stream",
     "text": [
      "Train Accuracy:\n",
      "0.8458844133099825\n",
      "\n",
      "Test Accuracy:\n",
      "0.8251748251748252\n"
     ]
    }
   ],
   "source": [
    "# Your code here\n",
    "#fitting the model\n",
    "model_2 = DecisionTreeClassifier(max_depth=4)\n",
    "model_2.fit(train_X, train_Y)\n",
    "\n",
    "train_predicted = model_2.predict(train_X)\n",
    "test_predicted = model_2.predict(test_X)\n",
    "\n",
    "#Train Accuracy\n",
    "print(\"Train Accuracy:\")\n",
    "print(accuracy_score(train_Y, train_predicted))\n",
    "\n",
    "#Test Accuracy\n",
    "print()\n",
    "print(\"Test Accuracy:\")\n",
    "print(accuracy_score(test_Y, test_predicted))"
   ]
  },
  {
   "cell_type": "code",
   "execution_count": 31,
   "metadata": {},
   "outputs": [
    {
     "data": {
      "image/png": "[encoded data removed]",
      "text/plain": [
       "<Figure size 1800x720 with 1 Axes>"
      ]
     },
     "metadata": {
      "needs_background": "light"
     },
     "output_type": "display_data"
    }
   ],
   "source": [
    "#Tree Diagram\n",
    "plt.figure(figsize=(25,10))\n",
    "a = plot_tree(model_2, \n",
    "              feature_names=features, \n",
    "              class_names=\"Survived\", \n",
    "              filled=True, \n",
    "              rounded=True, \n",
    "              fontsize=14)"
   ]
  },
  {
   "cell_type": "code",
   "execution_count": 32,
   "metadata": {},
   "outputs": [
    {
     "data": {
      "image/png": "[encoded data removed]",
      "text/plain": [
       "<Figure size 576x576 with 1 Axes>"
      ]
     },
     "metadata": {
      "needs_background": "light"
     },
     "output_type": "display_data"
    }
   ],
   "source": [
    "#Feature Importances\n",
    "\n",
    "plt.figure(figsize=(8,8))\n",
    "\n",
    "importances = model_2.feature_importances_\n",
    "\n",
    "# Sort feature importances in descending order\n",
    "indices = np.argsort(importances)[::-1]\n",
    "\n",
    "# Rearrange feature names so they match the sorted feature importances\n",
    "names = [train_X.columns[i] for i in indices]\n",
    "\n",
    "# Create plot title\n",
    "plt.title(\"Feature Importance for model with max_depth =4\")\n",
    "\n",
    "# Add bars\n",
    "plt.bar(range(train_X.shape[1]), importances[indices])\n",
    "\n",
    "# Add feature names as x-axis labels\n",
    "plt.xticks(range(train_X.shape[1]), names, rotation=90);"
   ]
  },
  {
   "cell_type": "markdown",
   "metadata": {},
   "source": [
    "### Discussion\n",
    "\n",
    "- Train and Test Accuracy is comparable and better than 2.1 (around 82-84%)\n",
    "- Sex is the most important feature (it appears in the top most split in the Tree representation as well)"
   ]
  },
  {
   "cell_type": "markdown",
   "metadata": {},
   "source": [
    "### 2.3  Tuning Hyperparameters\n",
    "The built-in algorithm you are using has several parameters which you can tune. Using cross-validation, show how the choice of these parameters affects performance.\n",
    "\n",
    "First, show how `max_depth` affects train and cross-validated accuracy. On a single axis, plot train and cross-validated accuracy as a function of `max_depth`. Use a red line to show cross-validated accuracy and a blue line to show train accuracy. Do not use your held-out test data yet.\n",
    "\n",
    "Second, show how cross-validated accuracy relates to both `max_depth` and `min_samples_leaf`. Specifically, create a 3-D plot where the x-axis is `max_depth`, the y-axis is `min_samples_leaf`, and the z-axis shows cross-validated accuracy. What combination of `max_depth` and `min-samples_leaf` achieves the highest accuracy? How sensitive are the results to these two parameters?\n",
    "\n",
    "Finally, select the the best hyperparameters that you got through cross-validation, and fit a single decision tree on all of the training data using those hyperparameters. Display this tree and report the accuracy of this tree on the held-out data."
   ]
  },
  {
   "cell_type": "code",
   "execution_count": 33,
   "metadata": {},
   "outputs": [
    {
     "data": {
      "text/html": [
       "<div>\n",
       "<style scoped>\n",
       "    .dataframe tbody tr th:only-of-type {\n",
       "        vertical-align: middle;\n",
       "    }\n",
       "\n",
       "    .dataframe tbody tr th {\n",
       "        vertical-align: top;\n",
       "    }\n",
       "\n",
       "    .dataframe thead th {\n",
       "        text-align: right;\n",
       "    }\n",
       "</style>\n",
       "<table border=\"1\" class=\"dataframe\">\n",
       "  <thead>\n",
       "    <tr style=\"text-align: right;\">\n",
       "      <th></th>\n",
       "      <th>max_depth</th>\n",
       "      <th>Train_accuracy</th>\n",
       "      <th>Test_accuracy</th>\n",
       "    </tr>\n",
       "  </thead>\n",
       "  <tbody>\n",
       "    <tr>\n",
       "      <th>0</th>\n",
       "      <td>3</td>\n",
       "      <td>0.827496</td>\n",
       "      <td>0.786285</td>\n",
       "    </tr>\n",
       "    <tr>\n",
       "      <th>1</th>\n",
       "      <td>4</td>\n",
       "      <td>0.843697</td>\n",
       "      <td>0.802059</td>\n",
       "    </tr>\n",
       "    <tr>\n",
       "      <th>2</th>\n",
       "      <td>5</td>\n",
       "      <td>0.859020</td>\n",
       "      <td>0.805599</td>\n",
       "    </tr>\n",
       "    <tr>\n",
       "      <th>3</th>\n",
       "      <td>6</td>\n",
       "      <td>0.878719</td>\n",
       "      <td>0.782853</td>\n",
       "    </tr>\n",
       "    <tr>\n",
       "      <th>4</th>\n",
       "      <td>7</td>\n",
       "      <td>0.899300</td>\n",
       "      <td>0.775820</td>\n",
       "    </tr>\n",
       "    <tr>\n",
       "      <th>5</th>\n",
       "      <td>8</td>\n",
       "      <td>0.917690</td>\n",
       "      <td>0.777590</td>\n",
       "    </tr>\n",
       "    <tr>\n",
       "      <th>6</th>\n",
       "      <td>9</td>\n",
       "      <td>0.936956</td>\n",
       "      <td>0.788040</td>\n",
       "    </tr>\n",
       "  </tbody>\n",
       "</table>\n",
       "</div>"
      ],
      "text/plain": [
       "   max_depth  Train_accuracy  Test_accuracy\n",
       "0          3        0.827496       0.786285\n",
       "1          4        0.843697       0.802059\n",
       "2          5        0.859020       0.805599\n",
       "3          6        0.878719       0.782853\n",
       "4          7        0.899300       0.775820\n",
       "5          8        0.917690       0.777590\n",
       "6          9        0.936956       0.788040"
      ]
     },
     "execution_count": 33,
     "metadata": {},
     "output_type": "execute_result"
    }
   ],
   "source": [
    "# Your code here\n",
    "#Effect of Max_depth \n",
    "max_depths = [3,4,5,6,7,8,9]\n",
    "max_depth_cv_train_accuracy = []\n",
    "max_depth_cv_test_accuracy = []\n",
    "\n",
    "for maxDepth in max_depths:         \n",
    "    # Initialize and fit the model\n",
    "    model = DecisionTreeClassifier(max_depth=maxDepth)\n",
    "    result = cross_validate(model, train_X, train_Y,cv=5,return_train_score=True)\n",
    "    max_depth_cv_train_accuracy.append(result['train_score'].mean())\n",
    "    max_depth_cv_test_accuracy.append(result['test_score'].mean())\n",
    "\n",
    "result=pd.DataFrame({\"max_depth\":max_depths,\"Train_accuracy\":max_depth_cv_train_accuracy, \"Test_accuracy\":max_depth_cv_test_accuracy})\n",
    "result"
   ]
  },
  {
   "cell_type": "code",
   "execution_count": 34,
   "metadata": {},
   "outputs": [
    {
     "data": {
      "image/png": "[encoded data removed]",
      "text/plain": [
       "<Figure size 504x360 with 1 Axes>"
      ]
     },
     "metadata": {
      "needs_background": "light"
     },
     "output_type": "display_data"
    }
   ],
   "source": [
    "fig, ax = plt.subplots(figsize=(7,5))\n",
    "\n",
    "ax.plot(result.max_depth, result.Train_accuracy, '+-', c='blue', label='Train')\n",
    "ax.plot(result.max_depth, result.Test_accuracy, '+-', c='red', label='Test')\n",
    "\n",
    "ax.legend()\n",
    "ax.set_xlabel('Max Depth')\n",
    "ax.set_ylabel('Accuracy');"
   ]
  },
  {
   "cell_type": "code",
   "execution_count": 35,
   "metadata": {},
   "outputs": [],
   "source": [
    "#Effect of max_depth and min_samples_leaf\n",
    "max_depths = [3,4,5,6,7,8,9]\n",
    "min_samples_leafs = [10,20,30,40,50]\n",
    "max_depth_cv_train_accuracy = []\n",
    "max_depth_cv_test_accuracy = []\n",
    "maxDepthlist=[]\n",
    "minSampleList=[]\n",
    "\n",
    "for maxDepth in max_depths:         \n",
    "    for minSample in min_samples_leafs:         \n",
    "        # Initialize and fit the model\n",
    "        model = DecisionTreeClassifier(max_depth=maxDepth,min_samples_leaf=minSample)\n",
    "        result = cross_validate(model, train_X, train_Y,cv=5,return_train_score=True)\n",
    "        max_depth_cv_train_accuracy.append(result['train_score'].mean())\n",
    "        max_depth_cv_test_accuracy.append(result['test_score'].mean())\n",
    "        maxDepthlist.append(maxDepth)\n",
    "        minSampleList.append(minSample)\n",
    "\n",
    "result=pd.DataFrame({\"max_depth\":maxDepthlist,\"min_sample_leaf\":minSampleList,\"Train_accuracy\":max_depth_cv_train_accuracy, \"Test_accuracy\":max_depth_cv_test_accuracy})"
   ]
  },
  {
   "cell_type": "code",
   "execution_count": 36,
   "metadata": {},
   "outputs": [
    {
     "data": {
      "image/png": "[encoded data removed]",
      "text/plain": [
       "<Figure size 720x720 with 1 Axes>"
      ]
     },
     "metadata": {
      "needs_background": "light"
     },
     "output_type": "display_data"
    }
   ],
   "source": [
    "from mpl_toolkits import mplot3d\n",
    "\n",
    "fig = plt.figure(figsize=(10,10))\n",
    "ax = plt.axes(projection='3d')\n",
    "ax.scatter3D(result.max_depth, result.min_sample_leaf, result.Test_accuracy,cmap='Greens');"
   ]
  },
  {
   "cell_type": "code",
   "execution_count": 37,
   "metadata": {},
   "outputs": [
    {
     "data": {
      "text/plain": [
       "max_depth           5.000000\n",
       "min_sample_leaf    10.000000\n",
       "Train_accuracy      0.840192\n",
       "Test_accuracy       0.791625\n",
       "Name: 10, dtype: float64"
      ]
     },
     "execution_count": 37,
     "metadata": {},
     "output_type": "execute_result"
    }
   ],
   "source": [
    "#Best Parameters\n",
    "result.iloc[result.Test_accuracy.idxmax(),:]"
   ]
  },
  {
   "cell_type": "markdown",
   "metadata": {},
   "source": [
    "### Discussion\n",
    "\n",
    "- Seeing the graphs above, as max_depth increases, traning accuracy keeps on increasing. On the other hand, test accuracy first increases and then starts decreasing\n",
    "- Comparing max_depth and min_samples_leaf together,the result changes rapidly. For a max_depth value, with increase in min_sample_leaf value, decreases the accuracy\n",
    "- The best combination is found at max_depth of 5 with min_sample_leaf of 10"
   ]
  },
  {
   "cell_type": "markdown",
   "metadata": {},
   "source": [
    "### 2.4 Support Vector Machines, for comparison\n",
    "\n",
    "As a starting point, use the basic [sklearn SVM model](https://scikit-learn.org/stable/modules/svm.html), with the default constant penalization (C=1), to predict survival using the same set of features as above. Report your accuracy on the test and train sets.\n",
    "\n",
    "Next, use cross-validation to determine a possibly better choice for C. Note that regularization is inversely proportional to the value of C in sklearn, i.e. the higher value you choose for C the less you regularize. Plot a graph with C on the x-axis and cross-validated accuracy on the y-axis.\n",
    "    \n",
    "    \n",
    "How does the test performance with SVM for your best choice of C compare to the decision tree from 2.3?"
   ]
  },
  {
   "cell_type": "code",
   "execution_count": 38,
   "metadata": {},
   "outputs": [
    {
     "name": "stdout",
     "output_type": "stream",
     "text": [
      "Train Accuracy:\n",
      "0.7880910683012259\n",
      "\n",
      "Test Accuracy:\n",
      "0.7482517482517482\n"
     ]
    }
   ],
   "source": [
    "# Your code here\n",
    "#Linear SVM model with C=1 \n",
    "from sklearn.svm import SVC\n",
    "\n",
    "SVMClassifier = SVC(C=1, kernel='linear', random_state=11)\n",
    "SVMClassifier.fit(train_X, train_Y)\n",
    "\n",
    "train_predicted = SVMClassifier.predict(train_X)\n",
    "test_predicted = SVMClassifier.predict(test_X)\n",
    "\n",
    "#Train Accuracy\n",
    "print(\"Train Accuracy:\")\n",
    "print(accuracy_score(train_Y, train_predicted))\n",
    "\n",
    "#Test Accuracy\n",
    "print()\n",
    "print(\"Test Accuracy:\")\n",
    "print(accuracy_score(test_Y, test_predicted))"
   ]
  },
  {
   "cell_type": "code",
   "execution_count": 39,
   "metadata": {},
   "outputs": [
    {
     "data": {
      "text/html": [
       "<div>\n",
       "<style scoped>\n",
       "    .dataframe tbody tr th:only-of-type {\n",
       "        vertical-align: middle;\n",
       "    }\n",
       "\n",
       "    .dataframe tbody tr th {\n",
       "        vertical-align: top;\n",
       "    }\n",
       "\n",
       "    .dataframe thead th {\n",
       "        text-align: right;\n",
       "    }\n",
       "</style>\n",
       "<table border=\"1\" class=\"dataframe\">\n",
       "  <thead>\n",
       "    <tr style=\"text-align: right;\">\n",
       "      <th></th>\n",
       "      <th>C</th>\n",
       "      <th>Train_accuracy</th>\n",
       "      <th>Test_accuracy</th>\n",
       "    </tr>\n",
       "  </thead>\n",
       "  <tbody>\n",
       "    <tr>\n",
       "      <th>0</th>\n",
       "      <td>0.01</td>\n",
       "      <td>0.732042</td>\n",
       "      <td>0.726766</td>\n",
       "    </tr>\n",
       "    <tr>\n",
       "      <th>1</th>\n",
       "      <td>0.10</td>\n",
       "      <td>0.789840</td>\n",
       "      <td>0.786323</td>\n",
       "    </tr>\n",
       "    <tr>\n",
       "      <th>2</th>\n",
       "      <td>1.00</td>\n",
       "      <td>0.789840</td>\n",
       "      <td>0.788068</td>\n",
       "    </tr>\n",
       "    <tr>\n",
       "      <th>3</th>\n",
       "      <td>10.00</td>\n",
       "      <td>0.789840</td>\n",
       "      <td>0.788068</td>\n",
       "    </tr>\n",
       "    <tr>\n",
       "      <th>4</th>\n",
       "      <td>100.00</td>\n",
       "      <td>0.791590</td>\n",
       "      <td>0.789832</td>\n",
       "    </tr>\n",
       "  </tbody>\n",
       "</table>\n",
       "</div>"
      ],
      "text/plain": [
       "        C  Train_accuracy  Test_accuracy\n",
       "0    0.01        0.732042       0.726766\n",
       "1    0.10        0.789840       0.786323\n",
       "2    1.00        0.789840       0.788068\n",
       "3   10.00        0.789840       0.788068\n",
       "4  100.00        0.791590       0.789832"
      ]
     },
     "execution_count": 39,
     "metadata": {},
     "output_type": "execute_result"
    }
   ],
   "source": [
    "#Cross-validation to identify best C\n",
    "\n",
    "#Effect of Max_depth \n",
    "C_list = [0.01,0.1,1,10,100]\n",
    "c_cv_train_accuracy = []\n",
    "c_cv_test_accuracy = []\n",
    "\n",
    "for c in C_list:         \n",
    "    # Initialize and fit the model\n",
    "    model = SVC(C=c, kernel='linear')\n",
    "    result = cross_validate(model, train_X, train_Y,cv=3,return_train_score=True)\n",
    "    c_cv_train_accuracy.append(result['train_score'].mean())\n",
    "    c_cv_test_accuracy.append(result['test_score'].mean())\n",
    "\n",
    "result=pd.DataFrame({\"C\":C_list,\"Train_accuracy\":c_cv_train_accuracy, \"Test_accuracy\":c_cv_test_accuracy})\n",
    "result"
   ]
  },
  {
   "cell_type": "markdown",
   "metadata": {},
   "source": [
    "### Discussion\n",
    "\n",
    "- There is not much difference observed with different values of C\n",
    "- The best C observed is C = 100 (least regularization)\n",
    "- Comparing with 2.3, with best SVM model, cross-validation accuracy is 78.98% and best Decision Tree also had similar accuracy of 79.14%"
   ]
  },
  {
   "cell_type": "markdown",
   "metadata": {},
   "source": [
    "### 2.5 Missing Data, Imputation and Feature Engineering\n",
    "\n",
    "Have you been paying close attention to your features? If not, now is a good time to start. Perform analysis that allows you to answer the following questions:\n",
    "* Recall from part 1 that some features have missing data. Which features have missingness?\n",
    "* Try running the decision tree and SVM models from part 1 using all columns, including those with missing data. What happens?\n",
    "* Use one of the methods we discussed in class to impute missing values for each feature. For each feature with missingness, describe the method used and why it is appropriate to the feature.\n",
    "* Find a way to engineer meaningful features from the \"Name\" and/or \"Cabin\" fields in the data.\n",
    "* Rerun your decision tree and SVM on the new dataset with imputed missing values and the new features, including re-selecting hyperparameters via cross validation. What do you notice?"
   ]
  },
  {
   "cell_type": "code",
   "execution_count": 40,
   "metadata": {},
   "outputs": [
    {
     "data": {
      "text/plain": [
       "PassengerId      0\n",
       "Survived         0\n",
       "Pclass           0\n",
       "Name             0\n",
       "Sex              0\n",
       "Age            177\n",
       "SibSp            0\n",
       "Parch            0\n",
       "Ticket           0\n",
       "Fare             0\n",
       "Cabin          687\n",
       "Embarked         0\n",
       "dtype: int64"
      ]
     },
     "execution_count": 40,
     "metadata": {},
     "output_type": "execute_result"
    }
   ],
   "source": [
    "# Your code here\n",
    "# Missing values in different features  (already imputed 2 missing values from Embarked)\n",
    "data.isnull().sum()"
   ]
  },
  {
   "cell_type": "code",
   "execution_count": 41,
   "metadata": {},
   "outputs": [
    {
     "data": {
      "text/plain": [
       "PassengerId    0.000000\n",
       "Survived       0.000000\n",
       "Pclass         0.000000\n",
       "Name           0.000000\n",
       "Sex            0.000000\n",
       "Age            0.198653\n",
       "SibSp          0.000000\n",
       "Parch          0.000000\n",
       "Ticket         0.000000\n",
       "Fare           0.000000\n",
       "Cabin          0.771044\n",
       "Embarked       0.000000\n",
       "dtype: float64"
      ]
     },
     "execution_count": 41,
     "metadata": {},
     "output_type": "execute_result"
    }
   ],
   "source": [
    "# Percentage of Missing values in different features \n",
    "data.isnull().sum()/len(data)"
   ]
  },
  {
   "cell_type": "code",
   "execution_count": 42,
   "metadata": {},
   "outputs": [],
   "source": [
    "#Imputing Missing values for age with its mean\n",
    "data.Age.fillna(data.Age.mean(), inplace=True)"
   ]
  },
  {
   "cell_type": "code",
   "execution_count": 43,
   "metadata": {},
   "outputs": [
    {
     "name": "stdout",
     "output_type": "stream",
     "text": [
      "(712, 8)\n",
      "(179, 8)\n"
     ]
    }
   ],
   "source": [
    "#Features Selection\n",
    "features_req = ['Pclass','Sex','Age','SibSp','Parch','Fare','Embarked','Survived']\n",
    "data_imputed = data[features_req]\n",
    "\n",
    "#Train -Test split\n",
    "train, test= train_test_split(data_imputed,train_size = 0.8,random_state=123)\n",
    "print(train.shape)\n",
    "print(test.shape)\n",
    "\n",
    "#Feature Selection\n",
    "features= ['Pclass','Sex','Age','SibSp','Parch','Fare','Embarked']\n",
    "train_X = train[features]\n",
    "train_Y = train['Survived']\n",
    "test_X = test[features]\n",
    "test_Y = test['Survived']"
   ]
  },
  {
   "cell_type": "code",
   "execution_count": 44,
   "metadata": {},
   "outputs": [],
   "source": [
    "#Training Decision Tree on imputed data\n",
    "\n",
    "model = DecisionTreeClassifier(random_state=11)\n",
    "cross_validation_result = cross_validate(model, train_X, train_Y, cv=10,return_train_score=True,return_estimator=True)\n",
    "fold_number = list(range(1,11,1))\n",
    "fold_accuracy = pd.DataFrame({\"Fold\": fold_number, \"TrainAccuracy\": cross_validation_result['train_score'],\"TestAccuracy\":cross_validation_result['test_score']})"
   ]
  },
  {
   "cell_type": "code",
   "execution_count": 45,
   "metadata": {},
   "outputs": [
    {
     "data": {
      "text/html": [
       "<div>\n",
       "<style scoped>\n",
       "    .dataframe tbody tr th:only-of-type {\n",
       "        vertical-align: middle;\n",
       "    }\n",
       "\n",
       "    .dataframe tbody tr th {\n",
       "        vertical-align: top;\n",
       "    }\n",
       "\n",
       "    .dataframe thead th {\n",
       "        text-align: right;\n",
       "    }\n",
       "</style>\n",
       "<table border=\"1\" class=\"dataframe\">\n",
       "  <thead>\n",
       "    <tr style=\"text-align: right;\">\n",
       "      <th></th>\n",
       "      <th>Fold</th>\n",
       "      <th>TrainAccuracy</th>\n",
       "      <th>TestAccuracy</th>\n",
       "    </tr>\n",
       "  </thead>\n",
       "  <tbody>\n",
       "    <tr>\n",
       "      <th>0</th>\n",
       "      <td>1</td>\n",
       "      <td>0.985938</td>\n",
       "      <td>0.791667</td>\n",
       "    </tr>\n",
       "    <tr>\n",
       "      <th>1</th>\n",
       "      <td>2</td>\n",
       "      <td>0.982812</td>\n",
       "      <td>0.805556</td>\n",
       "    </tr>\n",
       "    <tr>\n",
       "      <th>2</th>\n",
       "      <td>3</td>\n",
       "      <td>0.982839</td>\n",
       "      <td>0.774648</td>\n",
       "    </tr>\n",
       "    <tr>\n",
       "      <th>3</th>\n",
       "      <td>4</td>\n",
       "      <td>0.981279</td>\n",
       "      <td>0.774648</td>\n",
       "    </tr>\n",
       "    <tr>\n",
       "      <th>4</th>\n",
       "      <td>5</td>\n",
       "      <td>0.984399</td>\n",
       "      <td>0.760563</td>\n",
       "    </tr>\n",
       "    <tr>\n",
       "      <th>5</th>\n",
       "      <td>6</td>\n",
       "      <td>0.981279</td>\n",
       "      <td>0.760563</td>\n",
       "    </tr>\n",
       "    <tr>\n",
       "      <th>6</th>\n",
       "      <td>7</td>\n",
       "      <td>0.987520</td>\n",
       "      <td>0.760563</td>\n",
       "    </tr>\n",
       "    <tr>\n",
       "      <th>7</th>\n",
       "      <td>8</td>\n",
       "      <td>0.982839</td>\n",
       "      <td>0.816901</td>\n",
       "    </tr>\n",
       "    <tr>\n",
       "      <th>8</th>\n",
       "      <td>9</td>\n",
       "      <td>0.979719</td>\n",
       "      <td>0.774648</td>\n",
       "    </tr>\n",
       "    <tr>\n",
       "      <th>9</th>\n",
       "      <td>10</td>\n",
       "      <td>0.981279</td>\n",
       "      <td>0.788732</td>\n",
       "    </tr>\n",
       "  </tbody>\n",
       "</table>\n",
       "</div>"
      ],
      "text/plain": [
       "   Fold  TrainAccuracy  TestAccuracy\n",
       "0     1       0.985938      0.791667\n",
       "1     2       0.982812      0.805556\n",
       "2     3       0.982839      0.774648\n",
       "3     4       0.981279      0.774648\n",
       "4     5       0.984399      0.760563\n",
       "5     6       0.981279      0.760563\n",
       "6     7       0.987520      0.760563\n",
       "7     8       0.982839      0.816901\n",
       "8     9       0.979719      0.774648\n",
       "9    10       0.981279      0.788732"
      ]
     },
     "execution_count": 45,
     "metadata": {},
     "output_type": "execute_result"
    }
   ],
   "source": [
    "fold_accuracy"
   ]
  },
  {
   "cell_type": "code",
   "execution_count": 46,
   "metadata": {},
   "outputs": [
    {
     "data": {
      "text/plain": [
       "0.7808489827856026"
      ]
     },
     "execution_count": 46,
     "metadata": {},
     "output_type": "execute_result"
    }
   ],
   "source": [
    "fold_accuracy.TestAccuracy.mean()"
   ]
  },
  {
   "cell_type": "code",
   "execution_count": 47,
   "metadata": {},
   "outputs": [
    {
     "data": {
      "text/html": [
       "<div>\n",
       "<style scoped>\n",
       "    .dataframe tbody tr th:only-of-type {\n",
       "        vertical-align: middle;\n",
       "    }\n",
       "\n",
       "    .dataframe tbody tr th {\n",
       "        vertical-align: top;\n",
       "    }\n",
       "\n",
       "    .dataframe thead th {\n",
       "        text-align: right;\n",
       "    }\n",
       "</style>\n",
       "<table border=\"1\" class=\"dataframe\">\n",
       "  <thead>\n",
       "    <tr style=\"text-align: right;\">\n",
       "      <th></th>\n",
       "      <th>max_depth</th>\n",
       "      <th>Train_accuracy</th>\n",
       "      <th>Test_accuracy</th>\n",
       "    </tr>\n",
       "  </thead>\n",
       "  <tbody>\n",
       "    <tr>\n",
       "      <th>0</th>\n",
       "      <td>3</td>\n",
       "      <td>0.825493</td>\n",
       "      <td>0.803359</td>\n",
       "    </tr>\n",
       "    <tr>\n",
       "      <th>1</th>\n",
       "      <td>4</td>\n",
       "      <td>0.838482</td>\n",
       "      <td>0.810381</td>\n",
       "    </tr>\n",
       "    <tr>\n",
       "      <th>2</th>\n",
       "      <td>5</td>\n",
       "      <td>0.850419</td>\n",
       "      <td>0.793549</td>\n",
       "    </tr>\n",
       "    <tr>\n",
       "      <th>3</th>\n",
       "      <td>6</td>\n",
       "      <td>0.870436</td>\n",
       "      <td>0.800542</td>\n",
       "    </tr>\n",
       "    <tr>\n",
       "      <th>4</th>\n",
       "      <td>7</td>\n",
       "      <td>0.889044</td>\n",
       "      <td>0.796346</td>\n",
       "    </tr>\n",
       "    <tr>\n",
       "      <th>5</th>\n",
       "      <td>8</td>\n",
       "      <td>0.908360</td>\n",
       "      <td>0.789343</td>\n",
       "    </tr>\n",
       "    <tr>\n",
       "      <th>6</th>\n",
       "      <td>9</td>\n",
       "      <td>0.925916</td>\n",
       "      <td>0.782252</td>\n",
       "    </tr>\n",
       "  </tbody>\n",
       "</table>\n",
       "</div>"
      ],
      "text/plain": [
       "   max_depth  Train_accuracy  Test_accuracy\n",
       "0          3        0.825493       0.803359\n",
       "1          4        0.838482       0.810381\n",
       "2          5        0.850419       0.793549\n",
       "3          6        0.870436       0.800542\n",
       "4          7        0.889044       0.796346\n",
       "5          8        0.908360       0.789343\n",
       "6          9        0.925916       0.782252"
      ]
     },
     "execution_count": 47,
     "metadata": {},
     "output_type": "execute_result"
    }
   ],
   "source": [
    "#Effect of Max_depth \n",
    "max_depths = [3,4,5,6,7,8,9]\n",
    "max_depth_cv_train_accuracy = []\n",
    "max_depth_cv_test_accuracy = []\n",
    "\n",
    "for maxDepth in max_depths:         \n",
    "    # Initialize and fit the model\n",
    "    model = DecisionTreeClassifier(max_depth=maxDepth)\n",
    "    result = cross_validate(model, train_X, train_Y,cv=5,return_train_score=True)\n",
    "    max_depth_cv_train_accuracy.append(result['train_score'].mean())\n",
    "    max_depth_cv_test_accuracy.append(result['test_score'].mean())\n",
    "\n",
    "result=pd.DataFrame({\"max_depth\":max_depths,\"Train_accuracy\":max_depth_cv_train_accuracy, \"Test_accuracy\":max_depth_cv_test_accuracy})\n",
    "result"
   ]
  },
  {
   "cell_type": "code",
   "execution_count": 48,
   "metadata": {},
   "outputs": [
    {
     "data": {
      "image/png": "[encoded data removed]",
      "text/plain": [
       "<Figure size 504x360 with 1 Axes>"
      ]
     },
     "metadata": {
      "needs_background": "light"
     },
     "output_type": "display_data"
    }
   ],
   "source": [
    "fig, ax = plt.subplots(figsize=(7,5))\n",
    "\n",
    "ax.plot(result.max_depth, result.Train_accuracy, '+-', c='blue', label='Train')\n",
    "ax.plot(result.max_depth, result.Test_accuracy, '+-', c='red', label='Test')\n",
    "\n",
    "ax.legend()\n",
    "ax.set_xlabel('Max Depth')\n",
    "ax.set_ylabel('Accuracy');"
   ]
  },
  {
   "cell_type": "code",
   "execution_count": 49,
   "metadata": {},
   "outputs": [
    {
     "name": "stdout",
     "output_type": "stream",
     "text": [
      "Train Accuracy:\n",
      "0.7837078651685393\n",
      "\n",
      "Test Accuracy:\n",
      "0.7988826815642458\n"
     ]
    }
   ],
   "source": [
    "#Fitting SVM with imputed Data\n",
    "\n",
    "#Linear SVM model with C=1 \n",
    "SVMClassifier = SVC(C=1, kernel='linear', random_state=11)\n",
    "SVMClassifier.fit(train_X, train_Y)\n",
    "\n",
    "train_predicted = SVMClassifier.predict(train_X)\n",
    "test_predicted = SVMClassifier.predict(test_X)\n",
    "\n",
    "#Train Accuracy\n",
    "print(\"Train Accuracy:\")\n",
    "print(accuracy_score(train_Y, train_predicted))\n",
    "\n",
    "#Test Accuracy\n",
    "print()\n",
    "print(\"Test Accuracy:\")\n",
    "print(accuracy_score(test_Y, test_predicted))"
   ]
  },
  {
   "cell_type": "markdown",
   "metadata": {},
   "source": [
    "### Discussion\n",
    "\n",
    "- Age and Cabin have missing data values. Age has 19% missing values whereas cabin has 77% missing values\n",
    "- With missing values, we get error while runnng Decision trees - so we removed those before training tha classfier in previous parts\n",
    "- Imputed age with mean value of the column\n",
    "- Performance (Accuracy):\n",
    "    - SVM (Imputed Data): 79.88%\n",
    "    - SVM (Without Imputation):  74.82%\n",
    "    \n",
    "    - DT (Imputed Data, max_depth by CV): Around 80%\n",
    "    - DT (Without Imputed Data, max_depth by CV): Around 80%\n",
    "    \n",
    "- There is an impact on SVM accuracy with and without imputation but DT performance is almost similar in both the case."
   ]
  },
  {
   "cell_type": "markdown",
   "metadata": {},
   "source": [
    "### 2.6 ROC Curve\n",
    "\n",
    "For your best decision tree from 2.5, plot the reciever operating characteristic (ROC) curve on the test set data. Report the area under the curve (AUC) score. *Hint*: scikit-learn's built-in predict_proba function may be helpful for this problem.  For each model, identify the point on the ROC curve that is closest to the top-left corner, and identify the associated probability threshold for classification. Place a vertical line on your plot indicating the FPR value at the threshold. Finally, report accuracy on the test set using the threshold you identified. Comparing to the accuracy from 2.5, what do you observe? "
   ]
  },
  {
   "cell_type": "code",
   "execution_count": 50,
   "metadata": {},
   "outputs": [
    {
     "name": "stdout",
     "output_type": "stream",
     "text": [
      "ROC AUC: 0.89\n"
     ]
    },
    {
     "data": {
      "image/png": "[encoded data removed]",
      "text/plain": [
       "<Figure size 432x288 with 1 Axes>"
      ]
     },
     "metadata": {
      "needs_background": "light"
     },
     "output_type": "display_data"
    }
   ],
   "source": [
    "# Your code here\n",
    "from sklearn.metrics import roc_curve, auc\n",
    "\n",
    "SVMClassifier = SVC(C=1, kernel='linear', random_state=11, probability=True)\n",
    "SVMClassifier.fit(train_X, train_Y)\n",
    "\n",
    "# Determine the false positive and true positive rates\n",
    "fpr, tpr, _ = roc_curve(test_Y, SVMClassifier.predict_proba(test_X)[:,1])\n",
    "\n",
    "# Calculate the AUC\n",
    "roc_auc = auc(fpr, tpr)\n",
    "print('ROC AUC: %0.2f' % roc_auc)\n",
    "\n",
    "# Plot of a ROC curve for a specific class\n",
    "plt.figure()\n",
    "plt.plot(fpr, tpr, label='ROC curve (area = %0.2f)' % roc_auc)\n",
    "plt.plot([0, 1], [0, 1], 'k--')\n",
    "plt.xlim([0.0, 1.0])\n",
    "plt.ylim([0.0, 1.05])\n",
    "plt.xlabel('False Positive Rate')\n",
    "plt.ylabel('True Positive Rate')\n",
    "plt.title('ROC Curve')\n",
    "plt.legend(loc=\"lower right\")\n",
    "plt.show()"
   ]
  },
  {
   "cell_type": "markdown",
   "metadata": {},
   "source": [
    "*Your observations here*"
   ]
  },
  {
   "cell_type": "markdown",
   "metadata": {},
   "source": [
    "## Part 3: Many Trees\n",
    "\n",
    "### 3.1: Random Forest\n",
    "Use the [random forest classifier](http://scikit-learn.org/stable/modules/generated/sklearn.ensemble.RandomForestClassifier.html) to predict survival on the titanic. Use cross-validation on the training data to choose the best hyper-parameters --- including the maximum depth, number of trees in the forest, and the minimum samples per leaf.\n",
    "* What hyperparameters did you select with cross-validation? You should use cross-validation to select all of the hyperparameters (i.e. search a grid of hyperparameters), and report the combination that maximizes cross-validated accuracy). You can use fewer cross validation folds than the 10 folds from previous problems, to keep your code from taking too long to run.\n",
    "* How does the cross-validated performance (average across validation folds) compare to the test performance (using the top-performing, fitted model selected through cross-validation)?\n",
    "* How does the RF performance compare to the decision tree and SVM from part 2.5?\n",
    "* Create 3 subplots that show how cross-validated performance (y-axis) relates to the number of trees in the forest (x-axis), maximum depth (x-axis), and minimum samples per leaf (x-axis). What do you observe?"
   ]
  },
  {
   "cell_type": "code",
   "execution_count": 51,
   "metadata": {},
   "outputs": [],
   "source": [
    "# Your code here\n",
    "from sklearn.ensemble import RandomForestClassifier\n",
    "\n",
    "#Effect of max_depth and min_samples_leaf\n",
    "max_depths = [3,4,5,6,7,8,9]\n",
    "n_trees = [100,200,300,400,500]\n",
    "\n",
    "cv_train_accuracy = []\n",
    "cv_test_accuracy = []\n",
    "maxDepthlist=[]\n",
    "n_treesList=[]\n",
    "\n",
    "for n_tree in n_trees:         \n",
    "    for maxDepth in max_depths:         \n",
    "        # Initialize and fit the model\n",
    "        model = RandomForestClassifier(n_estimators=n_tree,max_depth= maxDepth,random_state =11)\n",
    "        result = cross_validate(model, train_X, train_Y,cv=5,return_train_score=True)\n",
    "        cv_train_accuracy.append(result['train_score'].mean())\n",
    "        cv_test_accuracy.append(result['test_score'].mean())\n",
    "        maxDepthlist.append(maxDepth)\n",
    "        n_treesList.append(n_tree)\n",
    "\n",
    "result=pd.DataFrame({\"N_Trees\":n_treesList,\"max_depth\":maxDepthlist,\"Train_accuracy\":cv_train_accuracy, \"Test_accuracy\":cv_test_accuracy})"
   ]
  },
  {
   "cell_type": "code",
   "execution_count": 52,
   "metadata": {},
   "outputs": [
    {
     "data": {
      "text/plain": [
       "N_Trees           200.000000\n",
       "max_depth           4.000000\n",
       "Train_accuracy      0.843401\n",
       "Test_accuracy       0.824426\n",
       "Name: 8, dtype: float64"
      ]
     },
     "execution_count": 52,
     "metadata": {},
     "output_type": "execute_result"
    }
   ],
   "source": [
    "#Best Parameters\n",
    "result.iloc[result.Test_accuracy.idxmax(),:]"
   ]
  },
  {
   "cell_type": "code",
   "execution_count": 53,
   "metadata": {},
   "outputs": [
    {
     "data": {
      "image/png": "[encoded data removed]",
      "text/plain": [
       "<Figure size 504x360 with 1 Axes>"
      ]
     },
     "metadata": {
      "needs_background": "light"
     },
     "output_type": "display_data"
    }
   ],
   "source": [
    "#Effect of only n_trees\n",
    "n_trees = [100,200,300,400,500]\n",
    "\n",
    "cv_train_accuracy = []\n",
    "cv_test_accuracy = []\n",
    "n_treesList=[]\n",
    "\n",
    "for n_tree in n_trees:         \n",
    "    # Initialize and fit the model\n",
    "    model = RandomForestClassifier(n_estimators=n_tree,max_depth= 4,random_state = 11)\n",
    "    result = cross_validate(model, train_X, train_Y,cv=5,return_train_score=True)\n",
    "    cv_train_accuracy.append(result['train_score'].mean())\n",
    "    cv_test_accuracy.append(result['test_score'].mean())\n",
    "    n_treesList.append(n_tree)\n",
    "\n",
    "result=pd.DataFrame({\"N_Trees\":n_treesList,\"Train_accuracy\":cv_train_accuracy, \"Test_accuracy\":cv_test_accuracy})\n",
    "\n",
    "fig, ax = plt.subplots(figsize=(7,5))\n",
    "\n",
    "ax.plot(result.N_Trees, result.Train_accuracy, '+-', c='blue', label='Train')\n",
    "ax.plot(result.N_Trees, result.Test_accuracy, '+-', c='red', label='Test')\n",
    "\n",
    "ax.legend()\n",
    "ax.set_xlabel('Number of Trees')\n",
    "ax.set_ylabel('Accuracy');"
   ]
  },
  {
   "cell_type": "code",
   "execution_count": 54,
   "metadata": {},
   "outputs": [
    {
     "data": {
      "text/plain": [
       "0.822182606126268"
      ]
     },
     "execution_count": 54,
     "metadata": {},
     "output_type": "execute_result"
    }
   ],
   "source": [
    "result.Test_accuracy.mean()"
   ]
  },
  {
   "cell_type": "code",
   "execution_count": 55,
   "metadata": {},
   "outputs": [
    {
     "name": "stdout",
     "output_type": "stream",
     "text": [
      "Train Accuracy:\n",
      "0.8426966292134831\n",
      "\n",
      "Test Accuracy:\n",
      "0.8659217877094972\n"
     ]
    }
   ],
   "source": [
    "#Model with best Hyper parameters\n",
    "\n",
    "model = RandomForestClassifier(n_estimators=100,max_depth= 4,random_state=11)\n",
    "model.fit(train_X, train_Y)\n",
    "\n",
    "train_predicted = model.predict(train_X)\n",
    "test_predicted = model.predict(test_X)\n",
    "\n",
    "#Train Accuracy\n",
    "print(\"Train Accuracy:\")\n",
    "print(accuracy_score(train_Y, train_predicted))\n",
    "\n",
    "#Test Accuracy\n",
    "print()\n",
    "print(\"Test Accuracy:\")\n",
    "print(accuracy_score(test_Y, test_predicted))"
   ]
  },
  {
   "cell_type": "markdown",
   "metadata": {},
   "source": [
    "### Discussion\n",
    "\n",
    "- Hyperparameters selected with cross-validation: \n",
    "    - N_trees = 100\n",
    "    - Max_depth = 4\n",
    "    \n",
    "- Performance comparison\n",
    "    - Cross-validated performance (average across validation folds): 81.99%\n",
    "    - Test performance (using the top-performing, fitted model selected through cross-validation): 86.03%\n",
    "\n",
    "- Performance comparison (cross validated accuracy:\n",
    "    - RF: Around 82% \n",
    "    - Decision tree : Around 80%\n",
    "    - SVM: Around 80%"
   ]
  },
  {
   "cell_type": "markdown",
   "metadata": {},
   "source": [
    "### 3.2: Gradient Boosting\n",
    "\n",
    "Use the [Gradient Boosting classifier](http://scikit-learn.org/stable/modules/generated/sklearn.ensemble.GradientBoostingClassifier.html) to predict survival on the Titanic. Tune your hyperparameters with cross validation. Again, you should tune more parameteres than just `max_depth`.\n",
    "* How does the GBM performance compare to the other models?\n",
    "* Create a figure showing the feature importances in your final model (with properly tuned hyperparameters)\n"
   ]
  },
  {
   "cell_type": "code",
   "execution_count": 56,
   "metadata": {},
   "outputs": [],
   "source": [
    "# Your code here\n",
    "from sklearn.ensemble import GradientBoostingClassifier\n",
    "\n",
    "#Effect of max_depth and min_samples_leaf\n",
    "learning_rates = [0.01,0.1,0.2,0.3,0.4,0.5]\n",
    "n_trees = [100,200,300,400,500]\n",
    "\n",
    "cv_train_accuracy = []\n",
    "cv_test_accuracy = []\n",
    "learning_rateList=[]\n",
    "n_treesList=[]\n",
    "\n",
    "for n_tree in n_trees:         \n",
    "    for learning_rate in learning_rates:         \n",
    "        # Initialize and fit the model\n",
    "        model = GradientBoostingClassifier(n_estimators=n_tree,learning_rate=learning_rate,random_state=11)\n",
    "        result = cross_validate(model, train_X, train_Y,cv=5,return_train_score=True)\n",
    "        cv_train_accuracy.append(result['train_score'].mean())\n",
    "        cv_test_accuracy.append(result['test_score'].mean())\n",
    "        learning_rateList.append(learning_rate)\n",
    "        n_treesList.append(n_tree)\n",
    "\n",
    "result=pd.DataFrame({\"N_Trees\":n_treesList,\"LearningRate\":learning_rateList,\"Train_accuracy\":cv_train_accuracy, \"Test_accuracy\":cv_test_accuracy})"
   ]
  },
  {
   "cell_type": "code",
   "execution_count": 57,
   "metadata": {},
   "outputs": [
    {
     "data": {
      "text/plain": [
       "N_Trees           400.000000\n",
       "LearningRate        0.010000\n",
       "Train_accuracy      0.866220\n",
       "Test_accuracy       0.832857\n",
       "Name: 18, dtype: float64"
      ]
     },
     "execution_count": 57,
     "metadata": {},
     "output_type": "execute_result"
    }
   ],
   "source": [
    "#Best Parameters\n",
    "result.iloc[result.Test_accuracy.idxmax(),:]"
   ]
  },
  {
   "cell_type": "code",
   "execution_count": 58,
   "metadata": {},
   "outputs": [
    {
     "data": {
      "text/html": [
       "<div>\n",
       "<style scoped>\n",
       "    .dataframe tbody tr th:only-of-type {\n",
       "        vertical-align: middle;\n",
       "    }\n",
       "\n",
       "    .dataframe tbody tr th {\n",
       "        vertical-align: top;\n",
       "    }\n",
       "\n",
       "    .dataframe thead th {\n",
       "        text-align: right;\n",
       "    }\n",
       "</style>\n",
       "<table border=\"1\" class=\"dataframe\">\n",
       "  <thead>\n",
       "    <tr style=\"text-align: right;\">\n",
       "      <th></th>\n",
       "      <th>N_Trees</th>\n",
       "      <th>LearningRate</th>\n",
       "      <th>Train_accuracy</th>\n",
       "      <th>Test_accuracy</th>\n",
       "    </tr>\n",
       "  </thead>\n",
       "  <tbody>\n",
       "    <tr>\n",
       "      <th>0</th>\n",
       "      <td>100</td>\n",
       "      <td>0.01</td>\n",
       "      <td>0.834620</td>\n",
       "      <td>0.807554</td>\n",
       "    </tr>\n",
       "    <tr>\n",
       "      <th>1</th>\n",
       "      <td>100</td>\n",
       "      <td>0.10</td>\n",
       "      <td>0.908707</td>\n",
       "      <td>0.821639</td>\n",
       "    </tr>\n",
       "    <tr>\n",
       "      <th>2</th>\n",
       "      <td>100</td>\n",
       "      <td>0.20</td>\n",
       "      <td>0.943823</td>\n",
       "      <td>0.811799</td>\n",
       "    </tr>\n",
       "    <tr>\n",
       "      <th>3</th>\n",
       "      <td>100</td>\n",
       "      <td>0.30</td>\n",
       "      <td>0.958215</td>\n",
       "      <td>0.807545</td>\n",
       "    </tr>\n",
       "    <tr>\n",
       "      <th>4</th>\n",
       "      <td>100</td>\n",
       "      <td>0.40</td>\n",
       "      <td>0.968047</td>\n",
       "      <td>0.797715</td>\n",
       "    </tr>\n",
       "  </tbody>\n",
       "</table>\n",
       "</div>"
      ],
      "text/plain": [
       "   N_Trees  LearningRate  Train_accuracy  Test_accuracy\n",
       "0      100          0.01        0.834620       0.807554\n",
       "1      100          0.10        0.908707       0.821639\n",
       "2      100          0.20        0.943823       0.811799\n",
       "3      100          0.30        0.958215       0.807545\n",
       "4      100          0.40        0.968047       0.797715"
      ]
     },
     "execution_count": 58,
     "metadata": {},
     "output_type": "execute_result"
    }
   ],
   "source": [
    "result.head()"
   ]
  },
  {
   "cell_type": "code",
   "execution_count": 59,
   "metadata": {},
   "outputs": [
    {
     "name": "stdout",
     "output_type": "stream",
     "text": [
      "Train Accuracy:\n",
      "0.8567415730337079\n",
      "\n",
      "Test Accuracy:\n",
      "0.8379888268156425\n"
     ]
    }
   ],
   "source": [
    "#Model with best Hyper parameters\n",
    "\n",
    "model = GradientBoostingClassifier(n_estimators=400,learning_rate= 0.01,random_state=11)\n",
    "model.fit(train_X, train_Y)\n",
    "\n",
    "train_predicted = model.predict(train_X)\n",
    "test_predicted = model.predict(test_X)\n",
    "\n",
    "#Train Accuracy\n",
    "print(\"Train Accuracy:\")\n",
    "print(accuracy_score(train_Y, train_predicted))\n",
    "\n",
    "#Test Accuracy\n",
    "print()\n",
    "print(\"Test Accuracy:\")\n",
    "print(accuracy_score(test_Y, test_predicted))"
   ]
  },
  {
   "cell_type": "code",
   "execution_count": 60,
   "metadata": {},
   "outputs": [
    {
     "data": {
      "image/png": "[encoded data removed]",
      "text/plain": [
       "<Figure size 576x576 with 1 Axes>"
      ]
     },
     "metadata": {
      "needs_background": "light"
     },
     "output_type": "display_data"
    }
   ],
   "source": [
    "#Feature Importances\n",
    "\n",
    "plt.figure(figsize=(8,8))\n",
    "\n",
    "importances = model.feature_importances_\n",
    "\n",
    "# Sort feature importances in descending order\n",
    "indices = np.argsort(importances)[::-1]\n",
    "\n",
    "# Rearrange feature names so they match the sorted feature importances\n",
    "names = [train_X.columns[i] for i in indices]\n",
    "\n",
    "# Create plot title\n",
    "plt.title(\"Feature Importance for GBM tuned model\")\n",
    "\n",
    "# Add bars\n",
    "plt.bar(range(train_X.shape[1]), importances[indices])\n",
    "\n",
    "# Add feature names as x-axis labels\n",
    "plt.xticks(range(train_X.shape[1]), names, rotation=90);\n",
    "\n"
   ]
  },
  {
   "cell_type": "markdown",
   "metadata": {},
   "source": [
    "### Discussion\n",
    "\n",
    "- Performance comparison (on test set):\n",
    "    - Gradient Boosting: 83.79%\n",
    "    - RF: Around 86.5% \n",
    "    - Decision tree : Around 80%\n",
    "    - SVM: Around 80%"
   ]
  },
  {
   "cell_type": "markdown",
   "metadata": {},
   "source": [
    "## Part 4: Neural Networks\n",
    "\n",
    "Carry on the classification by using feed forward neural networks, using functionality imported from [keras](https://keras.io/api/). You are responsible for choosing the number of layers, their corresponding size, the activation functions and the choice of gradient descent algorithm (and its parameters e.g. learning rate). Pick those parameters by hand. For some of them you can also perform cross-validation if you wish, but cross validation is not required. Your goal is to tune those parameters so that your test accuracy is at least above 75%. \n",
    "\n",
    "Report your accuracy on the test set along with your choice of parameters. More specifically, report the number of layers, their size, the activation functions and your choice of optimization algorithm. \n",
    "\n",
    "It is a good exercise to experiment with different optimizers (gradient descent, stochastic gradient descent, AdaGrad etc), learning rates, batch sizes etc. to get a feeling of how they affect neural network training. Experiment with some of these options. What do you observe?"
   ]
  },
  {
   "cell_type": "code",
   "execution_count": 95,
   "metadata": {},
   "outputs": [],
   "source": [
    "from keras.models import Sequential \n",
    "from keras.layers import Dense"
   ]
  },
  {
   "cell_type": "code",
   "execution_count": 96,
   "metadata": {},
   "outputs": [
    {
     "name": "stdout",
     "output_type": "stream",
     "text": [
      "Model: \"sequential_2\"\n",
      "_________________________________________________________________\n",
      "Layer (type)                 Output Shape              Param #   \n",
      "=================================================================\n",
      "dense_5 (Dense)              (None, 9)                 72        \n",
      "_________________________________________________________________\n",
      "dense_6 (Dense)              (None, 9)                 90        \n",
      "_________________________________________________________________\n",
      "dense_7 (Dense)              (None, 5)                 50        \n",
      "_________________________________________________________________\n",
      "dense_8 (Dense)              (None, 1)                 6         \n",
      "=================================================================\n",
      "Total params: 218\n",
      "Trainable params: 218\n",
      "Non-trainable params: 0\n",
      "_________________________________________________________________\n"
     ]
    }
   ],
   "source": [
    "# Initialising the NN\n",
    "model = Sequential()\n",
    "\n",
    "# layers\n",
    "model.add(Dense(9, kernel_initializer = 'uniform', activation = 'relu', input_dim = 7))\n",
    "model.add(Dense(9, kernel_initializer = 'uniform', activation = 'relu'))\n",
    "model.add(Dense(5, kernel_initializer = 'uniform', activation = 'relu'))\n",
    "model.add(Dense(1, kernel_initializer = 'uniform', activation = 'sigmoid'))\n",
    "\n",
    "# summary\n",
    "model.summary()"
   ]
  },
  {
   "cell_type": "code",
   "execution_count": 97,
   "metadata": {
    "scrolled": false
   },
   "outputs": [
    {
     "name": "stdout",
     "output_type": "stream",
     "text": [
      "Epoch 1/200\n",
      "712/712 [==============================] - 2s 2ms/step - loss: 0.6920 - accuracy: 0.6110\n",
      "Epoch 2/200\n",
      "712/712 [==============================] - 0s 186us/step - loss: 0.6894 - accuracy: 0.6110\n",
      "Epoch 3/200\n",
      "712/712 [==============================] - 0s 205us/step - loss: 0.6852 - accuracy: 0.6138\n",
      "Epoch 4/200\n",
      "712/712 [==============================] - 0s 184us/step - loss: 0.6773 - accuracy: 0.6250\n",
      "Epoch 5/200\n",
      "712/712 [==============================] - 0s 161us/step - loss: 0.6621 - accuracy: 0.6376\n",
      "Epoch 6/200\n",
      "712/712 [==============================] - 0s 198us/step - loss: 0.6416 - accuracy: 0.6489\n",
      "Epoch 7/200\n",
      "712/712 [==============================] - 0s 156us/step - loss: 0.6233 - accuracy: 0.6643\n",
      "Epoch 8/200\n",
      "712/712 [==============================] - 0s 200us/step - loss: 0.6159 - accuracy: 0.6798\n",
      "Epoch 9/200\n",
      "712/712 [==============================] - 0s 299us/step - loss: 0.6067 - accuracy: 0.6770\n",
      "Epoch 10/200\n",
      "712/712 [==============================] - 0s 254us/step - loss: 0.6038 - accuracy: 0.6728\n",
      "Epoch 11/200\n",
      "712/712 [==============================] - 0s 260us/step - loss: 0.6009 - accuracy: 0.6671\n",
      "Epoch 12/200\n",
      "712/712 [==============================] - 0s 288us/step - loss: 0.5984 - accuracy: 0.6728\n",
      "Epoch 13/200\n",
      "712/712 [==============================] - 0s 344us/step - loss: 0.5976 - accuracy: 0.6742\n",
      "Epoch 14/200\n",
      "712/712 [==============================] - 0s 184us/step - loss: 0.5949 - accuracy: 0.6812\n",
      "Epoch 15/200\n",
      "712/712 [==============================] - 0s 155us/step - loss: 0.5935 - accuracy: 0.6742\n",
      "Epoch 16/200\n",
      "712/712 [==============================] - 0s 267us/step - loss: 0.5927 - accuracy: 0.6826\n",
      "Epoch 17/200\n",
      "712/712 [==============================] - 0s 179us/step - loss: 0.5891 - accuracy: 0.6854\n",
      "Epoch 18/200\n",
      "712/712 [==============================] - 0s 187us/step - loss: 0.5891 - accuracy: 0.6756\n",
      "Epoch 19/200\n",
      "712/712 [==============================] - 0s 214us/step - loss: 0.5861 - accuracy: 0.6770\n",
      "Epoch 20/200\n",
      "712/712 [==============================] - 0s 211us/step - loss: 0.5846 - accuracy: 0.6840\n",
      "Epoch 21/200\n",
      "712/712 [==============================] - 0s 247us/step - loss: 0.5823 - accuracy: 0.6854\n",
      "Epoch 22/200\n",
      "712/712 [==============================] - 0s 179us/step - loss: 0.5809 - accuracy: 0.6868\n",
      "Epoch 23/200\n",
      "712/712 [==============================] - 0s 173us/step - loss: 0.5795 - accuracy: 0.6868\n",
      "Epoch 24/200\n",
      "712/712 [==============================] - 0s 248us/step - loss: 0.5769 - accuracy: 0.6868\n",
      "Epoch 25/200\n",
      "712/712 [==============================] - 0s 200us/step - loss: 0.5756 - accuracy: 0.6882\n",
      "Epoch 26/200\n",
      "712/712 [==============================] - 0s 289us/step - loss: 0.5740 - accuracy: 0.6910\n",
      "Epoch 27/200\n",
      "712/712 [==============================] - 0s 341us/step - loss: 0.5743 - accuracy: 0.6910\n",
      "Epoch 28/200\n",
      "712/712 [==============================] - 0s 437us/step - loss: 0.5707 - accuracy: 0.6924\n",
      "Epoch 29/200\n",
      "712/712 [==============================] - 0s 282us/step - loss: 0.5674 - accuracy: 0.6980\n",
      "Epoch 30/200\n",
      "712/712 [==============================] - 0s 302us/step - loss: 0.5644 - accuracy: 0.7079\n",
      "Epoch 31/200\n",
      "712/712 [==============================] - 0s 190us/step - loss: 0.5624 - accuracy: 0.7065\n",
      "Epoch 32/200\n",
      "712/712 [==============================] - 0s 185us/step - loss: 0.5607 - accuracy: 0.7051\n",
      "Epoch 33/200\n",
      "712/712 [==============================] - 0s 136us/step - loss: 0.5587 - accuracy: 0.7008\n",
      "Epoch 34/200\n",
      "712/712 [==============================] - 0s 157us/step - loss: 0.5566 - accuracy: 0.7121\n",
      "Epoch 35/200\n",
      "712/712 [==============================] - 0s 143us/step - loss: 0.5486 - accuracy: 0.7163\n",
      "Epoch 36/200\n",
      "712/712 [==============================] - 0s 230us/step - loss: 0.5435 - accuracy: 0.7219\n",
      "Epoch 37/200\n",
      "712/712 [==============================] - 0s 183us/step - loss: 0.5406 - accuracy: 0.7219\n",
      "Epoch 38/200\n",
      "712/712 [==============================] - 0s 134us/step - loss: 0.5366 - accuracy: 0.7303\n",
      "Epoch 39/200\n",
      "712/712 [==============================] - 0s 163us/step - loss: 0.5324 - accuracy: 0.7570\n",
      "Epoch 40/200\n",
      "712/712 [==============================] - 0s 148us/step - loss: 0.5281 - accuracy: 0.7388\n",
      "Epoch 41/200\n",
      "712/712 [==============================] - 0s 148us/step - loss: 0.5245 - accuracy: 0.7416\n",
      "Epoch 42/200\n",
      "712/712 [==============================] - 0s 259us/step - loss: 0.5238 - accuracy: 0.7542\n",
      "Epoch 43/200\n",
      "712/712 [==============================] - 0s 222us/step - loss: 0.5323 - accuracy: 0.7416\n",
      "Epoch 44/200\n",
      "712/712 [==============================] - 0s 202us/step - loss: 0.5185 - accuracy: 0.7500\n",
      "Epoch 45/200\n",
      "712/712 [==============================] - 0s 188us/step - loss: 0.5157 - accuracy: 0.7556\n",
      "Epoch 46/200\n",
      "712/712 [==============================] - 0s 235us/step - loss: 0.5180 - accuracy: 0.7486\n",
      "Epoch 47/200\n",
      "712/712 [==============================] - 0s 347us/step - loss: 0.5167 - accuracy: 0.7528\n",
      "Epoch 48/200\n",
      "712/712 [==============================] - 0s 240us/step - loss: 0.5135 - accuracy: 0.7500\n",
      "Epoch 49/200\n",
      "712/712 [==============================] - 0s 263us/step - loss: 0.5093 - accuracy: 0.7725\n",
      "Epoch 50/200\n",
      "712/712 [==============================] - 0s 213us/step - loss: 0.5051 - accuracy: 0.7683\n",
      "Epoch 51/200\n",
      "712/712 [==============================] - 0s 288us/step - loss: 0.5008 - accuracy: 0.7739\n",
      "Epoch 52/200\n",
      "712/712 [==============================] - 0s 225us/step - loss: 0.5030 - accuracy: 0.7823\n",
      "Epoch 53/200\n",
      "712/712 [==============================] - 0s 195us/step - loss: 0.5004 - accuracy: 0.7711\n",
      "Epoch 54/200\n",
      "712/712 [==============================] - 0s 158us/step - loss: 0.4989 - accuracy: 0.7697\n",
      "Epoch 55/200\n",
      "712/712 [==============================] - 0s 120us/step - loss: 0.5033 - accuracy: 0.7725\n",
      "Epoch 56/200\n",
      "712/712 [==============================] - 0s 168us/step - loss: 0.4936 - accuracy: 0.7837\n",
      "Epoch 57/200\n",
      "712/712 [==============================] - 0s 173us/step - loss: 0.4958 - accuracy: 0.7823\n",
      "Epoch 58/200\n",
      "712/712 [==============================] - 0s 158us/step - loss: 0.4890 - accuracy: 0.7823\n",
      "Epoch 59/200\n",
      "712/712 [==============================] - 0s 137us/step - loss: 0.4883 - accuracy: 0.7893\n",
      "Epoch 60/200\n",
      "712/712 [==============================] - 0s 140us/step - loss: 0.4910 - accuracy: 0.7809\n",
      "Epoch 61/200\n",
      "712/712 [==============================] - 0s 238us/step - loss: 0.4850 - accuracy: 0.7865\n",
      "Epoch 62/200\n",
      "712/712 [==============================] - 0s 367us/step - loss: 0.4873 - accuracy: 0.7795\n",
      "Epoch 63/200\n",
      "712/712 [==============================] - 0s 301us/step - loss: 0.4837 - accuracy: 0.7893\n",
      "Epoch 64/200\n",
      "712/712 [==============================] - 0s 316us/step - loss: 0.4814 - accuracy: 0.7879\n",
      "Epoch 65/200\n",
      "712/712 [==============================] - 0s 531us/step - loss: 0.4846 - accuracy: 0.7935\n",
      "Epoch 66/200\n",
      "712/712 [==============================] - 0s 204us/step - loss: 0.4808 - accuracy: 0.7865\n",
      "Epoch 67/200\n",
      "712/712 [==============================] - 0s 142us/step - loss: 0.4790 - accuracy: 0.7837\n",
      "Epoch 68/200\n",
      "712/712 [==============================] - 0s 191us/step - loss: 0.4801 - accuracy: 0.7921\n",
      "Epoch 69/200\n",
      "712/712 [==============================] - 0s 129us/step - loss: 0.4764 - accuracy: 0.7865\n",
      "Epoch 70/200\n",
      "712/712 [==============================] - 0s 125us/step - loss: 0.4726 - accuracy: 0.7921\n",
      "Epoch 71/200\n",
      "712/712 [==============================] - 0s 134us/step - loss: 0.4969 - accuracy: 0.7767\n",
      "Epoch 72/200\n",
      "712/712 [==============================] - 0s 236us/step - loss: 0.4741 - accuracy: 0.7907\n",
      "Epoch 73/200\n",
      "712/712 [==============================] - 0s 278us/step - loss: 0.4725 - accuracy: 0.7921\n",
      "Epoch 74/200\n",
      "712/712 [==============================] - 0s 289us/step - loss: 0.4737 - accuracy: 0.7893\n",
      "Epoch 75/200\n",
      "712/712 [==============================] - ETA: 0s - loss: 0.4748 - accuracy: 0.78 - 0s 342us/step - loss: 0.4730 - accuracy: 0.7879\n",
      "Epoch 76/200\n",
      "712/712 [==============================] - 0s 530us/step - loss: 0.4724 - accuracy: 0.7935\n",
      "Epoch 77/200\n",
      "712/712 [==============================] - 0s 381us/step - loss: 0.4700 - accuracy: 0.7893\n",
      "Epoch 78/200\n",
      "712/712 [==============================] - 1s 738us/step - loss: 0.4712 - accuracy: 0.7949\n",
      "Epoch 79/200\n",
      "712/712 [==============================] - 0s 458us/step - loss: 0.4700 - accuracy: 0.7865\n",
      "Epoch 80/200\n",
      "712/712 [==============================] - 0s 423us/step - loss: 0.4710 - accuracy: 0.7921\n",
      "Epoch 81/200\n",
      "712/712 [==============================] - 0s 237us/step - loss: 0.4770 - accuracy: 0.7879\n",
      "Epoch 82/200\n",
      "712/712 [==============================] - 0s 375us/step - loss: 0.4685 - accuracy: 0.7935\n",
      "Epoch 83/200\n",
      "712/712 [==============================] - 0s 354us/step - loss: 0.4644 - accuracy: 0.7921\n",
      "Epoch 84/200\n",
      "712/712 [==============================] - 0s 387us/step - loss: 0.4735 - accuracy: 0.7921\n",
      "Epoch 85/200\n",
      "712/712 [==============================] - 0s 201us/step - loss: 0.4644 - accuracy: 0.7963\n",
      "Epoch 86/200\n",
      "712/712 [==============================] - 0s 184us/step - loss: 0.4642 - accuracy: 0.7893\n",
      "Epoch 87/200\n",
      "712/712 [==============================] - 0s 285us/step - loss: 0.4654 - accuracy: 0.7978\n",
      "Epoch 88/200\n",
      "712/712 [==============================] - 0s 214us/step - loss: 0.4716 - accuracy: 0.7879\n",
      "Epoch 89/200\n",
      "712/712 [==============================] - 0s 281us/step - loss: 0.4643 - accuracy: 0.7921\n",
      "Epoch 90/200\n",
      "712/712 [==============================] - 0s 264us/step - loss: 0.4689 - accuracy: 0.7907\n",
      "Epoch 91/200\n",
      "712/712 [==============================] - 0s 452us/step - loss: 0.4655 - accuracy: 0.7949\n",
      "Epoch 92/200\n",
      "712/712 [==============================] - 0s 219us/step - loss: 0.4707 - accuracy: 0.7921\n",
      "Epoch 93/200\n",
      "712/712 [==============================] - 1s 710us/step - loss: 0.4617 - accuracy: 0.8006\n",
      "Epoch 94/200\n",
      "712/712 [==============================] - 1s 1ms/step - loss: 0.4551 - accuracy: 0.7963\n",
      "Epoch 95/200\n",
      "712/712 [==============================] - 0s 605us/step - loss: 0.4519 - accuracy: 0.7921\n",
      "Epoch 96/200\n",
      "712/712 [==============================] - 0s 225us/step - loss: 0.4553 - accuracy: 0.7992\n",
      "Epoch 97/200\n",
      "712/712 [==============================] - 0s 220us/step - loss: 0.4612 - accuracy: 0.7935\n",
      "Epoch 98/200\n",
      "712/712 [==============================] - 0s 223us/step - loss: 0.4540 - accuracy: 0.8020\n",
      "Epoch 99/200\n",
      "712/712 [==============================] - 0s 255us/step - loss: 0.4515 - accuracy: 0.7935\n",
      "Epoch 100/200\n",
      "712/712 [==============================] - 0s 199us/step - loss: 0.4614 - accuracy: 0.7865\n",
      "Epoch 101/200\n",
      "712/712 [==============================] - 0s 218us/step - loss: 0.4488 - accuracy: 0.8020\n",
      "Epoch 102/200\n",
      "712/712 [==============================] - 0s 247us/step - loss: 0.4525 - accuracy: 0.7963\n",
      "Epoch 103/200\n",
      "712/712 [==============================] - 0s 434us/step - loss: 0.4558 - accuracy: 0.7949\n",
      "Epoch 104/200\n",
      "712/712 [==============================] - 0s 384us/step - loss: 0.4467 - accuracy: 0.7978\n",
      "Epoch 105/200\n",
      "712/712 [==============================] - 0s 207us/step - loss: 0.4566 - accuracy: 0.7992\n",
      "Epoch 106/200\n",
      "712/712 [==============================] - 0s 179us/step - loss: 0.4516 - accuracy: 0.7921\n",
      "Epoch 107/200\n",
      "712/712 [==============================] - 0s 193us/step - loss: 0.4551 - accuracy: 0.7893\n",
      "Epoch 108/200\n",
      "712/712 [==============================] - 0s 226us/step - loss: 0.4484 - accuracy: 0.7949\n",
      "Epoch 109/200\n",
      "712/712 [==============================] - 0s 213us/step - loss: 0.4497 - accuracy: 0.7963\n",
      "Epoch 110/200\n",
      "712/712 [==============================] - 0s 153us/step - loss: 0.4462 - accuracy: 0.8006\n",
      "Epoch 111/200\n",
      "712/712 [==============================] - 0s 186us/step - loss: 0.4436 - accuracy: 0.7893\n",
      "Epoch 112/200\n",
      "712/712 [==============================] - 0s 260us/step - loss: 0.4575 - accuracy: 0.7963\n",
      "Epoch 113/200\n",
      "712/712 [==============================] - 0s 217us/step - loss: 0.4446 - accuracy: 0.8006\n",
      "Epoch 114/200\n",
      "712/712 [==============================] - 0s 220us/step - loss: 0.4482 - accuracy: 0.7978\n",
      "Epoch 115/200\n",
      "712/712 [==============================] - 0s 217us/step - loss: 0.4427 - accuracy: 0.7978\n",
      "Epoch 116/200\n",
      "712/712 [==============================] - 0s 205us/step - loss: 0.4424 - accuracy: 0.8006\n",
      "Epoch 117/200\n",
      "712/712 [==============================] - 0s 183us/step - loss: 0.4441 - accuracy: 0.7949\n",
      "Epoch 118/200\n",
      "712/712 [==============================] - 0s 312us/step - loss: 0.4542 - accuracy: 0.7978\n",
      "Epoch 119/200\n",
      "712/712 [==============================] - 0s 283us/step - loss: 0.4566 - accuracy: 0.7851\n",
      "Epoch 120/200\n",
      "712/712 [==============================] - 0s 270us/step - loss: 0.4496 - accuracy: 0.7978\n",
      "Epoch 121/200\n",
      "712/712 [==============================] - 0s 354us/step - loss: 0.4514 - accuracy: 0.7963\n",
      "Epoch 122/200\n",
      "712/712 [==============================] - 0s 281us/step - loss: 0.4456 - accuracy: 0.7978\n",
      "Epoch 123/200\n",
      "712/712 [==============================] - 0s 234us/step - loss: 0.4451 - accuracy: 0.7992\n",
      "Epoch 124/200\n",
      "712/712 [==============================] - 0s 203us/step - loss: 0.4409 - accuracy: 0.7949\n",
      "Epoch 125/200\n",
      "712/712 [==============================] - 0s 197us/step - loss: 0.4460 - accuracy: 0.7963\n",
      "Epoch 126/200\n",
      "712/712 [==============================] - 0s 239us/step - loss: 0.4431 - accuracy: 0.7963\n",
      "Epoch 127/200\n",
      "712/712 [==============================] - 0s 198us/step - loss: 0.4485 - accuracy: 0.7921\n",
      "Epoch 128/200\n",
      "712/712 [==============================] - 0s 245us/step - loss: 0.4418 - accuracy: 0.7992\n",
      "Epoch 129/200\n",
      "712/712 [==============================] - 0s 207us/step - loss: 0.4432 - accuracy: 0.8006\n",
      "Epoch 130/200\n",
      "712/712 [==============================] - 0s 171us/step - loss: 0.4434 - accuracy: 0.8048\n",
      "Epoch 131/200\n",
      "712/712 [==============================] - 0s 161us/step - loss: 0.4389 - accuracy: 0.8090\n",
      "Epoch 132/200\n",
      "712/712 [==============================] - 0s 145us/step - loss: 0.4484 - accuracy: 0.7978\n",
      "Epoch 133/200\n",
      "712/712 [==============================] - 0s 170us/step - loss: 0.4408 - accuracy: 0.8034\n",
      "Epoch 134/200\n",
      "712/712 [==============================] - 0s 165us/step - loss: 0.4425 - accuracy: 0.7963\n",
      "Epoch 135/200\n",
      "712/712 [==============================] - 0s 159us/step - loss: 0.4428 - accuracy: 0.8048\n",
      "Epoch 136/200\n",
      "712/712 [==============================] - 0s 191us/step - loss: 0.4452 - accuracy: 0.8020\n",
      "Epoch 137/200\n",
      "712/712 [==============================] - 0s 272us/step - loss: 0.4468 - accuracy: 0.8034\n",
      "Epoch 138/200\n",
      "712/712 [==============================] - 0s 286us/step - loss: 0.4351 - accuracy: 0.8020\n",
      "Epoch 139/200\n",
      "712/712 [==============================] - 0s 275us/step - loss: 0.4397 - accuracy: 0.8020\n",
      "Epoch 140/200\n",
      "712/712 [==============================] - 0s 230us/step - loss: 0.4450 - accuracy: 0.7978\n",
      "Epoch 141/200\n",
      "712/712 [==============================] - 0s 217us/step - loss: 0.4400 - accuracy: 0.8062\n",
      "Epoch 142/200\n",
      "712/712 [==============================] - 0s 151us/step - loss: 0.4355 - accuracy: 0.8104\n",
      "Epoch 143/200\n",
      "712/712 [==============================] - 0s 193us/step - loss: 0.4382 - accuracy: 0.8118\n",
      "Epoch 144/200\n",
      "712/712 [==============================] - 0s 173us/step - loss: 0.4364 - accuracy: 0.8034\n",
      "Epoch 145/200\n",
      "712/712 [==============================] - 0s 177us/step - loss: 0.4386 - accuracy: 0.7992\n",
      "Epoch 146/200\n",
      "712/712 [==============================] - 0s 195us/step - loss: 0.4372 - accuracy: 0.7978\n",
      "Epoch 147/200\n",
      "712/712 [==============================] - 0s 246us/step - loss: 0.4360 - accuracy: 0.8104\n",
      "Epoch 148/200\n",
      "712/712 [==============================] - 0s 192us/step - loss: 0.4383 - accuracy: 0.8034\n",
      "Epoch 149/200\n",
      "712/712 [==============================] - 0s 230us/step - loss: 0.4344 - accuracy: 0.8076\n",
      "Epoch 150/200\n",
      "712/712 [==============================] - 0s 151us/step - loss: 0.4375 - accuracy: 0.8118\n",
      "Epoch 151/200\n",
      "712/712 [==============================] - 0s 143us/step - loss: 0.4404 - accuracy: 0.8062\n",
      "Epoch 152/200\n",
      "712/712 [==============================] - 0s 134us/step - loss: 0.4414 - accuracy: 0.8034\n",
      "Epoch 153/200\n",
      "712/712 [==============================] - 0s 125us/step - loss: 0.4346 - accuracy: 0.8062\n",
      "Epoch 154/200\n",
      "712/712 [==============================] - 0s 137us/step - loss: 0.4399 - accuracy: 0.7992\n",
      "Epoch 155/200\n",
      "712/712 [==============================] - 0s 202us/step - loss: 0.4378 - accuracy: 0.8104\n",
      "Epoch 156/200\n",
      "712/712 [==============================] - 0s 168us/step - loss: 0.4428 - accuracy: 0.8104\n",
      "Epoch 157/200\n"
     ]
    },
    {
     "name": "stdout",
     "output_type": "stream",
     "text": [
      "712/712 [==============================] - 0s 300us/step - loss: 0.4397 - accuracy: 0.8090\n",
      "Epoch 158/200\n",
      "712/712 [==============================] - 0s 247us/step - loss: 0.4438 - accuracy: 0.7992\n",
      "Epoch 159/200\n",
      "712/712 [==============================] - 0s 260us/step - loss: 0.4401 - accuracy: 0.8146\n",
      "Epoch 160/200\n",
      "712/712 [==============================] - 0s 213us/step - loss: 0.4343 - accuracy: 0.8132\n",
      "Epoch 161/200\n",
      "712/712 [==============================] - 0s 181us/step - loss: 0.4368 - accuracy: 0.8132\n",
      "Epoch 162/200\n",
      "712/712 [==============================] - 0s 306us/step - loss: 0.4417 - accuracy: 0.7963\n",
      "Epoch 163/200\n",
      "712/712 [==============================] - 0s 177us/step - loss: 0.4363 - accuracy: 0.8118\n",
      "Epoch 164/200\n",
      "712/712 [==============================] - 0s 183us/step - loss: 0.4339 - accuracy: 0.8104\n",
      "Epoch 165/200\n",
      "712/712 [==============================] - 0s 199us/step - loss: 0.4338 - accuracy: 0.8062\n",
      "Epoch 166/200\n",
      "712/712 [==============================] - 0s 166us/step - loss: 0.4340 - accuracy: 0.8104\n",
      "Epoch 167/200\n",
      "712/712 [==============================] - 0s 148us/step - loss: 0.4336 - accuracy: 0.8076\n",
      "Epoch 168/200\n",
      "712/712 [==============================] - 0s 165us/step - loss: 0.4395 - accuracy: 0.7963\n",
      "Epoch 169/200\n",
      "712/712 [==============================] - 0s 194us/step - loss: 0.4526 - accuracy: 0.7935\n",
      "Epoch 170/200\n",
      "712/712 [==============================] - 0s 132us/step - loss: 0.4374 - accuracy: 0.8146\n",
      "Epoch 171/200\n",
      "712/712 [==============================] - 0s 189us/step - loss: 0.4347 - accuracy: 0.8090\n",
      "Epoch 172/200\n",
      "712/712 [==============================] - 0s 197us/step - loss: 0.4367 - accuracy: 0.8048\n",
      "Epoch 173/200\n",
      "712/712 [==============================] - 0s 193us/step - loss: 0.4351 - accuracy: 0.8034\n",
      "Epoch 174/200\n",
      "712/712 [==============================] - 0s 186us/step - loss: 0.4320 - accuracy: 0.8104\n",
      "Epoch 175/200\n",
      "712/712 [==============================] - 0s 249us/step - loss: 0.4322 - accuracy: 0.8104\n",
      "Epoch 176/200\n",
      "712/712 [==============================] - 0s 223us/step - loss: 0.4323 - accuracy: 0.8146\n",
      "Epoch 177/200\n",
      "712/712 [==============================] - 0s 208us/step - loss: 0.4314 - accuracy: 0.8132\n",
      "Epoch 178/200\n",
      "712/712 [==============================] - 0s 211us/step - loss: 0.4401 - accuracy: 0.8076\n",
      "Epoch 179/200\n",
      "712/712 [==============================] - 0s 215us/step - loss: 0.4349 - accuracy: 0.8090\n",
      "Epoch 180/200\n",
      "712/712 [==============================] - 0s 207us/step - loss: 0.4325 - accuracy: 0.8076\n",
      "Epoch 181/200\n",
      "712/712 [==============================] - 0s 205us/step - loss: 0.4324 - accuracy: 0.8062\n",
      "Epoch 182/200\n",
      "712/712 [==============================] - 0s 186us/step - loss: 0.4288 - accuracy: 0.8076\n",
      "Epoch 183/200\n",
      "712/712 [==============================] - 0s 264us/step - loss: 0.4295 - accuracy: 0.8090\n",
      "Epoch 184/200\n",
      "712/712 [==============================] - 0s 298us/step - loss: 0.4333 - accuracy: 0.8062\n",
      "Epoch 185/200\n",
      "712/712 [==============================] - 0s 332us/step - loss: 0.4377 - accuracy: 0.8076\n",
      "Epoch 186/200\n",
      "712/712 [==============================] - 0s 287us/step - loss: 0.4399 - accuracy: 0.8034\n",
      "Epoch 187/200\n",
      "712/712 [==============================] - 0s 190us/step - loss: 0.4447 - accuracy: 0.7963\n",
      "Epoch 188/200\n",
      "712/712 [==============================] - 0s 296us/step - loss: 0.4378 - accuracy: 0.8076\n",
      "Epoch 189/200\n",
      "712/712 [==============================] - 0s 204us/step - loss: 0.4313 - accuracy: 0.8076\n",
      "Epoch 190/200\n",
      "712/712 [==============================] - 0s 135us/step - loss: 0.4343 - accuracy: 0.8020\n",
      "Epoch 191/200\n",
      "712/712 [==============================] - 0s 147us/step - loss: 0.4329 - accuracy: 0.8104\n",
      "Epoch 192/200\n",
      "712/712 [==============================] - 0s 158us/step - loss: 0.4353 - accuracy: 0.7963\n",
      "Epoch 193/200\n",
      "712/712 [==============================] - 0s 201us/step - loss: 0.4350 - accuracy: 0.8034\n",
      "Epoch 194/200\n",
      "712/712 [==============================] - 0s 144us/step - loss: 0.4282 - accuracy: 0.8118\n",
      "Epoch 195/200\n",
      "712/712 [==============================] - 0s 123us/step - loss: 0.4319 - accuracy: 0.8076\n",
      "Epoch 196/200\n",
      "712/712 [==============================] - 0s 127us/step - loss: 0.4315 - accuracy: 0.8104\n",
      "Epoch 197/200\n",
      "712/712 [==============================] - 0s 137us/step - loss: 0.4350 - accuracy: 0.8048\n",
      "Epoch 198/200\n",
      "712/712 [==============================] - 0s 167us/step - loss: 0.4315 - accuracy: 0.8076\n",
      "Epoch 199/200\n",
      "712/712 [==============================] - 0s 195us/step - loss: 0.4345 - accuracy: 0.8132\n",
      "Epoch 200/200\n",
      "712/712 [==============================] - 0s 123us/step - loss: 0.4304 - accuracy: 0.8104\n"
     ]
    },
    {
     "data": {
      "text/plain": [
       "<keras.callbacks.callbacks.History at 0x7fd8d3b01f60>"
      ]
     },
     "execution_count": 97,
     "metadata": {},
     "output_type": "execute_result"
    }
   ],
   "source": [
    "# Compiling the NN\n",
    "model.compile(optimizer = 'adam', loss = 'binary_crossentropy', metrics = ['accuracy'])\n",
    "\n",
    "# Train the NN\n",
    "model.fit(train_X, train_Y, batch_size = 32, epochs = 200)\n"
   ]
  },
  {
   "cell_type": "markdown",
   "metadata": {},
   "source": [
    "### Discussion\n",
    "\n",
    "As we can see from the results of the NN prediction on the test data, the accuracy is 81% with a loss of 0.4304"
   ]
  },
  {
   "cell_type": "markdown",
   "metadata": {},
   "source": [
    "## Part 5: Putting it all together!\n",
    "\n",
    "Create a final table that summarizes the performance of your models as follows. What do you observe? Are there trends in which models and hyperparameters work best?\n",
    "\n",
    "| Model | Cross-validated Performance   | Train Performance | Test Performance | Chosen Hyperparameters | \n",
    "|------|------|------| | |\n",
    "|   Decision Tree        |  |  |  |  |\n",
    "|   Decision Tree (with imputed missing values and new features) |  |  |  |  |\n",
    "|   SVM  |  |  |  |  |\n",
    "|   SVM (with imputed missing values and new features)        |  |  |  |  |\n",
    "|   Random Forest        |  |  |  |  |\n",
    "|   Random Forest (with imputed missing values and new features)        |  |   |  | |\n",
    "|   Gradient Boosting    |  |  |  |  |\n",
    "|   Gradient Boosting (with imputed missing values and new features)        |  |  |  |  |\n",
    "|   Neural Network    |  |  |  |  |\n",
    "|   Neural Network (with imputed missing values and new features)        |  |   |  |  |"
   ]
  },
  {
   "cell_type": "code",
   "execution_count": null,
   "metadata": {},
   "outputs": [],
   "source": [
    "#Creating New features\n",
    "data['Number_of_Characters_Name'] = data.Name.apply(len)\n",
    "\n",
    "#Label Encoding Cabin data (Null values will be used as a separate encoded level)\n",
    "data.Cabin= le.fit_transform(data.Cabin.astype(str))\n",
    "\n",
    "#More on how to engineer new features mentioned below"
   ]
  },
  {
   "cell_type": "code",
   "execution_count": null,
   "metadata": {},
   "outputs": [],
   "source": [
    "#Features Selection\n",
    "features_req = ['Pclass','Sex','Age','SibSp','Parch','Fare','Embarked','Survived','Cabin','Number_of_Characters_Name']\n",
    "data_imputed_new_features = data[features_req]\n",
    "\n",
    "#Train -Test split\n",
    "train, test= train_test_split(data_imputed_new_features,train_size = 0.8,random_state=123)\n",
    "print(train.shape)\n",
    "print(test.shape)\n",
    "\n",
    "#Feature Selection\n",
    "features= ['Pclass','Sex','Age','SibSp','Parch','Fare','Embarked','Cabin','Number_of_Characters_Name']\n",
    "train_X = train[features]\n",
    "train_Y = train['Survived']\n",
    "test_X = test[features]\n",
    "test_Y = test['Survived']"
   ]
  },
  {
   "cell_type": "code",
   "execution_count": null,
   "metadata": {},
   "outputs": [],
   "source": [
    "#Decision Tree\n",
    "print(\"Decision Tree\")\n",
    "print()\n",
    "\n",
    "model = DecisionTreeClassifier(max_depth=4, random_state=11)\n",
    "cross_validation_result = cross_validate(model, train_X, train_Y, cv=10,return_estimator=True)\n",
    "fold_number = list(range(1,11,1))\n",
    "fold_accuracy = pd.DataFrame({\"Fold\": fold_number,\"TestAccuracy\":cross_validation_result['test_score']})\n",
    "\n",
    "print(\"Cross-Validated Accuracy:\")\n",
    "print(fold_accuracy.TestAccuracy.mean())\n",
    "\n",
    "print()\n",
    "#Best model's Performance on Hold-out Test data  \n",
    "best_fold = fold_accuracy.TestAccuracy.idxmax()\n",
    "best_model = cross_validation_result['estimator'][best_fold]\n",
    "\n",
    "print(\"Test Set Accuracy:\")\n",
    "print(accuracy_score(test_Y, best_model.predict(test_X)))"
   ]
  },
  {
   "cell_type": "code",
   "execution_count": null,
   "metadata": {},
   "outputs": [],
   "source": [
    "#SVM\n",
    "print(\"SVM\")\n",
    "print()\n",
    "\n",
    "#Linear SVM model with C=1 \n",
    "model = SVC(C=1, kernel='linear', random_state=11)\n",
    "cross_validation_result = cross_validate(model, train_X, train_Y, cv=10,return_estimator=True)\n",
    "fold_number = list(range(1,11,1))\n",
    "fold_accuracy = pd.DataFrame({\"Fold\": fold_number,\"TestAccuracy\":cross_validation_result['test_score']})\n",
    "\n",
    "print(\"Cross-Validated Accuracy:\")\n",
    "print(fold_accuracy.TestAccuracy.mean())\n",
    "\n",
    "print()\n",
    "#Best model's Performance on Hold-out Test data  \n",
    "best_fold = fold_accuracy.TestAccuracy.idxmax()\n",
    "best_model = cross_validation_result['estimator'][best_fold]\n",
    "\n",
    "print(\"Test Set Accuracy:\")\n",
    "print(accuracy_score(test_Y, best_model.predict(test_X)))"
   ]
  },
  {
   "cell_type": "code",
   "execution_count": null,
   "metadata": {},
   "outputs": [],
   "source": [
    "#Random Forest \n",
    "print(\"Random Forest\")\n",
    "print()\n",
    "\n",
    "model = RandomForestClassifier(n_estimators=100,max_depth= 4,random_state=11)\n",
    "cross_validation_result = cross_validate(model, train_X, train_Y, cv=10,return_estimator=True)\n",
    "fold_number = list(range(1,11,1))\n",
    "fold_accuracy = pd.DataFrame({\"Fold\": fold_number,\"TestAccuracy\":cross_validation_result['test_score']})\n",
    "\n",
    "print(\"Cross-Validated Accuracy:\")\n",
    "print(fold_accuracy.TestAccuracy.mean())\n",
    "\n",
    "print()\n",
    "#Best model's Performance on Hold-out Test data  \n",
    "best_fold = fold_accuracy.TestAccuracy.idxmax()\n",
    "best_model = cross_validation_result['estimator'][best_fold]\n",
    "\n",
    "print(\"Test Set Accuracy:\")\n",
    "print(accuracy_score(test_Y, best_model.predict(test_X)))"
   ]
  },
  {
   "cell_type": "code",
   "execution_count": null,
   "metadata": {},
   "outputs": [],
   "source": [
    "#GBM\n",
    "#Random Forest \n",
    "print(\"Gradient Boosting Machine\")\n",
    "print()\n",
    "\n",
    "model = GradientBoostingClassifier(n_estimators=400,learning_rate= 0.01,random_state=11)\n",
    "cross_validation_result = cross_validate(model, train_X, train_Y, cv=10,return_estimator=True)\n",
    "fold_number = list(range(1,11,1))\n",
    "fold_accuracy = pd.DataFrame({\"Fold\": fold_number,\"TestAccuracy\":cross_validation_result['test_score']})\n",
    "\n",
    "print(\"Cross-Validated Accuracy:\")\n",
    "print(fold_accuracy.TestAccuracy.mean())\n",
    "\n",
    "print()\n",
    "#Best model's Performance on Hold-out Test data  \n",
    "best_fold = fold_accuracy.TestAccuracy.idxmax()\n",
    "best_model = cross_validation_result['estimator'][best_fold]\n",
    "\n",
    "print(\"Test Set Accuracy:\")\n",
    "print(accuracy_score(test_Y, best_model.predict(test_X)))"
   ]
  },
  {
   "cell_type": "markdown",
   "metadata": {},
   "source": [
    "##### Final Comparison Table (based on results from this and previous parts):\n",
    "\n",
    "\n",
    "| Model | Cross-validated Performance   | Test Performance | \n",
    "|------|------|------|\n",
    "|   Decision Tree (From 2.1)      | 75.29 |  77.62|\n",
    "|   Decision Tree (with imputed missing values and new features)        | 81.04  |82.12  |\n",
    "|   SVM (From 2.4)  | 78.8 | 74.82 |\n",
    "|   SVM (with imputed missing values and new features)        |  78.38| 79.88 |\n",
    "|   Random Forest (with imputed missing values - from 3.2)      |  82.47|86.59  |\n",
    "|   Random Forest (with imputed missing values and new features)        |81.88  | 82.68  |\n",
    "|   Gradient Boosting (with imputed missing values - from 3.3)     | 83.28 |83.79  | \n",
    "|   Gradient Boosting (with imputed missing values and new features)        | 82.71 | 83.79  |\n",
    "\n"
   ]
  },
  {
   "cell_type": "markdown",
   "metadata": {},
   "source": [
    "### Discussion\n",
    "#### Process for generating New Features from Name :\n",
    "\n",
    "  - Since Name is a textual field, we could apply a lot of text analytics feature to engineer new features from the Name field, such as:\n",
    "      - We can represent the data in bag of words format\n",
    "      - We can compute TF-IDF score of different words from the textual corpus\n",
    "      - We can identify the relevant words based on tf-idf score and keep only top few of those as binary fetaures (presence or absence of those words\n",
    "      - Count the number of vowels in the name\n",
    "      - Count the number of characters in the name (done here)\n",
    "    "
   ]
  }
 ],
 "metadata": {
  "anaconda-cloud": {},
  "kernelspec": {
   "display_name": "Python 3 (ipykernel)",
   "language": "python",
   "name": "python3"
  },
  "language_info": {
   "codemirror_mode": {
    "name": "ipython",
    "version": 3
   },
   "file_extension": ".py",
   "mimetype": "text/x-python",
   "name": "python",
   "nbconvert_exporter": "python",
   "pygments_lexer": "ipython3",
   "version": "3.9.7"
  }
 },
 "nbformat": 4,
 "nbformat_minor": 1
}
