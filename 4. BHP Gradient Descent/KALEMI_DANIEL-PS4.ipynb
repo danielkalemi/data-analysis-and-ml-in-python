{
 "cells": [
  {
   "cell_type": "markdown",
   "metadata": {
    "id": "ckWwG9pdjl7E"
   },
   "source": [
    "\n",
    "This is a fun but challenging problem set. It will test your python skills, as well as your understanding of the material in class and in the readings. Start early and debug often! Some notes:\n",
    "\n",
    "* Part 1 is meant to be easy, so get through it quickly.\n",
    "* Part 2 (especially 2.1) will be difficult, but it is the lynchpin of this problem set to make sure to do it well and understand what you've done. If you find your gradient descent algorithm is taking more than a few minutes to complete, debug more, compare notes with others, and go to the Lab sessions (especially the sections on vectorized computation and computational efficiency).\n",
    "* Depending on how well you've done 2.1, parts 2.3 and 4.3 will be relatively painless or incredibly painful. \n",
    "\n",
    "* Part 4 (especially 4.3) will be computationally intensive. Don't leave this until the last minute, otherwise your code might be running when the deadline arrives.\n",
    "\n",
    "* Do the extra credit problems last. This can help you increase your scores"
   ]
  },
  {
   "cell_type": "markdown",
   "metadata": {
    "id": "9Bscj7wWjl7I"
   },
   "source": [
    "---\n",
    "\n",
    "## Introduction to the assignment\n",
    "\n",
    "As with the last assignment, you will be using the [Boston Housing Prices Data Set](https://archive.ics.uci.edu/ml/machine-learning-databases/housing/housing.names)."
   ]
  },
  {
   "cell_type": "code",
   "execution_count": 1,
   "metadata": {
    "id": "t0_LwTzXjl7J"
   },
   "outputs": [],
   "source": [
    "import IPython\n",
    "import numpy as np\n",
    "import scipy as sp\n",
    "import pandas as pd\n",
    "import matplotlib\n",
    "import sklearn\n",
    "\n",
    "%matplotlib inline  \n",
    "import matplotlib.pyplot as plt  \n",
    "import statsmodels.api as sm\n",
    "from sklearn.linear_model import LinearRegression\n",
    "from sklearn.metrics import mean_squared_error\n",
    "import statsmodels.formula.api as smf\n",
    "# Additional imports\n",
    "from statsmodels.formula.api  import ols\n",
    "from sklearn.model_selection import KFold\n",
    "from sklearn.model_selection import train_test_split\n",
    "import warnings\n",
    "warnings.filterwarnings('ignore')"
   ]
  },
  {
   "cell_type": "code",
   "execution_count": 2,
   "metadata": {
    "id": "72miT9Zhjl7K"
   },
   "outputs": [
    {
     "data": {
      "text/html": [
       "<div>\n",
       "<style scoped>\n",
       "    .dataframe tbody tr th:only-of-type {\n",
       "        vertical-align: middle;\n",
       "    }\n",
       "\n",
       "    .dataframe tbody tr th {\n",
       "        vertical-align: top;\n",
       "    }\n",
       "\n",
       "    .dataframe thead th {\n",
       "        text-align: right;\n",
       "    }\n",
       "</style>\n",
       "<table border=\"1\" class=\"dataframe\">\n",
       "  <thead>\n",
       "    <tr style=\"text-align: right;\">\n",
       "      <th></th>\n",
       "      <th>CRIM</th>\n",
       "      <th>ZN</th>\n",
       "      <th>INDUS</th>\n",
       "      <th>CHAS</th>\n",
       "      <th>NOX</th>\n",
       "      <th>RM</th>\n",
       "      <th>AGE</th>\n",
       "      <th>DIS</th>\n",
       "      <th>RAD</th>\n",
       "      <th>TAX</th>\n",
       "      <th>PTRATIO</th>\n",
       "      <th>B</th>\n",
       "      <th>LSTAT</th>\n",
       "      <th>MEDV</th>\n",
       "    </tr>\n",
       "  </thead>\n",
       "  <tbody>\n",
       "    <tr>\n",
       "      <th>0</th>\n",
       "      <td>0.218960</td>\n",
       "      <td>18.0</td>\n",
       "      <td>2.629288</td>\n",
       "      <td>0.0</td>\n",
       "      <td>0.869420</td>\n",
       "      <td>6.875396</td>\n",
       "      <td>65.2</td>\n",
       "      <td>4.347275</td>\n",
       "      <td>1.0</td>\n",
       "      <td>307.0</td>\n",
       "      <td>15.534711</td>\n",
       "      <td>397.462329</td>\n",
       "      <td>5.715647</td>\n",
       "      <td>24.0</td>\n",
       "    </tr>\n",
       "    <tr>\n",
       "      <th>1</th>\n",
       "      <td>0.141576</td>\n",
       "      <td>0.0</td>\n",
       "      <td>7.315612</td>\n",
       "      <td>0.0</td>\n",
       "      <td>0.549711</td>\n",
       "      <td>6.499894</td>\n",
       "      <td>78.9</td>\n",
       "      <td>5.315684</td>\n",
       "      <td>2.0</td>\n",
       "      <td>255.0</td>\n",
       "      <td>17.914131</td>\n",
       "      <td>397.012611</td>\n",
       "      <td>9.338417</td>\n",
       "      <td>21.6</td>\n",
       "    </tr>\n",
       "    <tr>\n",
       "      <th>2</th>\n",
       "      <td>0.380457</td>\n",
       "      <td>0.0</td>\n",
       "      <td>7.340354</td>\n",
       "      <td>0.0</td>\n",
       "      <td>0.697928</td>\n",
       "      <td>7.263489</td>\n",
       "      <td>61.1</td>\n",
       "      <td>5.356935</td>\n",
       "      <td>2.0</td>\n",
       "      <td>243.0</td>\n",
       "      <td>17.919989</td>\n",
       "      <td>396.628236</td>\n",
       "      <td>4.142473</td>\n",
       "      <td>34.7</td>\n",
       "    </tr>\n",
       "    <tr>\n",
       "      <th>3</th>\n",
       "      <td>0.313563</td>\n",
       "      <td>0.0</td>\n",
       "      <td>2.562407</td>\n",
       "      <td>0.0</td>\n",
       "      <td>0.599629</td>\n",
       "      <td>7.209732</td>\n",
       "      <td>45.8</td>\n",
       "      <td>6.103983</td>\n",
       "      <td>3.0</td>\n",
       "      <td>226.0</td>\n",
       "      <td>18.979527</td>\n",
       "      <td>398.564784</td>\n",
       "      <td>3.239272</td>\n",
       "      <td>33.4</td>\n",
       "    </tr>\n",
       "    <tr>\n",
       "      <th>4</th>\n",
       "      <td>0.330105</td>\n",
       "      <td>0.0</td>\n",
       "      <td>2.497337</td>\n",
       "      <td>0.0</td>\n",
       "      <td>0.476077</td>\n",
       "      <td>7.184111</td>\n",
       "      <td>54.2</td>\n",
       "      <td>6.264372</td>\n",
       "      <td>3.0</td>\n",
       "      <td>234.0</td>\n",
       "      <td>18.708888</td>\n",
       "      <td>399.487766</td>\n",
       "      <td>6.115159</td>\n",
       "      <td>36.2</td>\n",
       "    </tr>\n",
       "  </tbody>\n",
       "</table>\n",
       "</div>"
      ],
      "text/plain": [
       "       CRIM    ZN     INDUS  CHAS       NOX        RM   AGE       DIS  RAD  \\\n",
       "0  0.218960  18.0  2.629288   0.0  0.869420  6.875396  65.2  4.347275  1.0   \n",
       "1  0.141576   0.0  7.315612   0.0  0.549711  6.499894  78.9  5.315684  2.0   \n",
       "2  0.380457   0.0  7.340354   0.0  0.697928  7.263489  61.1  5.356935  2.0   \n",
       "3  0.313563   0.0  2.562407   0.0  0.599629  7.209732  45.8  6.103983  3.0   \n",
       "4  0.330105   0.0  2.497337   0.0  0.476077  7.184111  54.2  6.264372  3.0   \n",
       "\n",
       "     TAX    PTRATIO           B     LSTAT  MEDV  \n",
       "0  307.0  15.534711  397.462329  5.715647  24.0  \n",
       "1  255.0  17.914131  397.012611  9.338417  21.6  \n",
       "2  243.0  17.919989  396.628236  4.142473  34.7  \n",
       "3  226.0  18.979527  398.564784  3.239272  33.4  \n",
       "4  234.0  18.708888  399.487766  6.115159  36.2  "
      ]
     },
     "execution_count": 2,
     "metadata": {},
     "output_type": "execute_result"
    }
   ],
   "source": [
    "# Load you data the Boston Housing data into a dataframe\n",
    "# MEDV.txt containt the median house values and data.txt the other 13 features\n",
    "# in order [\"CRIM\", \"ZN\", \"INDUS\", \"CHAS\", \"NOX\",\"RM\",\"AGE\",\"DIS\",\"RAD\",\"TAX\",\"PTRATIO\",\"B\",\"LSTAT\"]\n",
    "# Your code here\n",
    "\n",
    "# load the text files to numpy arrays\n",
    "data = np.loadtxt('data.txt')\n",
    "target = np.loadtxt('target.txt')\n",
    "\n",
    "# turn the numpy array into a pandas dataframe \n",
    "boston_data = pd.DataFrame(data)\n",
    "boston_data.columns=['CRIM', 'ZN', 'INDUS', 'CHAS', 'NOX', 'RM', 'AGE', 'DIS', 'RAD', 'TAX', 'PTRATIO', 'B', 'LSTAT']\n",
    "#adding the target colunm (MEDV) to the boston dataframe\n",
    "boston_data['MEDV']= target\n",
    "# see the head of the df\n",
    "boston_data.head()"
   ]
  },
  {
   "cell_type": "markdown",
   "metadata": {
    "id": "2cbXmKF9jl7L"
   },
   "source": [
    "---\n",
    "\n",
    "## Part 1: Getting oriented\n",
    "\n",
    "\n",
    "### 1.1 Use existing libraries\n",
    "\n",
    "Soon, you will write your own gradient descent algorithm, which you will then use to minimize the squared error cost function.  First, however, let's use the canned versions that come with Python, to make sure we understand what we're aiming to achieve.\n",
    "\n",
    "Using the same Boston housing prices dataset, use the [Linear Regression class](http://scikit-learn.org/stable/modules/generated/sklearn.linear_model.LinearRegression.html) from sklearn or the [OLS class](http://wiki.scipy.org/Cookbook/OLS) from SciPy to explore the relationship between median housing price and number of rooms per house. Do the following:\n",
    "\n",
    "(a) Regress the housing price on the number of rooms per house. Draw a scatter plot of housing price (y-axis) against rooms (x-axis), and draw the regression line in blue.  You might want to make the dots semi-transparent if it improves the presentation of the figure. \n",
    "\n",
    "(b) Regress the housing price on the number of rooms per house and the (number of rooms per house) squared.  Show the (curved) regression line in green. \n",
    "\n",
    "(c) Interpret your results."
   ]
  },
  {
   "cell_type": "markdown",
   "metadata": {},
   "source": [
    "##### (a) Regress the housing price on the number of rooms per house. \n",
    "\n",
    "- Draw a scatter plot of housing price (y-axis) against rooms (x-axis)\n",
    "- draw the regression line in blue"
   ]
  },
  {
   "cell_type": "code",
   "execution_count": 3,
   "metadata": {
    "id": "hxCNK0pTjl7L"
   },
   "outputs": [
    {
     "data": {
      "image/png": "[encoded data removed]",
      "text/plain": [
       "<Figure size 432x432 with 1 Axes>"
      ]
     },
     "metadata": {
      "needs_background": "light"
     },
     "output_type": "display_data"
    }
   ],
   "source": [
    "# Regressing the housing price on the number of rooms per house\n",
    "model1 = ols(formula = 'MEDV ~  RM', data = boston_data).fit()\n",
    "#model1.summary()\n",
    "\n",
    "X=boston_data['RM'].copy()\n",
    "Y=boston_data['MEDV'].copy()\n",
    "X_sorted_idx=np.argsort(boston_data['RM'].values)\n",
    "X_sorted = X.sort_values()\n",
    "\n",
    "#Plotting\n",
    "fig = plt.figure(figsize=(6,6))\n",
    "ax = fig.add_subplot()\n",
    "\n",
    "#Predictions from Models\n",
    "Y_a_plot = model1.params[0] + model1.params[1]*X_sorted\n",
    "ax.plot(X_sorted, Y_a_plot, c='C0', lw=3, label='Linear', zorder=2)\n",
    "ax.scatter(X, Y, alpha=0.5, c='C3')\n",
    "plt.axis([3,10,0,55])\n",
    "ax.set_xlabel('Average number of rooms per dwelling')\n",
    "ax.set_ylabel(\"Median value of owner-occupied homes in $1000's\")\n",
    "plt.title(\"Regression: housing price (y-axis) against rooms (x-axis)\")\n",
    "\n",
    "ax.legend()\n",
    "ax.spines['right'].set_visible(False)\n",
    "ax.spines['top'].set_visible(False)"
   ]
  },
  {
   "cell_type": "markdown",
   "metadata": {},
   "source": [
    "#### (b) Regressing the housing price on the number of rooms per house and the (number of rooms per house) squared \n",
    "- Show the (curved) regression line in green.\n"
   ]
  },
  {
   "cell_type": "code",
   "execution_count": 4,
   "metadata": {},
   "outputs": [
    {
     "data": {
      "image/png": "[encoded data removed]",
      "text/plain": [
       "<Figure size 432x432 with 1 Axes>"
      ]
     },
     "metadata": {
      "needs_background": "light"
     },
     "output_type": "display_data"
    }
   ],
   "source": [
    "model2 = ols(formula = 'MEDV ~  RM +  I(RM**2)', data = boston_data).fit()\n",
    "#model2.summary()\n",
    "\n",
    "#Plotting\n",
    "fig = plt.figure(figsize=(6,6))\n",
    "ax = fig.add_subplot()\n",
    "\n",
    "#Predictions from Models\n",
    "Y_a_plot = model1.params[0] + model1.params[1]*X_sorted\n",
    "ax.plot(X_sorted, Y_a_plot, c='C0', lw=3, label='Linear', zorder=2)\n",
    "ax.scatter(X, Y, alpha=0.5, c='C3')\n",
    "Y_b_plot = model2.params[0] + model2.params[1]*(X_sorted) + model2.params[2]*(X_sorted**2)\n",
    "ax.plot(X_sorted, Y_b_plot, c='C2', lw=3, label='Quadratic', zorder=1)\n",
    "#plt.axis([3,10,10,55])\n",
    "ax.set_xlabel('Average number of rooms per dwelling')\n",
    "ax.set_ylabel(\"Median value of owner-occupied homes in $1000's\")\n",
    "plt.title(\"Regression: housing price (y-axis) against rooms (x-axis)\")\n",
    "\n",
    "ax.legend()\n",
    "ax.spines['right'].set_visible(False)\n",
    "ax.spines['top'].set_visible(False)"
   ]
  },
  {
   "cell_type": "markdown",
   "metadata": {
    "id": "bjxD1XjXjl7M"
   },
   "source": [
    "#### (c) Interpretation\n",
    "\n",
    "By just looking at the second graph, were the 2 regressions are plotted, most of the points in the dataset are concentrated between 5-8 rooms per dwelling (x-axis) and average median prices 10k-40k dollars (y-axis), with some skeweness in the 50k range.\n",
    "The general trend is that the more the rooms per dwelling, the higher the median house price, with the exception of houses with 3-5 rooms, where we see a slight dicrease in value. The quadratic curve seems to be a better fit for the distribution, since it captures this exception (rooms 3-5), but other than that, by just looking at the graph, we can't conclude much.\n",
    "\n",
    "Alternatively, we can look at the OLS summary and observe the R-square (they are commented out)\n",
    "\n",
    "Model a)\n",
    "* R-Squared: 0.473\n",
    "* Adjusted R-Squared: 0.472\n",
    "\n",
    "Model b)\n",
    "* R-Squared:0.539\n",
    "* Adjusted R-Squared:0.538\n",
    "\n",
    "From the OLS summaries, we can see that model b with quadratic interaction has improved in adjusted r-squared, meaning that it has better goodness of fit as compared to model a which only has the linear interaction between the dependent and the independent variables."
   ]
  },
  {
   "cell_type": "markdown",
   "metadata": {
    "id": "hkO8pHRvjl7N"
   },
   "source": [
    "### 1.2 Training and testing\n",
    "\n",
    "Chances are, for the above problem you used all of your data to fit the regression line. In some circumstances this is a reasonable thing to do, but often this will result in overfitting. Let's redo the above results the ML way, using careful cross-validation.  Since you are now experts in cross-validation, and have written your own cross-validation algorithm from scratch, you can now take a shortcut and use the libraries that others have built for you.\n",
    "\n",
    "Using the [cross-validation functions](http://scikit-learn.org/stable/modules/cross_validation.html) from scikit-learn, use 5-fold cross-validation to fit the regression model (a) from 1.1, i.e. the linear fit of housing price on number of rooms per house. Each fold of cross-validation will give you one slope coefficient and one intercept coefficient.  Create a new scatterplot of housing price against rooms, and draw the five different regression lines in light blue, and the oroginal regression line from 1.1 in red (which was estimated using the full dataset). What do you notice?"
   ]
  },
  {
   "cell_type": "code",
   "execution_count": 5,
   "metadata": {
    "id": "gnVo_0TDjl7O"
   },
   "outputs": [
    {
     "data": {
      "image/png": "[encoded data removed]",
      "text/plain": [
       "<Figure size 432x432 with 1 Axes>"
      ]
     },
     "metadata": {
      "needs_background": "light"
     },
     "output_type": "display_data"
    },
    {
     "name": "stdout",
     "output_type": "stream",
     "text": [
      "Below you can find the slope & intercept for each regression line\n"
     ]
    },
    {
     "data": {
      "text/html": [
       "<div>\n",
       "<style scoped>\n",
       "    .dataframe tbody tr th:only-of-type {\n",
       "        vertical-align: middle;\n",
       "    }\n",
       "\n",
       "    .dataframe tbody tr th {\n",
       "        vertical-align: top;\n",
       "    }\n",
       "\n",
       "    .dataframe thead th {\n",
       "        text-align: right;\n",
       "    }\n",
       "</style>\n",
       "<table border=\"1\" class=\"dataframe\">\n",
       "  <thead>\n",
       "    <tr style=\"text-align: right;\">\n",
       "      <th></th>\n",
       "      <th>label</th>\n",
       "      <th>alpha</th>\n",
       "      <th>beta</th>\n",
       "    </tr>\n",
       "  </thead>\n",
       "  <tbody>\n",
       "    <tr>\n",
       "      <th>0</th>\n",
       "      <td>Linear 1</td>\n",
       "      <td>-38.067059</td>\n",
       "      <td>9.379360</td>\n",
       "    </tr>\n",
       "    <tr>\n",
       "      <th>1</th>\n",
       "      <td>Linear 2</td>\n",
       "      <td>-33.304497</td>\n",
       "      <td>8.585825</td>\n",
       "    </tr>\n",
       "    <tr>\n",
       "      <th>2</th>\n",
       "      <td>Linear 3</td>\n",
       "      <td>-32.054062</td>\n",
       "      <td>8.410044</td>\n",
       "    </tr>\n",
       "    <tr>\n",
       "      <th>3</th>\n",
       "      <td>Linear 4</td>\n",
       "      <td>-41.521342</td>\n",
       "      <td>9.863039</td>\n",
       "    </tr>\n",
       "    <tr>\n",
       "      <th>4</th>\n",
       "      <td>Linear 5</td>\n",
       "      <td>-33.346966</td>\n",
       "      <td>8.615974</td>\n",
       "    </tr>\n",
       "    <tr>\n",
       "      <th>5</th>\n",
       "      <td>Linear 1.1</td>\n",
       "      <td>-35.576207</td>\n",
       "      <td>8.959927</td>\n",
       "    </tr>\n",
       "  </tbody>\n",
       "</table>\n",
       "</div>"
      ],
      "text/plain": [
       "        label      alpha      beta\n",
       "0    Linear 1 -38.067059  9.379360\n",
       "1    Linear 2 -33.304497  8.585825\n",
       "2    Linear 3 -32.054062  8.410044\n",
       "3    Linear 4 -41.521342  9.863039\n",
       "4    Linear 5 -33.346966  8.615974\n",
       "5  Linear 1.1 -35.576207  8.959927"
      ]
     },
     "execution_count": 5,
     "metadata": {},
     "output_type": "execute_result"
    }
   ],
   "source": [
    "# your code here\n",
    "n_folds=5\n",
    "kf = KFold(n_splits=n_folds, shuffle=True, random_state=11)\n",
    "\n",
    "#Getting index\n",
    "train_idx = []\n",
    "test_idx = []\n",
    "for train, test in kf.split(X):\n",
    "    train_idx.append(train)\n",
    "    test_idx.append(test)\n",
    "    \n",
    "#Fitting Regression\n",
    "coeffs = []\n",
    "\n",
    "#Plotting\n",
    "fig = plt.figure(figsize=(6,6))\n",
    "ax = fig.add_subplot()\n",
    "\n",
    "for i in range(n_folds):\n",
    "    model = LinearRegression().fit(X[train_idx[i]].values.reshape(-1,1), Y[train_idx[i]])\n",
    "    Y_plot = model.intercept_ + model.coef_[0]*X_sorted\n",
    "    ax.plot(X_sorted, Y_plot, c='C{0:.0f}'.format(i), lw=3, label='Linear {0:.0f}'.format(i+1), zorder=2)\n",
    "    coeffs.append(['Linear {0:.0f}'.format(i+1), model.intercept_, model.coef_[0]])   \n",
    "\n",
    "Y_a_plot = model1.params[0] + model1.params[1]*X_sorted\n",
    "ax.plot(X_sorted, Y_a_plot, c='C0', lw=3, label='Linear 1.1', zorder=2)\n",
    "ax.scatter(X, Y, alpha=0.5, c='C3')\n",
    "coeffs.append(['Linear 1.1', model1.params[0], model1.params[1]])  \n",
    "ax.set_xlabel('Average number of rooms per dwelling')\n",
    "ax.set_ylabel(\"Median value of owner-occupied homes in $1000's\")\n",
    "plt.title(\"Regression: housing price (y-axis) against rooms (x-axis)\")\n",
    "\n",
    "\n",
    "ax.legend()\n",
    "ax.spines['right'].set_visible(False)\n",
    "ax.spines['top'].set_visible(False)\n",
    "plt.show(fig)\n",
    "\n",
    "print(\"Below you can find the slope & intercept for each regression line\")\n",
    "df = pd.DataFrame(coeffs, columns=['label','alpha', 'beta'])\n",
    "df"
   ]
  },
  {
   "cell_type": "markdown",
   "metadata": {
    "id": "a9CI66kKjl7O"
   },
   "source": [
    "### Discussion\n",
    "\n",
    "By using sklearn's KFold function, we are able to suffle the data (randomization) and split it into test and train. Through this process I was able to perform a 5-fold cross-validation fit of the regression model and get for each fold the intercept (model.intercept_) and a slope (model.coef_[0]).\n",
    "To distinguish each of the lines, I used the iterating variable to change the color and the legend name. All 5 lines along with the regression line from 1.1 don't differ that much from each other."
   ]
  },
  {
   "cell_type": "markdown",
   "metadata": {
    "id": "cblgmgiBjl7P"
   },
   "source": [
    "## Part 2: Gradient descent: Linear Regression\n",
    "\n",
    "This is where it gets fun!\n",
    "\n",
    "### 2.1 Implement gradient descent with one independent variable (average rooms per house)\n",
    "\n",
    "Implement the batch gradient descent algorithm that we discussed in class. Use the version you implement to regress the housing price on the number of rooms per house. Experiment with 3-4 different values of the learning rate *R*, and do the following:\n",
    "\n",
    "* Report the values of alpha and beta that minimize the loss function\n",
    "* Report the number of iterations it takes for your algorithm to converge (for each value of *R*)\n",
    "* Report the total running time of your algorithm, in seconds\n",
    "* How do your coefficients compare to the ones estimated through standard libraries? Does this depend on *R*?\n",
    "\n",
    "Some skeleton code is provided below, but you should feel free to delete this code and start from scratch if you prefer.\n",
    "\n",
    "* *Hint 1: Don't forget to implement a stopping condition, so that at every iteration you check whether your results have converged. Common approaches to this are to (a) check to see if the loss has stopped decreasing; and (b) check if both your current parameter esimates are close to the estimates from the previous iteration.  In both cases, \"close\" should not be ==0, it should be <=epsilon, where epsilon is something very small (like 0.0001).*\n",
    "* *Hint 2: Some people like to include a MaxIterations parameter in their gradient descent algorithm, to prevent divergence. *"
   ]
  },
  {
   "cell_type": "code",
   "execution_count": 6,
   "metadata": {
    "id": "yAfAQ5EQjl7Q"
   },
   "outputs": [],
   "source": [
    "import time\n",
    "\n",
    "\"\"\"\n",
    "Function\n",
    "--------\n",
    "bivariate_ols\n",
    "    Gradient Decent to minimize OLS. Used to find co-efficients of bivariate OLS Linear regression\n",
    "\n",
    "Parameters\n",
    "----------\n",
    "xvalues, yvalues : narray\n",
    "    xvalues: independent variable\n",
    "    yvalues: dependent variable\n",
    "    \n",
    "alpha_int : float\n",
    "    initial alpha\n",
    "\n",
    "beta_int : float\n",
    "    initial beta\n",
    "    \n",
    "epsilon : float\n",
    "    Threshold for convergence \n",
    "    \n",
    "R: float\n",
    "    Learning rate\n",
    "    \n",
    "MaxIterations: Int\n",
    "    maximum number of iterations\n",
    "    \n",
    "\n",
    "Returns\n",
    "-------\n",
    "alpha: float\n",
    "    intercept\n",
    "    \n",
    "beta: float\n",
    "    co-efficient\n",
    "\"\"\"\n",
    "def bivariate_ols(xvalues, yvalues, alpha_int, beta_int, epsilon, R=0.01, MaxIterations=1000):\n",
    "    # initialize the parameters\n",
    "    start_time = time.time()\n",
    "    #Used initialized coefficients\n",
    "    alpha = alpha_int\n",
    "    beta = beta_int\n",
    "    \n",
    "    N = len(yvalues)\n",
    "    # Loop till maximum iterations are achieved\n",
    "    for i in range(MaxIterations):\n",
    "        \n",
    "        # compute new coefficients\n",
    "        new_alpha = alpha - ((R/N) * np.sum(alpha + beta*xvalues - yvalues))\n",
    "        new_beta = beta - ((R/N) * np.sum((alpha + beta*xvalues - yvalues)*xvalues))\n",
    "        # Check for stopping criteria\n",
    "        if (np.abs(new_alpha-alpha)<epsilon) and (np.abs(new_beta-beta)<epsilon):\n",
    "            alpha = new_alpha\n",
    "            beta = new_beta\n",
    "            break\n",
    "        else:\n",
    "            alpha = new_alpha\n",
    "            beta = new_beta\n",
    "    \n",
    "    # Calculate the number of iteration\n",
    "    iterations = i+1\n",
    "    if iterations==MaxIterations:\n",
    "        print(\"Stopped because maximum number of iterations reached!!!\")    \n",
    "     \n",
    "    print(\"Total Iterations: \"+ str(iterations))\n",
    "    print(\"Time taken: {:.2f} seconds\".format(time.time() - start_time))\n",
    "    return alpha, beta\n",
    "\n",
    "# example function call\n",
    "#print(bivariate_ols(X, Y, alpha_int, beta_int, R=0.01, epsilon=0.000001, MaxIterations=50000))"
   ]
  },
  {
   "cell_type": "code",
   "execution_count": 7,
   "metadata": {},
   "outputs": [
    {
     "name": "stdout",
     "output_type": "stream",
     "text": [
      "For R = 0.01\n",
      "Total Iterations: 72847\n",
      "Time taken: 2.26 seconds\n",
      "alpha = -35.57\n",
      "beta  = 8.96\n",
      "\n",
      "For R = 0.001\n",
      "Stopped because maximum number of iterations reached!!!\n",
      "Total Iterations: 50000\n",
      "Time taken: 3.46 seconds\n",
      "alpha = -15.26\n",
      "beta  = 5.86\n",
      "\n",
      "For R = 0.0001\n",
      "Stopped because maximum number of iterations reached!!!\n",
      "Total Iterations: 50000\n",
      "Time taken: 3.50 seconds\n",
      "alpha = -1.62\n",
      "beta  = 3.78\n",
      "\n",
      "For R = 0.00001\n",
      "Total Iterations: 10899\n",
      "Time taken: 0.72 seconds\n",
      "alpha = 0.33\n",
      "beta  = 3.46\n"
     ]
    }
   ],
   "source": [
    "X = boston_data['RM'].values.copy()\n",
    "Y = boston_data['MEDV'].values.copy()\n",
    "\n",
    "# initialize alpha and beta\n",
    "alpha_int = 0\n",
    "beta_int = 1\n",
    "\n",
    "# R = 0.01\n",
    "print('For R = 0.01')\n",
    "alpha, beta = bivariate_ols(X, Y, alpha_int, beta_int,R=0.01, epsilon=0.000001, MaxIterations=100000)\n",
    "print('alpha = {:.2f}'.format(alpha))\n",
    "print('beta  = {:.2f}'.format(beta))\n",
    "\n",
    "print()\n",
    "# R = 0.001\n",
    "print('For R = 0.001')\n",
    "alpha, beta = bivariate_ols(X, Y, alpha_int, beta_int,R=0.001, epsilon=0.00001, MaxIterations=50000)\n",
    "print('alpha = {:.2f}'.format(alpha))\n",
    "print('beta  = {:.2f}'.format(beta))\n",
    "\n",
    "print()\n",
    "# R = 0.0001\n",
    "print('For R = 0.0001')\n",
    "alpha, beta = bivariate_ols(X, Y,alpha_int, beta_int,R=0.0001, epsilon=0.00001, MaxIterations=50000)\n",
    "print('alpha = {:.2f}'.format(alpha))\n",
    "print('beta  = {:.2f}'.format(beta))\n",
    "\n",
    "print()\n",
    "# R = 0.00001\n",
    "print('For R = 0.00001')\n",
    "alpha, beta = bivariate_ols(X, Y,alpha_int, beta_int,R=0.00001, epsilon=0.00001, MaxIterations=50000)\n",
    "print('alpha = {:.2f}'.format(alpha))\n",
    "print('beta  = {:.2f}'.format(beta))"
   ]
  },
  {
   "cell_type": "code",
   "execution_count": 8,
   "metadata": {},
   "outputs": [
    {
     "data": {
      "text/plain": [
       "Intercept   -35.576207\n",
       "RM            8.959927\n",
       "dtype: float64"
      ]
     },
     "execution_count": 8,
     "metadata": {},
     "output_type": "execute_result"
    }
   ],
   "source": [
    "#Coefficientts from standard libraries \n",
    "model1.params"
   ]
  },
  {
   "cell_type": "markdown",
   "metadata": {
    "id": "S7dK9bMZjl7Q"
   },
   "source": [
    "### Discussion\n",
    "\n",
    "As we can see from the results, through the Gradient Decent function, we are able to output the optimal intercept (alpha) and slope (beta) of the linear regression.\n",
    "By using different learning rates, I was getting different alpha & beta.Through the 5 examples, the following hyperparameters produced the closest result to the one from the sklearn function:\n",
    "- R=0.01, epsilon=0.000001, MaxIterations=100000\n",
    "- Total Iterations: 72847\n",
    "- Time taken: 2.20 seconds\n",
    "- alpha      = -35.57\n",
    "- beta       = 8.96"
   ]
  },
  {
   "cell_type": "markdown",
   "metadata": {
    "id": "jZqg5yW3jl7Q"
   },
   "source": [
    "### 2.2 Data normalization (done for you!)\n",
    "\n",
    "Soon, you will implement a version of gradient descent that can use an arbitrary number of independent variables. Before doing this, we want to give you some code in case you want to standardize your features."
   ]
  },
  {
   "cell_type": "code",
   "execution_count": 9,
   "metadata": {
    "id": "lU9-kG3Tjl7Q"
   },
   "outputs": [],
   "source": [
    "def standardize(raw_data):\n",
    "    return ((raw_data - np.mean(raw_data, axis = 0)) / np.std(raw_data, axis = 0))"
   ]
  },
  {
   "cell_type": "markdown",
   "metadata": {
    "id": "vUUackd0jl7R"
   },
   "source": [
    "### 2.3 Implement gradient descent with an arbitrary number of independent variables\n",
    "\n",
    "Now that you have a simple version of gradient descent working, create a version of gradient descent that can take more than one independent variable.  Assume all independent variables will be continuous.  Test your algorithm using TAX and RM as independent variables. Standardize these variables before inputting them to the gradient descent algorithm. \n",
    "\n",
    "As before,  report and interpret your estimated coefficients, the number of iterations before convergence, and the total running time of your algorithm. Experiment with 2-3 different values of R.\n",
    "\n",
    "* *Hint 1: Be careful to implement this efficiently, otherwise it might take a long time for your code to run. Commands like `np.dot` can be a good friend to you on this problem*"
   ]
  },
  {
   "cell_type": "code",
   "execution_count": 10,
   "metadata": {
    "id": "yhEcthNtjl7R"
   },
   "outputs": [],
   "source": [
    "\"\"\"\n",
    "Function\n",
    "--------\n",
    "multivariate_ols\n",
    "    Gradient Decent to minimize OLS. Used to find co-efficients of bivariate OLS Linear regression\n",
    "\n",
    "Parameters\n",
    "----------\n",
    "xvalue_matrix, yvalues : narray\n",
    "    xvalue_matrix: independent variable\n",
    "    yvalues: dependent variable\n",
    "    \n",
    "R: float\n",
    "    Learning rate\n",
    "    \n",
    "MaxIterations: Int\n",
    "    maximum number of iterations\n",
    "    \n",
    "Returns\n",
    "-------\n",
    "alpha: float\n",
    "    intercept\n",
    "    \n",
    "beta_array: array[float]\n",
    "    co-efficient\n",
    "\"\"\"\n",
    "\n",
    "def multivariate_ols(xvalue_matrix, yvalues, alpha_int, betas_int, epsilon, R, MaxIterations):\n",
    "    \n",
    "    # start the clock\n",
    "    start_time = time.time()\n",
    "    \n",
    "    # use initial coefficients provided\n",
    "    alpha = alpha_int\n",
    "    beta = betas_int\n",
    "    \n",
    "    N = len(yvalues)\n",
    "    \n",
    "    # loop until the max iterations\n",
    "    for i in range(MaxIterations):\n",
    "        \n",
    "        # compute new coefficients\n",
    "        new_alpha = alpha - ((R/N) * np.sum(alpha + np.sum(beta*xvalue_matrix, axis=1) - yvalues))\n",
    "        new_beta = beta - ((R/N) * np.sum((alpha + np.sum(beta*xvalue_matrix, axis=1) - yvalues)*(xvalue_matrix.T), axis=1))\n",
    "\n",
    "        # check to see the stopping condition\n",
    "        if (np.abs(new_alpha-alpha)<epsilon) and np.all(np.abs(new_beta-beta)<epsilon):\n",
    "            alpha = new_alpha\n",
    "            beta = new_beta\n",
    "            break\n",
    "        else:\n",
    "            alpha = new_alpha\n",
    "            beta = new_beta\n",
    "            \n",
    "    #total iterations\n",
    "    iterations = i+1\n",
    "    \n",
    "    if iterations==MaxIterations:\n",
    "        print(\"Stopped because maximum number of iterations reached!!!\")    \n",
    "     \n",
    "    print(\"Total Iterations: \"+ str(iterations))\n",
    "    print(\"Time taken: {:.2f} seconds\".format(time.time() - start_time))\n",
    "    \n",
    "    return alpha, beta"
   ]
  },
  {
   "cell_type": "code",
   "execution_count": 11,
   "metadata": {},
   "outputs": [
    {
     "name": "stdout",
     "output_type": "stream",
     "text": [
      "For R = 0.1\n",
      "Total Iterations: 126\n",
      "Time taken: 0.03 seconds\n",
      "alpha = 22.53\n",
      "betas = -2.72, 5.54\n",
      "\n",
      "For R = 0.01\n",
      "Total Iterations: 999\n",
      "Time taken: 0.15 seconds\n",
      "alpha = 22.53\n",
      "betas = -2.72, 5.54\n",
      "\n",
      "For R = 0.0001\n",
      "Total Iterations: 54174\n",
      "Time taken: 6.67 seconds\n",
      "alpha = 22.43\n",
      "betas = -2.75, 5.51\n"
     ]
    }
   ],
   "source": [
    "X = standardize(boston_data[['TAX','RM']].values.copy())\n",
    "Y = boston_data['MEDV'].values.copy()\n",
    "\n",
    "# initial alpha, beta\n",
    "alpha_int = 0\n",
    "beta_int = np.array([0,0])\n",
    "\n",
    "# R = 0.1\n",
    "print('For R = 0.1')\n",
    "alpha, beta = multivariate_ols(X, Y, alpha_int, beta_int, R=0.1, epsilon=0.00001, MaxIterations=70000)\n",
    "print('alpha = {:.2f}'.format(alpha))\n",
    "print('betas = {:.2f}, {:.2f}'.format(beta[0], beta[1]))\n",
    "print()\n",
    "\n",
    "# R = 0.01\n",
    "print('For R = 0.01')\n",
    "alpha, beta = multivariate_ols(X, Y, alpha_int, beta_int, R=0.01, epsilon=0.00001, MaxIterations=70000)\n",
    "print('alpha = {:.2f}'.format(alpha))\n",
    "print('betas = {:.2f}, {:.2f}'.format(beta[0], beta[1]))\n",
    "\n",
    "print()\n",
    "# R = 0.0001\n",
    "print('For R = 0.0001')\n",
    "alpha, beta = multivariate_ols(X, Y, alpha_int, beta_int, R=0.0001, epsilon=0.00001, MaxIterations=70000)\n",
    "print('alpha = {:.2f}'.format(alpha))\n",
    "print('betas = {:.2f}, {:.2f}'.format(beta[0], beta[1]))"
   ]
  },
  {
   "cell_type": "markdown",
   "metadata": {
    "id": "E2o_SDdcjl7R"
   },
   "source": [
    "### Discussion\n",
    "* 1. The smaller the value (step) of the learning rate (R) gets, the more time it takes for the function to converge.\n",
    "* 2. As the learning rate step gets smaller, it takes more iterations to converge (approach a minimum).\n",
    "* 3. The value of the rate (R) also affects the values of the parameters (alpha & betas)."
   ]
  },
  {
   "cell_type": "markdown",
   "metadata": {
    "id": "dMXw_qcYjl7S"
   },
   "source": [
    "### 2.4 Compare standardized vs. non-standardized results\n",
    "\n",
    "Repeat the analysis from 2.3, but this time do not standardize your variables - i.e., use the original data. Use the same three values of R (0.1, 0.01, and 0.001). What do you notice about the running time and convergence properties of your algorithm?"
   ]
  },
  {
   "cell_type": "code",
   "execution_count": 12,
   "metadata": {
    "id": "AnEvJxxhjl7S"
   },
   "outputs": [
    {
     "name": "stdout",
     "output_type": "stream",
     "text": [
      "For R = 0.1\n",
      "Stopped because maximum number of iterations reached!!!\n",
      "Total Iterations: 1000000\n",
      "Time taken: 108.29 seconds\n",
      "alpha = nan\n",
      "betas = nan, nan\n",
      "\n",
      "For R = 0.01\n",
      "Stopped because maximum number of iterations reached!!!\n",
      "Total Iterations: 1000000\n",
      "Time taken: 143.50 seconds\n",
      "alpha = nan\n",
      "betas = nan, nan\n",
      "\n",
      "For R = 0.0001\n",
      "Stopped because maximum number of iterations reached!!!\n",
      "Total Iterations: 1000000\n",
      "Time taken: 96.00 seconds\n",
      "alpha = nan\n",
      "betas = nan, nan\n"
     ]
    }
   ],
   "source": [
    "#Same experiment as 2.3 without standardizing X\n",
    "X = boston_data[['TAX','RM']].values.copy()\n",
    "Y = boston_data['MEDV'].values.copy()\n",
    "\n",
    "# initial alpha, beta\n",
    "alpha_int = 0\n",
    "beta_int = np.array([0,0])\n",
    "\n",
    "# R = 0.1\n",
    "print('For R = 0.1')\n",
    "alpha, beta = multivariate_ols(X, Y, alpha_int, beta_int, R=0.1, epsilon=0.00001, MaxIterations=1000000)\n",
    "print('alpha = {:.2f}'.format(alpha))\n",
    "print('betas = {:.2f}, {:.2f}'.format(beta[0], beta[1]))\n",
    "print()\n",
    "\n",
    "# R = 0.01\n",
    "print('For R = 0.01')\n",
    "alpha, beta = multivariate_ols(X, Y, alpha_int, beta_int, R=0.01, epsilon=0.00001, MaxIterations=1000000)\n",
    "print('alpha = {:.2f}'.format(alpha))\n",
    "print('betas = {:.2f}, {:.2f}'.format(beta[0], beta[1]))\n",
    "\n",
    "print()\n",
    "# R = 0.0001\n",
    "print('For R = 0.0001')\n",
    "alpha, beta = multivariate_ols(X, Y, alpha_int, beta_int, R=0.0001, epsilon=0.00001, MaxIterations=1000000)\n",
    "print('alpha = {:.2f}'.format(alpha))\n",
    "print('betas = {:.2f}, {:.2f}'.format(beta[0], beta[1]))"
   ]
  },
  {
   "cell_type": "markdown",
   "metadata": {
    "id": "BFdApjEsjl7S"
   },
   "source": [
    "### Discussion\n",
    "\n",
    "Without standardization, the model fails to converge & produce parameter values. Even after increasing the no of max iterations to 1 million, with learning rate of 0.1-0.0001, the algorithm didn't converge. I tried multiple options, up to the point of the laptop crashing, so I conclude that due to the discrepancy on the data (different scales accross features), it's challenging for the model to work and is unable to find values for the parameters alpha and beta."
   ]
  },
  {
   "cell_type": "markdown",
   "metadata": {
    "id": "5pEk2_UZjl7S"
   },
   "source": [
    "## 3. Prediction\n",
    "\n",
    "Let's use our fitted model to make predictions about housing prices. Make sure to first standardize your features before proceeding.\n",
    "\n",
    "### 3.1 Cross-Validation\n",
    "\n",
    "Unless you were careful above, you probably overfit your data again. Let's fix that. Use 5-fold cross-validation to re-fit the multivariate regression from 2.3 above, and report your estimated coefficients (there should be three, corresponding to the intercept and the two coefficients for TAX and RM). Since there are 5 folds, there will be 5 sets of three coefficients -- report them all in a 5x3 table."
   ]
  },
  {
   "cell_type": "code",
   "execution_count": 13,
   "metadata": {},
   "outputs": [
    {
     "name": "stdout",
     "output_type": "stream",
     "text": [
      "Total Iterations: 54526\n",
      "Time taken: 5.09 seconds\n",
      "Total Iterations: 54301\n",
      "Time taken: 4.54 seconds\n",
      "Total Iterations: 54705\n",
      "Time taken: 4.38 seconds\n",
      "Total Iterations: 54088\n",
      "Time taken: 5.15 seconds\n",
      "Total Iterations: 54393\n",
      "Time taken: 5.77 seconds\n"
     ]
    },
    {
     "data": {
      "text/html": [
       "<div>\n",
       "<style scoped>\n",
       "    .dataframe tbody tr th:only-of-type {\n",
       "        vertical-align: middle;\n",
       "    }\n",
       "\n",
       "    .dataframe tbody tr th {\n",
       "        vertical-align: top;\n",
       "    }\n",
       "\n",
       "    .dataframe thead th {\n",
       "        text-align: right;\n",
       "    }\n",
       "</style>\n",
       "<table border=\"1\" class=\"dataframe\">\n",
       "  <thead>\n",
       "    <tr style=\"text-align: right;\">\n",
       "      <th></th>\n",
       "      <th>alpha</th>\n",
       "      <th>betaTAX</th>\n",
       "      <th>betaRM</th>\n",
       "    </tr>\n",
       "  </thead>\n",
       "  <tbody>\n",
       "    <tr>\n",
       "      <th>0</th>\n",
       "      <td>22.602657</td>\n",
       "      <td>-2.515915</td>\n",
       "      <td>5.823748</td>\n",
       "    </tr>\n",
       "    <tr>\n",
       "      <th>1</th>\n",
       "      <td>22.367935</td>\n",
       "      <td>-2.860958</td>\n",
       "      <td>5.244868</td>\n",
       "    </tr>\n",
       "    <tr>\n",
       "      <th>2</th>\n",
       "      <td>22.489013</td>\n",
       "      <td>-2.545882</td>\n",
       "      <td>5.152059</td>\n",
       "    </tr>\n",
       "    <tr>\n",
       "      <th>3</th>\n",
       "      <td>22.155135</td>\n",
       "      <td>-2.940217</td>\n",
       "      <td>6.167367</td>\n",
       "    </tr>\n",
       "    <tr>\n",
       "      <th>4</th>\n",
       "      <td>22.474308</td>\n",
       "      <td>-2.912832</td>\n",
       "      <td>5.187838</td>\n",
       "    </tr>\n",
       "  </tbody>\n",
       "</table>\n",
       "</div>"
      ],
      "text/plain": [
       "       alpha   betaTAX    betaRM\n",
       "0  22.602657 -2.515915  5.823748\n",
       "1  22.367935 -2.860958  5.244868\n",
       "2  22.489013 -2.545882  5.152059\n",
       "3  22.155135 -2.940217  6.167367\n",
       "4  22.474308 -2.912832  5.187838"
      ]
     },
     "execution_count": 13,
     "metadata": {},
     "output_type": "execute_result"
    }
   ],
   "source": [
    "# Cross-Validation: k-folds\n",
    "\n",
    "# standardize features\n",
    "X = standardize(boston_data[['TAX','RM']].values.copy())\n",
    "Y = boston_data['MEDV'].values.copy()\n",
    "\n",
    "# 5-fold cross-validation\n",
    "n_folds=5\n",
    "kf = KFold(n_splits=n_folds, shuffle=True, random_state=11)\n",
    "\n",
    "# Getting index\n",
    "train_idx = []\n",
    "test_idx = []\n",
    "for train, test in kf.split(X):\n",
    "    train_idx.append(train)\n",
    "    test_idx.append(test)\n",
    "\n",
    "alpha_int = 0 # each fold initialize alpha \n",
    "beta_int = np.array([0,0]) # each fold initialize both betas \n",
    "\n",
    "# Dataframe to store the parameters alpha & betas\n",
    "coeffs = []\n",
    "\n",
    "for i in range(n_folds):\n",
    "    alpha, beta = multivariate_ols(X[train_idx[i]], Y[train_idx[i]], alpha_int, beta_int, 0.00001, 0.0001, 70000)\n",
    "    coeffs.append([alpha, beta[0], beta[1]])\n",
    "\n",
    "df = pd.DataFrame(coeffs, columns=['alpha', 'betaTAX', 'betaRM'])\n",
    "df"
   ]
  },
  {
   "cell_type": "markdown",
   "metadata": {
    "id": "cHk88-z5jl7T"
   },
   "source": [
    "### Discussion\n",
    "\n",
    "There is a change in the values of the parameters (alpha & the 2 betas) after dividing the data into train and test set and estimating the value of coefficients on train set again. Here are some observations:\n",
    "##### 2.3 (epsilon = 0.00001, R = 0.001, MaxIterations = 70000):\n",
    "\n",
    "- Total Iterations: 54174\n",
    "- Time taken: 5.11 seconds\n",
    "- alpha = 22.43\n",
    "- betas = -2.75, 5.51\n",
    "\n",
    "##### 3.1 (epsilon = 0.00001, R = 0.001, MaxIterations = 70000): varied results among the 5 folds\n",
    "\n",
    "- Total Iterations: 54088-54705\n",
    "- Time taken: 4.14-4.45 seconds\n",
    "- alpha = 22.1 - 22.6\n",
    "- betas 1 = from -2.5 to -2.9 \n",
    "- beta 2: 5.1 to 6.1\n",
    "\n",
    "Since it's a 5-fold split, each fold has an equal amount of data and both the runtime & iteration count is very comparable among each fold."
   ]
  },
  {
   "cell_type": "markdown",
   "metadata": {
    "id": "jaRVr5wpjl7T"
   },
   "source": [
    "### 3.2 Predicted values and RMSE\n",
    "\n",
    "Let's figure out how accurate this predictive model turned out to be. Compute the cross-validated RMSE for each of the 5 folds above. In other words, in fold 1, use the parameters estimated on the 80% of the data to make predictions for the 20%, and calculate the RMSE for those 20%. Repeate this for the remaining folds. Report the RMSE for each of the 5-folds, and the average (mean) RMSE across the five folds. How does this average RMSE compare to the performance of your nearest neighbor algorithm from the last problem set?"
   ]
  },
  {
   "cell_type": "code",
   "execution_count": 14,
   "metadata": {
    "id": "9I1zFLBajl7T"
   },
   "outputs": [
    {
     "name": "stdout",
     "output_type": "stream",
     "text": [
      "RMSE on test data = 6.73\n",
      "RMSE on test data = 5.70\n",
      "RMSE on test data = 4.91\n",
      "RMSE on test data = 8.12\n",
      "RMSE on test data = 5.53\n",
      "The average (mean) RMSE across the five folds = 6.201\n"
     ]
    }
   ],
   "source": [
    "rmse_mean = []\n",
    "\n",
    "for i in range(n_folds):\n",
    "    # Predicted on test data\n",
    "    Y_test_predicted = df['alpha'][i] + df['betaTAX'][i]*X[test_idx[i],0] + df['betaRM'][i]*X[test_idx[i],1]\n",
    "\n",
    "    #RMSE\n",
    "    rmse_test = np.sqrt(np.sum((Y_test_predicted - Y[test_idx[i]])**2)/len(Y[test_idx[i]]))\n",
    "    rmse_mean.append(rmse_test)\n",
    "    print('RMSE on test data = {:.2f}'.format(rmse_test))\n",
    "print('The average (mean) RMSE across the five folds = {:.3f}'.format(np.mean(rmse_mean)))"
   ]
  },
  {
   "cell_type": "markdown",
   "metadata": {
    "id": "61FuGxiYjl7T"
   },
   "source": [
    "### Discussion\n",
    "\n",
    "After revisiting PSET3 and changing my indipendent variables to be 'TAX' & 'RM', I saw the following:\n",
    "#### PSET3 Results\n",
    "- Q 2.3 NN: Normalized Nearest Neighbor test data RMSE = 8.35\n",
    "- Q 2.5 KNN: RMSE = 6.43\n",
    "- Q 2.6 KNN: 2.6 KNN RMSE = 5.23\n",
    "\n",
    "My Test RMSE here is 6.20, which is better than the normalized NN and the KNN in 2.6, but it performs worse than the KNN in 2.6, which had an RMSE of 5.23"
   ]
  },
  {
   "cell_type": "markdown",
   "metadata": {
    "id": "6L-AsWOajl7T"
   },
   "source": [
    "### Extra Credit 1: Logistic Regression\n",
    "\n",
    "For extra credit, implement logistic regression using gradient descent. Create a new variable (EXPENSIVE) to indicate whether the median housing price is more than $40,000. Use your model  a logistic regression of EXPENSIVE on CHAS and RM. Report your results."
   ]
  },
  {
   "cell_type": "code",
   "execution_count": 29,
   "metadata": {
    "id": "UR9qYdndjl7T"
   },
   "outputs": [],
   "source": [
    "# Your code here\n",
    "\"\"\"\n",
    "Function\n",
    "--------\n",
    "logistic_GD\n",
    "    Gradient Decent to minimize OLS. Used to find co-efficients of bivariate OLS Linear regression\n",
    "\n",
    "Parameters\n",
    "----------\n",
    "xvalue_matrix, yvalues : narray\n",
    "    xvalue_matrix: independent variable\n",
    "    yvalues: dependent variable\n",
    "\n",
    "alpha_int : float\n",
    "    initial alpha\n",
    "\n",
    "beta_int : array \n",
    "    initial beta values for different variables\n",
    "    \n",
    "epsilon : float\n",
    "    Threshold for convergence \n",
    "    \n",
    "R: float\n",
    "    Learning rate\n",
    "    \n",
    "MaxIterations: Int\n",
    "    maximum number of iterations\n",
    "    \n",
    "\n",
    "Returns\n",
    "-------\n",
    "alpha: float\n",
    "    intercept\n",
    "    \n",
    "beta: array[float]\n",
    "    co-efficient\n",
    "\"\"\"\n",
    "\n",
    "def logistic_GD(xvalue_matrix, yvalues,alpha_int,betas_int,epsilon, R=0.01, MaxIterations=1000):\n",
    "    \n",
    "    # start the clock\n",
    "    start_time = time.time()\n",
    "    \n",
    "    # use initial coefficients provided\n",
    "    alpha = alpha_int\n",
    "    beta = betas_int\n",
    "    \n",
    "    N = len(yvalues)\n",
    "    \n",
    "    # loop until the max iterations\n",
    "    for i in range(MaxIterations):\n",
    "        \n",
    "        # compute new coefficients\n",
    "        new_alpha = alpha + ((R/N) * np.sum(yvalues - (1/(1 + np.exp(-(alpha + np.sum(beta*xvalue_matrix, axis=1)))))))\n",
    "        new_beta = beta + ((R/N) * np.sum(yvalues - (1/(1 + np.exp(-(alpha + np.sum(beta*xvalue_matrix, axis=1)))))*(xvalue_matrix.T), axis=1))\n",
    "        \n",
    "        # check to see the stopping condition\n",
    "        if (np.abs(new_alpha-alpha)<epsilon) and np.all(np.abs(new_beta-beta)<epsilon):\n",
    "            alpha = new_alpha\n",
    "            beta = new_beta\n",
    "            break\n",
    "        else:\n",
    "            alpha = new_alpha\n",
    "            beta = new_beta\n",
    "            \n",
    "    #total iterations\n",
    "    iterations = i+1\n",
    "    \n",
    "    if iterations==MaxIterations:\n",
    "        print(\"Stopped because maximum number of iterations reached!!!\")    \n",
    "     \n",
    "    print(\"Total Iterations: \"+ str(iterations))\n",
    "    print(\"Time taken: {:.2f} seconds\".format(time.time() - start_time))\n",
    "    \n",
    "    return alpha, beta"
   ]
  },
  {
   "cell_type": "code",
   "execution_count": 30,
   "metadata": {},
   "outputs": [
    {
     "name": "stdout",
     "output_type": "stream",
     "text": [
      "For R = 0.1\n",
      "Total Iterations: 1626\n",
      "Time taken: 0.22 seconds\n",
      "alpha = -3.23\n",
      "betas = 0.50, 0.85\n",
      "\n",
      "For R = 0.01\n",
      "Total Iterations: 7626\n",
      "Time taken: 1.01 seconds\n",
      "alpha = -3.10\n",
      "betas = 0.48, 0.78\n",
      "\n",
      "For R = 0.001\n",
      "Total Iterations: 18154\n",
      "Time taken: 1.99 seconds\n",
      "alpha = -2.32\n",
      "betas = 0.35, 0.43\n"
     ]
    }
   ],
   "source": [
    "X = standardize(boston_data[['CHAS','RM']].values).copy()\n",
    "Y = boston_data['MEDV'].values.copy()\n",
    "\n",
    "# Converting Y to a binary variable\n",
    "Y[Y<=40] = 0\n",
    "Y[Y>40] = 1\n",
    "\n",
    "alpha_int = 0\n",
    "beta_int = np.array([0,0])\n",
    "\n",
    "# R = 0.1\n",
    "print('For R = 0.1')\n",
    "alpha, beta = logistic_GD(X, Y, alpha_int, beta_int, R=0.1, epsilon=0.00004, MaxIterations=1000000)\n",
    "print('alpha = {:.2f}'.format(alpha))\n",
    "print('betas = {:.2f}, {:.2f}'.format(beta[0], beta[1]))\n",
    "\n",
    "print()\n",
    "# R = 0.01\n",
    "print('For R = 0.01')\n",
    "alpha, beta = logistic_GD(X, Y, alpha_int, beta_int, R=0.01, epsilon=0.00004, MaxIterations=1000000)\n",
    "print('alpha = {:.2f}'.format(alpha))\n",
    "print('betas = {:.2f}, {:.2f}'.format(beta[0], beta[1]))\n",
    "\n",
    "print()\n",
    "# R = 0.001\n",
    "print('For R = 0.001')\n",
    "alpha, beta = logistic_GD(X, Y, alpha_int, beta_int, R=0.001, epsilon=0.00004, MaxIterations=1000000)\n",
    "print('alpha = {:.2f}'.format(alpha))\n",
    "print('betas = {:.2f}, {:.2f}'.format(beta[0], beta[1]))"
   ]
  },
  {
   "cell_type": "markdown",
   "metadata": {
    "id": "04AamlXLjl7T"
   },
   "source": [
    "### Discussion\n",
    "\n",
    "Different values of coefficients with different R values is presented above. More specifically:\n",
    "\n",
    "- For R = 0.1\n",
    "- Total Iterations: 1626\n",
    "- Time taken: 0.22 seconds\n",
    "- alpha = -3.23\n",
    "- betas = 0.50, 0.85\n",
    "\n",
    "\n",
    "- For R = 0.01\n",
    "- Total Iterations: 7626\n",
    "- Time taken: 1.01 seconds\n",
    "- alpha = -3.10\n",
    "- betas = 0.48, 0.78\n",
    "\n",
    "\n",
    "- For R = 0.001\n",
    "- Total Iterations: 18154\n",
    "- Time taken: 1.99 seconds\n",
    "- alpha = -2.32\n",
    "- betas = 0.35, 0.43\n",
    "\n",
    "R = 0.001 took the most iterations at 18154 and time at 1.99 seconds. Additionally, the first 2 have closer results, while the last combination had produced slighlty different parameters"
   ]
  },
  {
   "cell_type": "markdown",
   "metadata": {
    "id": "nvkpICWsjl7T"
   },
   "source": [
    "## 4 Regularization \n",
    "\n",
    "### 4.1 Get prepped\n",
    "\n",
    "Step 1: Create new interaction variables between each possible pair of the F_s features. If you originally had *K* features, you should now have K+(K*(K+1))/2 features. Standardize all of your features.\n",
    "\n",
    "Step 2: Randomly sample 80% of your data and call this the training set, and set aside the remaining 20% as your test set."
   ]
  },
  {
   "cell_type": "code",
   "execution_count": 87,
   "metadata": {
    "id": "89-Zqpssjl7U"
   },
   "outputs": [
    {
     "name": "stdout",
     "output_type": "stream",
     "text": [
      "13\n",
      "104\n"
     ]
    }
   ],
   "source": [
    "# Step 1: Creating interaction variables\n",
    "boston_data_interaction = boston_data.copy()\n",
    "n_cols = len(boston_data.columns)-1\n",
    "for i in range(n_cols):\n",
    "    for j in range(i, n_cols):\n",
    "        col_name = boston_data.columns[i] + '_' + boston_data.columns[j]\n",
    "        boston_data_interaction[col_name] = boston_data[boston_data.columns[i]] * boston_data[boston_data.columns[j]]\n",
    "        \n",
    "#removing one column for target\n",
    "print(len(boston_data.columns)-1)\n",
    "print(len(boston_data_interaction.columns) -1)"
   ]
  },
  {
   "cell_type": "code",
   "execution_count": 88,
   "metadata": {},
   "outputs": [
    {
     "name": "stdout",
     "output_type": "stream",
     "text": [
      "Number of training observations: 404\n",
      "Number of testing observations: 102\n"
     ]
    }
   ],
   "source": [
    "# Step 2: split into training and testing\n",
    "train, test = train_test_split(boston_data_interaction, test_size=0.20, random_state=22)\n",
    "print('Number of training observations: %i' % len(train))\n",
    "print('Number of testing observations: %i' % len(test))"
   ]
  },
  {
   "cell_type": "markdown",
   "metadata": {
    "id": "JeXkvp7njl7U"
   },
   "source": [
    "### 4.2 Overfitting (sort of)\n",
    "Now, using your version of multivariate regression from 2.3, let's overfit the training data. Using your training set, regress housing price on as many of those K+(K*(K+1))/2 features as you can (Don't forget to add quadratic terms. Form instance, RM^2.).  If you get too greedy, it's possible this will take a long time to compute, so start with 5-10 features, and if you have the time, add more features.\n",
    "\n",
    "Report the RMSE when you apply your model to your training set and to your testing set. How do these numbers compare to each other, and to the RMSE from 3.2 and nearest neighbors?"
   ]
  },
  {
   "cell_type": "code",
   "execution_count": 89,
   "metadata": {
    "id": "kgQ48hi6jl7U"
   },
   "outputs": [
    {
     "name": "stdout",
     "output_type": "stream",
     "text": [
      "Using R = 0.001\n",
      "Total Iterations: 152100\n",
      "Time taken: 18.84 seconds\n",
      "alpha      = 22.58\n",
      "betas\n",
      "[-1.30267604e+00  6.82001905e-01 -3.22157887e-01 -8.80905262e+00\n",
      "  2.04185082e+00 -2.36877809e+00  1.38889332e+00 -1.20437897e+01\n",
      "  2.60453285e-01 -9.90114504e-03  1.53768682e-01 -1.39768043e+00\n",
      "  1.14709825e+01  7.41704281e+00]\n"
     ]
    }
   ],
   "source": [
    "# Your code here\n",
    "X_train = standardize(train[['CRIM','ZN','NOX','RM','B','DIS','RAD','LSTAT','CRIM_ZN','NOX_AGE','RM_AGE','TAX_B','RM_RM','LSTAT_LSTAT']].values.copy())\n",
    "Y_train = train['MEDV'].values.copy()\n",
    "\n",
    "alpha_int = 0\n",
    "beta_int = np.zeros(X_train.shape[1])\n",
    "\n",
    "# Using R = 0.001\n",
    "print('Using R = 0.001')\n",
    "alpha, beta = multivariate_ols(X_train, Y_train, alpha_int, beta_int, R=0.001, epsilon=0.00004, MaxIterations=1000000)\n",
    "print('alpha      = {:.2f}'.format(alpha))\n",
    "print('betas')\n",
    "print(beta)"
   ]
  },
  {
   "cell_type": "code",
   "execution_count": 90,
   "metadata": {},
   "outputs": [],
   "source": [
    "def compute_RMSE(predicted,actual):\n",
    "    return np.sqrt(np.sum((predicted - actual)**2)/len(actual))"
   ]
  },
  {
   "cell_type": "code",
   "execution_count": 91,
   "metadata": {},
   "outputs": [
    {
     "name": "stdout",
     "output_type": "stream",
     "text": [
      "RMSE on Train data: \n",
      "4.160474732857644\n",
      "\n",
      "RMSE on Test data: \n",
      "4.690754396020783\n"
     ]
    }
   ],
   "source": [
    "#Prediction on train data\n",
    "Y_train_predicted = alpha + np.dot(X_train,beta)\n",
    "\n",
    "# Predicted on test data\n",
    "X_test = standardize(test[['CRIM','ZN','NOX','RM','B','DIS','RAD','LSTAT','CRIM_ZN','NOX_AGE','RM_AGE','TAX_B','RM_RM','LSTAT_LSTAT']].values.copy())\n",
    "Y_test = test['MEDV'].values.copy()\n",
    "Y_test_predicted = alpha + np.dot(X_test,beta)\n",
    "\n",
    "#RMSE\n",
    "print(\"RMSE on Train data: \")\n",
    "print(compute_RMSE(Y_train_predicted,Y_train))\n",
    "\n",
    "print()\n",
    "print(\"RMSE on Test data: \")\n",
    "print(compute_RMSE(Y_test_predicted,Y_test))"
   ]
  },
  {
   "cell_type": "markdown",
   "metadata": {
    "id": "wf3h2JEIjl7U"
   },
   "source": [
    "### Discussion\n",
    "\n",
    "#### How do these numbers compare to each other, and to the RMSE from 3.2 and nearest neighbors?\n",
    "\n",
    "1. The RMSE on Train data (4.16) is smaller than on the Testing data (4.69), thus its pointing towards overfitting.\n",
    "2. Compared with 3.2 (6.20) as well as\n",
    "3. nearest neighbours in PS3 (5.23), error is a lot smaller."
   ]
  },
  {
   "cell_type": "markdown",
   "metadata": {
    "id": "XDlDsi4wjl7U"
   },
   "source": [
    "### 4.3 Ridge regularization (basic)\n",
    "Incorporate L2 (Ridge) regularization into your multivariate_ols regression. Write a new version of your gradient descent algorithm that includes a regularization term \"lambda\" to penalize excessive complexity. \n",
    "\n",
    "Use your regularized regression to re-fit the model from 4.2 above on your training data, using the value lambda = 0.5.  Report the RMSE obtained for your training data, and the RMSE obtained for your testing data."
   ]
  },
  {
   "cell_type": "code",
   "execution_count": 92,
   "metadata": {
    "id": "Rlaok4imjl7U"
   },
   "outputs": [],
   "source": [
    "# Your code here\n",
    "\"\"\"\n",
    "Function\n",
    "--------\n",
    "multivariate_ridge_ols\n",
    "    Gradient Decent to minimize OLS. Used to find co-efficients of bivariate OLS Linear regression\n",
    "\n",
    "Parameters\n",
    "----------\n",
    "xvalue_matrix, yvalues : narray\n",
    "    xvalue_matrix: independent variable\n",
    "    yvalues: dependent variable\n",
    "\n",
    "alpha_int : float\n",
    "    initial alpha\n",
    "\n",
    "beta_int : array \n",
    "    initial beta values for different variables\n",
    "    \n",
    "epsilon : float\n",
    "    Threshold for convergence \n",
    "    \n",
    "lambda_reg : float\n",
    "    regularization parameter\n",
    "    \n",
    "R: float\n",
    "    Learning rate\n",
    "    \n",
    "MaxIterations: Int\n",
    "    maximum number of iterations\n",
    "    \n",
    "\n",
    "Returns\n",
    "-------\n",
    "alpha: float\n",
    "    intercept\n",
    "    \n",
    "beta_array: array[float]\n",
    "    co-efficient\n",
    "\"\"\"\n",
    "\n",
    "def multivariate_ridge_ols(xvalue_matrix, yvalues,alpha_int,betas_int,epsilon, lambda_reg, R=0.01, MaxIterations=1000):\n",
    "    \n",
    "    # start the clock\n",
    "    start_time = time.time()\n",
    "    \n",
    "    # use initial coefficients provided\n",
    "    alpha = alpha_int\n",
    "    beta = betas_int\n",
    "    \n",
    "    N = len(yvalues)\n",
    "    \n",
    "    # loop until the max iterations\n",
    "    for i in range(MaxIterations):\n",
    "        \n",
    "        # compute new coefficients        \n",
    "        new_alpha = alpha - ((R/N) * np.sum(alpha + np.sum(beta*xvalue_matrix, axis=1) - yvalues))\n",
    "        new_beta = (beta*(1-(R*(lambda_reg/N)))) - ((R/N) * np.sum((alpha + np.sum(beta*xvalue_matrix, axis=1)- yvalues)*(xvalue_matrix.T), axis=1))\n",
    "\n",
    "        # check to see the stopping condition\n",
    "        if (np.abs(new_alpha-alpha)<epsilon) and np.all(np.abs(new_beta-beta)<epsilon):\n",
    "            alpha = new_alpha\n",
    "            beta = new_beta\n",
    "            break\n",
    "        else:\n",
    "            alpha = new_alpha\n",
    "            beta = new_beta\n",
    "            \n",
    "    #total iterations\n",
    "    iterations = i+1\n",
    "    \n",
    "    if iterations==MaxIterations:\n",
    "        print(\"Stopped because maximum number of iterations reached!!!\")    \n",
    "     \n",
    "    print(\"Total Iterations: \"+ str(iterations))\n",
    "    print(\"Time taken: {:.2f} seconds\".format(time.time() - start_time))\n",
    "    \n",
    "    return alpha, beta"
   ]
  },
  {
   "cell_type": "code",
   "execution_count": 93,
   "metadata": {},
   "outputs": [
    {
     "name": "stdout",
     "output_type": "stream",
     "text": [
      "Using lambda = 0.5\n",
      "Total Iterations: 121974\n",
      "Time taken: 15.15 seconds\n",
      "alpha      = 22.58\n",
      "betas\n",
      "[-1.30267604e+00  6.82001905e-01 -3.22157887e-01 -8.80905262e+00\n",
      "  2.04185082e+00 -2.36877809e+00  1.38889332e+00 -1.20437897e+01\n",
      "  2.60453285e-01 -9.90114504e-03  1.53768682e-01 -1.39768043e+00\n",
      "  1.14709825e+01  7.41704281e+00]\n",
      "RMSE on Train data: \n",
      "4.20069828521078\n",
      "\n",
      "RMSE on Test data: \n",
      "4.682585925762336\n"
     ]
    }
   ],
   "source": [
    "X_train = standardize(train[['CRIM','ZN','NOX','RM','B','DIS','RAD','LSTAT','CRIM_ZN','NOX_AGE','RM_AGE','TAX_B','RM_RM','LSTAT_LSTAT']].values.copy())\n",
    "Y_train = train['MEDV'].values.copy()\n",
    "\n",
    "alpha_int = 0\n",
    "beta_int = np.zeros(X_train.shape[1])\n",
    "\n",
    "print('Using lambda = 0.5')\n",
    "alpha_ridge, beta_ridge = multivariate_ridge_ols(X_train, Y_train, alpha_int, beta_int, lambda_reg=0.5 ,R=0.001, epsilon=0.00004, MaxIterations=1000000)\n",
    "print('alpha      = {:.2f}'.format(alpha))\n",
    "print('betas')\n",
    "print(beta)\n",
    "\n",
    "#Prediction on train data\n",
    "Y_train_predicted = alpha_ridge + np.dot(X_train,beta_ridge)\n",
    "\n",
    "# Predicted on test data\n",
    "X_test = standardize(test[['CRIM','ZN','NOX','RM','B','DIS','RAD','LSTAT','CRIM_ZN','NOX_AGE','RM_AGE','TAX_B','RM_RM','LSTAT_LSTAT']].values.copy())\n",
    "Y_test = test['MEDV'].values.copy()\n",
    "Y_test_predicted = alpha_ridge + np.dot(X_test,beta_ridge)\n",
    "\n",
    "#RMSE\n",
    "print(\"RMSE on Train data: \")\n",
    "print(compute_RMSE(Y_train_predicted,Y_train))\n",
    "\n",
    "print()\n",
    "print(\"RMSE on Test data: \")\n",
    "print(compute_RMSE(Y_test_predicted,Y_test))"
   ]
  },
  {
   "cell_type": "markdown",
   "metadata": {
    "id": "sxZdfCKvjl7U"
   },
   "source": [
    "### Discussion\n",
    "\n",
    "#### How do these numbers compare to each other, and to the RMSE from 3.2 and nearest neighbors?\n",
    "\n",
    "With lambda = 0.5\n",
    "* RMSE on Train data:  4.20\n",
    "* RMSE on Test data:  4.68\n",
    "\n",
    "For 4.2 - Almost identical: \n",
    "- The RMSE on Train data (4.16)\n",
    "- Testing data (4.69)\n",
    "\n",
    "2. Compared with 3.2 (6.20) as well as\n",
    "3. nearest neighbours in PS3 (5.23), error is a lot smaller."
   ]
  },
  {
   "cell_type": "markdown",
   "metadata": {
    "id": "QIYjxCfAjl7U"
   },
   "source": [
    "### 4.4: Cross-validate lambda\n",
    "\n",
    "This is where it all comes together! Use k-fold cross-validation to select the optimal value of lambda. In other words, define a set of different values of lambda. Then, using the 80% of your data that you set aside for training, iterate through the values of lambda one at a time. For each value of lambda, use k-fold cross-validation to compute the average cross-validated (test) RMSE for that lambda value, computed as the average across the held-out folds. You should also record the average cross-validated train RMSE, computed as the average across the folds used for training. Create a scatter plot that shows RMSE as a function of lambda. The scatter plot should have two lines: a red line showing the cross-validated (test) RMSE, and a blue line showing the cross-validated train RMSE.  At this point, you should not have touched your held-out 20% of \"true\" test data.\n",
    "\n",
    "What value of lambda minimizes your cross-validated (test) RMSE? Fix that value of lambda, and train a new model using all of your training data with that value of lambda (i.e., use the entire 80% of the data that you set aside in 4.1). Calcuate the RMSE for this model on the 20% of \"true\" test data. How does your test RMSE compare to the RMSE from 4.3, 4.2, 2.3, and to the RMSE from nearest neighbors? What do you make of these results?\n",
    "\n",
    "Go brag to your friends about how you just implemented cross-validated ridge-regularized multivariate regression using gradient descent optimization, from scratch. If you still have friends."
   ]
  },
  {
   "cell_type": "code",
   "execution_count": 83,
   "metadata": {
    "id": "35QDSkeGjl7U",
    "scrolled": false
   },
   "outputs": [
    {
     "name": "stdout",
     "output_type": "stream",
     "text": [
      "Stopped because maximum number of iterations reached!!!\n",
      "Total Iterations: 50000\n",
      "Time taken: 5.69 seconds\n",
      "Stopped because maximum number of iterations reached!!!\n",
      "Total Iterations: 50000\n",
      "Time taken: 5.93 seconds\n",
      "Stopped because maximum number of iterations reached!!!\n",
      "Total Iterations: 50000\n",
      "Time taken: 6.81 seconds\n",
      "Stopped because maximum number of iterations reached!!!\n",
      "Total Iterations: 50000\n",
      "Time taken: 5.62 seconds\n",
      "Stopped because maximum number of iterations reached!!!\n",
      "Total Iterations: 50000\n",
      "Time taken: 5.96 seconds\n",
      "Stopped because maximum number of iterations reached!!!\n",
      "Total Iterations: 50000\n",
      "Time taken: 8.29 seconds\n",
      "Stopped because maximum number of iterations reached!!!\n",
      "Total Iterations: 50000\n",
      "Time taken: 9.26 seconds\n",
      "Stopped because maximum number of iterations reached!!!\n",
      "Total Iterations: 50000\n",
      "Time taken: 7.17 seconds\n",
      "Stopped because maximum number of iterations reached!!!\n",
      "Total Iterations: 50000\n",
      "Time taken: 8.24 seconds\n",
      "Stopped because maximum number of iterations reached!!!\n",
      "Total Iterations: 50000\n",
      "Time taken: 7.21 seconds\n",
      "Stopped because maximum number of iterations reached!!!\n",
      "Total Iterations: 50000\n",
      "Time taken: 6.94 seconds\n",
      "Stopped because maximum number of iterations reached!!!\n",
      "Total Iterations: 50000\n",
      "Time taken: 8.79 seconds\n",
      "Stopped because maximum number of iterations reached!!!\n",
      "Total Iterations: 50000\n",
      "Time taken: 7.40 seconds\n",
      "Stopped because maximum number of iterations reached!!!\n",
      "Total Iterations: 50000\n",
      "Time taken: 7.29 seconds\n",
      "Stopped because maximum number of iterations reached!!!\n",
      "Total Iterations: 50000\n",
      "Time taken: 7.36 seconds\n",
      "Stopped because maximum number of iterations reached!!!\n",
      "Total Iterations: 50000\n",
      "Time taken: 6.81 seconds\n",
      "Stopped because maximum number of iterations reached!!!\n",
      "Total Iterations: 50000\n",
      "Time taken: 6.60 seconds\n",
      "Stopped because maximum number of iterations reached!!!\n",
      "Total Iterations: 50000\n",
      "Time taken: 6.16 seconds\n",
      "Stopped because maximum number of iterations reached!!!\n",
      "Total Iterations: 50000\n",
      "Time taken: 9.49 seconds\n",
      "Stopped because maximum number of iterations reached!!!\n",
      "Total Iterations: 50000\n",
      "Time taken: 10.39 seconds\n",
      "Stopped because maximum number of iterations reached!!!\n",
      "Total Iterations: 50000\n",
      "Time taken: 7.52 seconds\n",
      "Stopped because maximum number of iterations reached!!!\n",
      "Total Iterations: 50000\n",
      "Time taken: 5.95 seconds\n",
      "Stopped because maximum number of iterations reached!!!\n",
      "Total Iterations: 50000\n",
      "Time taken: 6.27 seconds\n",
      "Stopped because maximum number of iterations reached!!!\n",
      "Total Iterations: 50000\n",
      "Time taken: 6.52 seconds\n",
      "Stopped because maximum number of iterations reached!!!\n",
      "Total Iterations: 50000\n",
      "Time taken: 6.20 seconds\n",
      "Stopped because maximum number of iterations reached!!!\n",
      "Total Iterations: 50000\n",
      "Time taken: 6.73 seconds\n",
      "Stopped because maximum number of iterations reached!!!\n",
      "Total Iterations: 50000\n",
      "Time taken: 8.04 seconds\n",
      "Stopped because maximum number of iterations reached!!!\n",
      "Total Iterations: 50000\n",
      "Time taken: 10.71 seconds\n",
      "Stopped because maximum number of iterations reached!!!\n",
      "Total Iterations: 50000\n",
      "Time taken: 11.19 seconds\n",
      "Stopped because maximum number of iterations reached!!!\n",
      "Total Iterations: 50000\n",
      "Time taken: 7.51 seconds\n",
      "Stopped because maximum number of iterations reached!!!\n",
      "Total Iterations: 50000\n",
      "Time taken: 7.24 seconds\n",
      "Stopped because maximum number of iterations reached!!!\n",
      "Total Iterations: 50000\n",
      "Time taken: 6.88 seconds\n",
      "Stopped because maximum number of iterations reached!!!\n",
      "Total Iterations: 50000\n",
      "Time taken: 6.68 seconds\n",
      "Stopped because maximum number of iterations reached!!!\n",
      "Total Iterations: 50000\n",
      "Time taken: 8.51 seconds\n",
      "Stopped because maximum number of iterations reached!!!\n",
      "Total Iterations: 50000\n",
      "Time taken: 7.03 seconds\n",
      "Stopped because maximum number of iterations reached!!!\n",
      "Total Iterations: 50000\n",
      "Time taken: 5.95 seconds\n",
      "Stopped because maximum number of iterations reached!!!\n",
      "Total Iterations: 50000\n",
      "Time taken: 5.74 seconds\n",
      "Stopped because maximum number of iterations reached!!!\n",
      "Total Iterations: 50000\n",
      "Time taken: 6.17 seconds\n",
      "Stopped because maximum number of iterations reached!!!\n",
      "Total Iterations: 50000\n",
      "Time taken: 5.91 seconds\n",
      "Stopped because maximum number of iterations reached!!!\n",
      "Total Iterations: 50000\n",
      "Time taken: 5.75 seconds\n",
      "Stopped because maximum number of iterations reached!!!\n",
      "Total Iterations: 50000\n",
      "Time taken: 7.98 seconds\n",
      "Stopped because maximum number of iterations reached!!!\n",
      "Total Iterations: 50000\n",
      "Time taken: 11.78 seconds\n",
      "Stopped because maximum number of iterations reached!!!\n",
      "Total Iterations: 50000\n",
      "Time taken: 6.74 seconds\n",
      "Stopped because maximum number of iterations reached!!!\n",
      "Total Iterations: 50000\n",
      "Time taken: 5.66 seconds\n",
      "Stopped because maximum number of iterations reached!!!\n",
      "Total Iterations: 50000\n",
      "Time taken: 6.03 seconds\n",
      "Stopped because maximum number of iterations reached!!!\n",
      "Total Iterations: 50000\n",
      "Time taken: 9.46 seconds\n",
      "Stopped because maximum number of iterations reached!!!\n",
      "Total Iterations: 50000\n",
      "Time taken: 7.04 seconds\n",
      "Stopped because maximum number of iterations reached!!!\n",
      "Total Iterations: 50000\n",
      "Time taken: 6.34 seconds\n",
      "Stopped because maximum number of iterations reached!!!\n",
      "Total Iterations: 50000\n",
      "Time taken: 7.25 seconds\n",
      "Stopped because maximum number of iterations reached!!!\n",
      "Total Iterations: 50000\n",
      "Time taken: 7.23 seconds\n",
      "Stopped because maximum number of iterations reached!!!\n",
      "Total Iterations: 50000\n",
      "Time taken: 6.89 seconds\n",
      "Stopped because maximum number of iterations reached!!!\n",
      "Total Iterations: 50000\n",
      "Time taken: 6.16 seconds\n",
      "Stopped because maximum number of iterations reached!!!\n",
      "Total Iterations: 50000\n",
      "Time taken: 10.36 seconds\n",
      "Stopped because maximum number of iterations reached!!!\n",
      "Total Iterations: 50000\n",
      "Time taken: 7.50 seconds\n",
      "Stopped because maximum number of iterations reached!!!\n",
      "Total Iterations: 50000\n",
      "Time taken: 7.35 seconds\n",
      "Stopped because maximum number of iterations reached!!!\n",
      "Total Iterations: 50000\n",
      "Time taken: 8.47 seconds\n",
      "Stopped because maximum number of iterations reached!!!\n",
      "Total Iterations: 50000\n",
      "Time taken: 9.03 seconds\n",
      "Stopped because maximum number of iterations reached!!!\n",
      "Total Iterations: 50000\n",
      "Time taken: 10.84 seconds\n",
      "Stopped because maximum number of iterations reached!!!\n",
      "Total Iterations: 50000\n",
      "Time taken: 7.38 seconds\n",
      "Stopped because maximum number of iterations reached!!!\n",
      "Total Iterations: 50000\n",
      "Time taken: 7.13 seconds\n",
      "Stopped because maximum number of iterations reached!!!\n",
      "Total Iterations: 50000\n",
      "Time taken: 6.66 seconds\n",
      "Stopped because maximum number of iterations reached!!!\n",
      "Total Iterations: 50000\n",
      "Time taken: 9.61 seconds\n",
      "Stopped because maximum number of iterations reached!!!\n",
      "Total Iterations: 50000\n",
      "Time taken: 10.29 seconds\n",
      "Stopped because maximum number of iterations reached!!!\n",
      "Total Iterations: 50000\n",
      "Time taken: 8.29 seconds\n",
      "Stopped because maximum number of iterations reached!!!\n",
      "Total Iterations: 50000\n",
      "Time taken: 6.60 seconds\n",
      "Stopped because maximum number of iterations reached!!!\n",
      "Total Iterations: 50000\n",
      "Time taken: 6.18 seconds\n",
      "Stopped because maximum number of iterations reached!!!\n",
      "Total Iterations: 50000\n",
      "Time taken: 6.47 seconds\n",
      "Stopped because maximum number of iterations reached!!!\n",
      "Total Iterations: 50000\n",
      "Time taken: 7.32 seconds\n",
      "Stopped because maximum number of iterations reached!!!\n",
      "Total Iterations: 50000\n",
      "Time taken: 8.81 seconds\n",
      "Stopped because maximum number of iterations reached!!!\n",
      "Total Iterations: 50000\n",
      "Time taken: 6.20 seconds\n",
      "Stopped because maximum number of iterations reached!!!\n",
      "Total Iterations: 50000\n",
      "Time taken: 6.06 seconds\n",
      "Stopped because maximum number of iterations reached!!!\n",
      "Total Iterations: 50000\n",
      "Time taken: 5.97 seconds\n",
      "Stopped because maximum number of iterations reached!!!\n",
      "Total Iterations: 50000\n",
      "Time taken: 5.94 seconds\n",
      "Stopped because maximum number of iterations reached!!!\n",
      "Total Iterations: 50000\n",
      "Time taken: 6.29 seconds\n",
      "Stopped because maximum number of iterations reached!!!\n",
      "Total Iterations: 50000\n",
      "Time taken: 8.28 seconds\n",
      "Stopped because maximum number of iterations reached!!!\n",
      "Total Iterations: 50000\n",
      "Time taken: 6.14 seconds\n",
      "Stopped because maximum number of iterations reached!!!\n",
      "Total Iterations: 50000\n",
      "Time taken: 6.70 seconds\n",
      "Stopped because maximum number of iterations reached!!!\n",
      "Total Iterations: 50000\n",
      "Time taken: 6.04 seconds\n"
     ]
    },
    {
     "name": "stdout",
     "output_type": "stream",
     "text": [
      "Stopped because maximum number of iterations reached!!!\n",
      "Total Iterations: 50000\n",
      "Time taken: 5.96 seconds\n",
      "Stopped because maximum number of iterations reached!!!\n",
      "Total Iterations: 50000\n",
      "Time taken: 5.96 seconds\n",
      "Stopped because maximum number of iterations reached!!!\n",
      "Total Iterations: 50000\n",
      "Time taken: 6.08 seconds\n",
      "Stopped because maximum number of iterations reached!!!\n",
      "Total Iterations: 50000\n",
      "Time taken: 8.92 seconds\n",
      "Stopped because maximum number of iterations reached!!!\n",
      "Total Iterations: 50000\n",
      "Time taken: 6.21 seconds\n",
      "Stopped because maximum number of iterations reached!!!\n",
      "Total Iterations: 50000\n",
      "Time taken: 8.29 seconds\n",
      "Stopped because maximum number of iterations reached!!!\n",
      "Total Iterations: 50000\n",
      "Time taken: 6.99 seconds\n",
      "Stopped because maximum number of iterations reached!!!\n",
      "Total Iterations: 50000\n",
      "Time taken: 6.84 seconds\n",
      "Stopped because maximum number of iterations reached!!!\n",
      "Total Iterations: 50000\n",
      "Time taken: 11.95 seconds\n",
      "Stopped because maximum number of iterations reached!!!\n",
      "Total Iterations: 50000\n",
      "Time taken: 6.83 seconds\n",
      "Stopped because maximum number of iterations reached!!!\n",
      "Total Iterations: 50000\n",
      "Time taken: 6.26 seconds\n",
      "Stopped because maximum number of iterations reached!!!\n",
      "Total Iterations: 50000\n",
      "Time taken: 6.17 seconds\n",
      "Total Iterations: 43111\n",
      "Time taken: 5.49 seconds\n",
      "Total Iterations: 42066\n",
      "Time taken: 5.15 seconds\n",
      "Total Iterations: 43920\n",
      "Time taken: 5.49 seconds\n",
      "Total Iterations: 44356\n",
      "Time taken: 5.54 seconds\n",
      "Total Iterations: 39693\n",
      "Time taken: 4.86 seconds\n",
      "Total Iterations: 34219\n",
      "Time taken: 6.38 seconds\n",
      "Total Iterations: 33627\n",
      "Time taken: 7.18 seconds\n",
      "Total Iterations: 34885\n",
      "Time taken: 4.58 seconds\n",
      "Total Iterations: 35209\n",
      "Time taken: 4.45 seconds\n",
      "Total Iterations: 31659\n",
      "Time taken: 3.91 seconds\n",
      "~~~~~~~~~~~~~~~~~~~~~~~~~~~~~~~~~~~~~\n",
      "The best lambda is: 0.001\n",
      "The average RMSE accross all lambda in the training set is: 4.352755821001741\n",
      "The average RMSE accross all lambda in the testing set is: 4.505069360862196\n"
     ]
    }
   ],
   "source": [
    "# 1. define a set of different values of lambda\n",
    "lambdas = np.logspace(-3, 1, 20)\n",
    "\n",
    "# 2. assign 80% train from 4.1. Use less number of features for fast computing.\n",
    "X = standardize(train[['CRIM','ZN','NOX','RM','B','DIS','RAD','LSTAT','CRIM_ZN','NOX_AGE','RM_AGE','TAX_B','RM_RM','LSTAT_LSTAT']].values.copy())\n",
    "Y = train['MEDV'].values.copy()\n",
    "\n",
    "# 3. Split into 5 folds\n",
    "n_splits = 5\n",
    "kf = KFold(n_splits=n_splits, shuffle=True, random_state=11)\n",
    "train_idx = []\n",
    "test_idx = []\n",
    "for train, test in kf.split(X):\n",
    "    train_idx.append(train)\n",
    "    test_idx.append(test)\n",
    "\n",
    "lam = []\n",
    "train_RMSEs = np.zeros(len(lambdas))\n",
    "test_RMSEs = np.zeros(len(lambdas))\n",
    "\n",
    "# 4. For each value of lambda, use k-fold cross-validation to compute the (test) RMSE\n",
    "\n",
    "# 4.1 iterate through lambdas\n",
    "for i in range(len(lambdas)):\n",
    "    \n",
    "    train_rmse_split = np.zeros(n_splits)\n",
    "    test_rmse_split = np.zeros(n_splits)\n",
    "    \n",
    "    lambda_reg=lambdas[i]\n",
    "    # 4.2 iterate through each fold\n",
    "    for j in range(n_splits):\n",
    "        # split\n",
    "        X_train = X[train_idx[j]]\n",
    "        Y_train = Y[train_idx[j]]\n",
    "        X_test = X[test_idx[j]]\n",
    "        Y_test = Y[test_idx[j]]\n",
    "        \n",
    "        # initial alpha, beta\n",
    "        alpha_int = 0\n",
    "        beta_int = np.zeros(X.shape[1])\n",
    "        # model\n",
    "        alpha_ridge, beta_ridge = multivariate_ridge_ols(X_train, Y_train, alpha_int, beta_int, lambda_reg=lambda_reg,R=0.001, epsilon=0.00004, MaxIterations=50000)\n",
    "        # Predicted on train data\n",
    "        Y_train_predicted = alpha_ridge + np.dot(X_train,beta_ridge)\n",
    "        # Predicted on test data\n",
    "        Y_test_predicted = alpha_ridge + np.dot(X_test,beta_ridge)\n",
    "        # 5. Compute RMSE for each fold\n",
    "        train_rmse_split[j] = compute_RMSE(Y_train_predicted,Y_train)\n",
    "        test_rmse_split[j] = compute_RMSE(Y_test_predicted,Y_test)\n",
    "        \n",
    "    # 6. get the average RSME over all splits for 1 lambda\n",
    "    train_RMSEs[i] = np.mean(train_rmse_split)\n",
    "    test_RMSEs[i] = np.mean(test_rmse_split)\n",
    "    lam.append(lambda_reg)\n",
    "    \n",
    "print('~~~~~~~~~~~~~~~~~~~~~~~~~~~~~~~~~~~~~')\n",
    "print(f\"The best lambda is: {lambdas[np.argmax(np.min(train_RMSEs))]}\")\n",
    "print(f\"The average RMSE accross all lambda in the training set is: {np.mean(train_RMSEs)}\")\n",
    "print(f\"The average RMSE accross all lambda in the testing set is: {np.mean(test_RMSEs)}\")"
   ]
  },
  {
   "cell_type": "code",
   "execution_count": 84,
   "metadata": {},
   "outputs": [],
   "source": [
    "#train_RMSEs\n",
    "best_lambda=lambdas[np.argmax(np.min(train_RMSEs))]"
   ]
  },
  {
   "cell_type": "code",
   "execution_count": 85,
   "metadata": {},
   "outputs": [
    {
     "data": {
      "text/plain": [
       "<matplotlib.legend.Legend at 0x7f97d844e040>"
      ]
     },
     "execution_count": 85,
     "metadata": {},
     "output_type": "execute_result"
    },
    {
     "data": {
      "image/png": "[encoded data removed]",
      "text/plain": [
       "<Figure size 432x288 with 1 Axes>"
      ]
     },
     "metadata": {
      "needs_background": "light"
     },
     "output_type": "display_data"
    }
   ],
   "source": [
    "fig, ax = plt.subplots()\n",
    "ax.set_xscale('log')\n",
    "ax.scatter(lambdas, train_RMSEs, c='C0', label='Train RMSE')\n",
    "ax.scatter(lambdas, test_RMSEs, c='C3', label='Test RMSE')\n",
    "\n",
    "ax.set_xlabel('$\\\\lambda$')\n",
    "ax.set_ylabel('RMSE')\n",
    "ax.set_title('RMSE vs. Regularization Strength')\n",
    "ax.legend()"
   ]
  },
  {
   "cell_type": "code",
   "execution_count": 95,
   "metadata": {},
   "outputs": [
    {
     "name": "stdout",
     "output_type": "stream",
     "text": [
      "Using best lambda\n",
      "Total Iterations: 152020\n",
      "Time taken: 19.46 seconds\n",
      "alpha = 22.58\n",
      "betas\n",
      "[-1.30267604e+00  6.82001905e-01 -3.22157887e-01 -8.80905262e+00\n",
      "  2.04185082e+00 -2.36877809e+00  1.38889332e+00 -1.20437897e+01\n",
      "  2.60453285e-01 -9.90114504e-03  1.53768682e-01 -1.39768043e+00\n",
      "  1.14709825e+01  7.41704281e+00]\n",
      "RMSE on Train data: \n",
      "4.160564518377702\n",
      "\n",
      "RMSE on Test data: \n",
      "4.690727047077348\n"
     ]
    }
   ],
   "source": [
    "X_Train = standardize(train[['CRIM','ZN','NOX','RM','B','DIS','RAD','LSTAT','CRIM_ZN','NOX_AGE','RM_AGE','TAX_B','RM_RM','LSTAT_LSTAT']].values.copy())\n",
    "Y_Train = train['MEDV'].values.copy()\n",
    "\n",
    "alpha_int = 0\n",
    "beta_int = np.zeros(X_Train.shape[1])\n",
    "\n",
    "print('Using best lambda')\n",
    "alpha_ridge, beta_ridge = multivariate_ridge_ols(X_Train, Y_Train, alpha_int, beta_int, lambda_reg=best_lambda ,R=0.001, epsilon=0.00004, MaxIterations=1000000)\n",
    "print('alpha = {:.2f}'.format(alpha))\n",
    "print('betas')\n",
    "print(beta)\n",
    "\n",
    "#Prediction on train data\n",
    "Y_Train_predicted = alpha_ridge + np.dot(X_Train,beta_ridge)\n",
    "\n",
    "# Predicted on test data\n",
    "X_Test = standardize(test[['CRIM','ZN','NOX','RM','B','DIS','RAD','LSTAT','CRIM_ZN','NOX_AGE','RM_AGE','TAX_B','RM_RM','LSTAT_LSTAT']].values.copy())\n",
    "Y_Test = test['MEDV'].values.copy()\n",
    "Y_Test_predicted = alpha_ridge + np.dot(X_Test,beta_ridge)\n",
    "\n",
    "#RMSE\n",
    "print(\"RMSE on Train data: \")\n",
    "print(compute_RMSE(Y_Train_predicted,Y_Train))\n",
    "\n",
    "print()\n",
    "print(\"RMSE on Test data: \")\n",
    "print(compute_RMSE(Y_Test_predicted,Y_Test))"
   ]
  },
  {
   "cell_type": "markdown",
   "metadata": {
    "id": "fJRo-C3kjl7U"
   },
   "source": [
    "### Discussion\n",
    "\n",
    "With increase in Lambda, model is becoming less and less complex, and thus training error as well as test error is increasing. In my case the best lambda selected by the model was deemed lambda = 0.001, however it still yielded very similar results with 4.2 & 4.3 at a RMSE on Test data: 4.690727047077348"
   ]
  }
 ],
 "metadata": {
  "anaconda-cloud": {},
  "colab": {
   "name": "_INFO251_PS4_2022_Feb22.ipynb",
   "provenance": []
  },
  "kernelspec": {
   "display_name": "Python 3 (ipykernel)",
   "language": "python",
   "name": "python3"
  },
  "language_info": {
   "codemirror_mode": {
    "name": "ipython",
    "version": 3
   },
   "file_extension": ".py",
   "mimetype": "text/x-python",
   "name": "python",
   "nbconvert_exporter": "python",
   "pygments_lexer": "ipython3",
   "version": "3.9.7"
  }
 },
 "nbformat": 4,
 "nbformat_minor": 1
}
