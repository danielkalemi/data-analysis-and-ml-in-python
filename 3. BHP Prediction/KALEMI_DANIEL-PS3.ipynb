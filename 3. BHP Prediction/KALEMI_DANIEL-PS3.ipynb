{
 "cells": [
  {
   "cell_type": "markdown",
   "metadata": {},
   "source": [
    "# Problem Set 3\n",
    "\n",
    "### Before You Start\n",
    "\n",
    "Make sure the following libraries load correctly (hit Ctrl-Enter). Note that while you are loading several powerful libraries, including machine learning libraries, the goal of this problem set is to implement several algorithms from scratch. In particular, you should *not* be using any built-in libraries for nearest neighbors, distance metrics, or cross-validation -- your mission is to write those algorithms in Python! Part 1 will be relatively easy; Part 2 will take more time."
   ]
  },
  {
   "cell_type": "code",
   "execution_count": 1,
   "metadata": {
    "jupyter": {
     "outputs_hidden": true
    }
   },
   "outputs": [],
   "source": [
    "import IPython\n",
    "import numpy as np\n",
    "import scipy as sp\n",
    "import pandas as pd\n",
    "import matplotlib\n",
    "import sklearn"
   ]
  },
  {
   "cell_type": "code",
   "execution_count": 2,
   "metadata": {
    "jupyter": {
     "outputs_hidden": true
    }
   },
   "outputs": [],
   "source": [
    "%matplotlib inline  \n",
    "import matplotlib.pyplot as plt \n",
    "import time\n",
    "from scipy import linalg\n",
    "import statsmodels.api as sm\n",
    "import copy\n",
    "import warnings\n",
    "warnings.filterwarnings('ignore')"
   ]
  },
  {
   "cell_type": "markdown",
   "metadata": {},
   "source": [
    "---\n",
    "\n",
    "## Introduction to the assignment\n",
    "\n",
    "For this assignment, you will be using the [Boston Housing Prices Data Set](http://www.kellogg.northwestern.edu/faculty/weber/emp/_session_3/boston.htm).  Please read about the dataset carefully before continuing.  Use the following commands to load the dataset:\n",
    "\n",
    "*NOTE - This dataset is similar to the one you used in PS1; we are just using a different method to load it this time. The column names and their order will remain the same for this dataset as was in PS1.*"
   ]
  },
  {
   "cell_type": "code",
   "execution_count": 3,
   "metadata": {
    "jupyter": {
     "outputs_hidden": true
    }
   },
   "outputs": [],
   "source": [
    "# load Boston housing data set\n",
    "data = np.loadtxt('data.txt')\n",
    "target = np.loadtxt('target.txt')"
   ]
  },
  {
   "cell_type": "markdown",
   "metadata": {},
   "source": [
    "---\n",
    "\n",
    "## Part 1: Experimental Setup\n",
    "\n",
    "The goal of the next few sections is to design an experiment to predict the median home value for an instance in the data.\n",
    "Before beginning the \"real\" work, refamiliarize yourself with the dataset."
   ]
  },
  {
   "cell_type": "markdown",
   "metadata": {},
   "source": [
    "### 1.1 Begin by writing a function to compute the Root Mean Squared Error for a list of numbers\n",
    "\n",
    "You can find the sqrt function in the Numpy package. Furthermore the details of RMSE can be found on [Wikipedia](http://en.wikipedia.org/wiki/Root-mean-square_deviation). Do not use a built-in function  to compute RMSE, other than numpy functions like `sqrt` and if needed, `sum` or other relevant ones."
   ]
  },
  {
   "cell_type": "code",
   "execution_count": 4,
   "metadata": {
    "jupyter": {
     "outputs_hidden": true
    }
   },
   "outputs": [],
   "source": [
    "\"\"\"\n",
    "Function\n",
    "--------\n",
    "compute_rmse\n",
    "\n",
    "Given two arrays, one of actual values and one of predicted values,\n",
    "compute the Roote Mean Squared Error\n",
    "\n",
    "Parameters\n",
    "----------\n",
    "predictions : array\n",
    "    Array of numerical values corresponding to predictions for each of the N observations\n",
    "\n",
    "yvalues : array\n",
    "    Array of numerical values corresponding to the actual values for each of the N observations\n",
    "\n",
    "Returns\n",
    "-------\n",
    "rmse : int\n",
    "    Root Mean Squared Error of the prediction\n",
    "\n",
    "Example\n",
    "-------\n",
    ">>> print(compute_rmse((4,6,3),(2,1,4)))\n",
    "3.16\n",
    "\"\"\"\n",
    "def compute_rmse(predictions, yvalues):\n",
    "    # your code here\n",
    "    if type(predictions)!=np.ndarray:\n",
    "        predictions = np.array(predictions)\n",
    "        \n",
    "    if type(yvalues)!=np.ndarray:\n",
    "        yvalues = np.array(yvalues)\n",
    "    \n",
    "    n = len(predictions)\n",
    "    mean_squared = (predictions-yvalues)**2\n",
    "    mse = np.sum(mean_squared)/n\n",
    "    rmse = round(np.sqrt(mse),2)\n",
    "    return rmse"
   ]
  },
  {
   "cell_type": "code",
   "execution_count": 5,
   "metadata": {
    "jupyter": {
     "outputs_hidden": true
    }
   },
   "outputs": [
    {
     "data": {
      "text/plain": [
       "3.16"
      ]
     },
     "execution_count": 5,
     "metadata": {},
     "output_type": "execute_result"
    }
   ],
   "source": [
    "compute_rmse((4,6,3),(2,1,4))"
   ]
  },
  {
   "cell_type": "markdown",
   "metadata": {},
   "source": [
    "### 1.2 Divide your data into training and testing datasets\n",
    "\n",
    "Randomly select 75% of the data and put this in a training dataset (call this \"bdata_train\"), and place the remaining 25% in a testing dataset (call this \"bdata_test\"). Do not use built-in functions.\n",
    "\n",
    "To perform any randomized operation, only use functions in the *numpy library (np.random)*. Do not use other packages for random functions."
   ]
  },
  {
   "cell_type": "code",
   "execution_count": 6,
   "metadata": {},
   "outputs": [],
   "source": [
    "#combining data into dataframe \n",
    "boston_data = pd.DataFrame(data)\n",
    "boston_data.columns=['CRIM', 'ZN', 'INDUS', 'CHAS', 'NOX', 'RM', 'AGE', 'DIS', 'RAD', 'TAX', 'PTRATIO', 'B', 'LSTAT']\n",
    "boston_data['MEDV']= target\n",
    "\n",
    "# leave the following line untouched, it will help ensure that your \"random\" split is the same \"random\" split used by the rest of the class\n",
    "np.random.seed(seed=13579)\n",
    "\n",
    "#function for splitting data\n",
    "def split_data(data, size):\n",
    "    #shuffling the data randomly\n",
    "    data = data.sample(frac=1).reset_index(drop=True)\n",
    "    #Train Test split based on size\n",
    "    test = data[: int(size*len(data))]\n",
    "    train = data[int(size*len(data)):]\n",
    "    return train,test\n",
    "\n",
    "bdata_train, bdata_test = split_data(boston_data, 0.25)\n",
    "\n",
    "bdata_train.reset_index(drop=True, inplace=True)\n",
    "bdata_test.reset_index(drop=True, inplace=True)"
   ]
  },
  {
   "cell_type": "markdown",
   "metadata": {},
   "source": [
    "### 1.3 Use a very bad baseline for prediction, and compute RMSE\n",
    "\n",
    "Let's start by creating a very bad baseline model that predicts median home values as the averages of `MEDV` based on adjacency to Charles River. \n",
    "\n",
    "Specifically, create a model that predicts, for every observation X_i, the median home value as the average of the median home values of all houses in the **training set** that have the same adjacency value as the observation.\n",
    "\n",
    "For example - For an input observation where `CHAS==1`, the model should predict the `MEDV` as the mean of all `MEDV` values in the training set that also have `CHAS==1`.\n",
    "\n",
    "\n",
    "\n",
    "Once the model is built, do the following:\n",
    "\n",
    "1. Compute the RMSE of the training set.\n",
    "2. Now compute the RMSE of the test data set (but use the model you trained on the training set!).\n",
    "3. How does RMSE compare for training vs. testing datasets? Is this what you expected, and why?\n",
    "4. Create a scatter plot that shows the true value of each instance on the x-axis and the predicted value of each instance on the y-axis. Color the training instances in red and the test instances in blue. Make sure to label your axes appropriately, and add a legend to your figure to make clear which dots are which.\n",
    "5. Add code to your function to measure the running time of your algorithm. How long does it take to compute the predicted values for the test data?\n",
    "\n",
    "\n",
    "*NOTE - Be careful while dealing with floats and integers. Additionally, the `groupby` operation might come handy here.*"
   ]
  },
  {
   "cell_type": "code",
   "execution_count": 7,
   "metadata": {},
   "outputs": [
    {
     "name": "stdout",
     "output_type": "stream",
     "text": [
      "RMSE for Training Data: 9.12\n",
      "RMSE for Testing Data: 8.89\n",
      "Time taken to compute the predicted test labels: 0.00010633468627929688\n"
     ]
    }
   ],
   "source": [
    "baseline_data_chas = bdata_train[bdata_train['CHAS']==1]\n",
    "baseline_mean_chas = round(np.mean(baseline_data_chas['MEDV']),5)\n",
    "baseline_data_non_chas = bdata_train[bdata_train['CHAS']==0]\n",
    "baseline_mean_non_chas = round(np.mean(baseline_data_non_chas['MEDV']),5)\n",
    "\n",
    "train_data = bdata_train.copy()\n",
    "test_data = bdata_test.copy()\n",
    "train_data['PRED_MEDV'] = 1\n",
    "test_data['PRED_MEDV'] = 1\n",
    "\n",
    "train_data.loc[train_data.CHAS == 1, 'PRED_MEDV']= baseline_mean_chas\n",
    "train_data.loc[train_data.CHAS == 0, 'PRED_MEDV']= baseline_mean_non_chas\n",
    "test_data.loc[test_data.CHAS == 1, 'PRED_MEDV']= baseline_mean_chas\n",
    "test_data.loc[test_data.CHAS == 0,'PRED_MEDV']= baseline_mean_non_chas\n",
    "\n",
    "def train_test_rmse(train_labels, test_labels, train_pred_labels, test_pred_labels):\n",
    "    train_data_rsme = compute_rmse(train_pred_labels, train_labels)\n",
    "    time_0 = time.time()\n",
    "    test_data_rsme = compute_rmse(test_pred_labels, test_labels)\n",
    "    time_1 = time.time()\n",
    "    total_time = time_1 - time_0\n",
    "    print(f'RMSE for Training Data: {train_data_rsme}')\n",
    "    print(f'RMSE for Testing Data: {test_data_rsme}')\n",
    "    print(f'Time taken to compute the predicted test labels: {total_time}')\n",
    "    \n",
    "train_test_rmse(train_data['MEDV'], test_data['MEDV'], train_data['PRED_MEDV'], test_data['PRED_MEDV'])"
   ]
  },
  {
   "cell_type": "code",
   "execution_count": 30,
   "metadata": {},
   "outputs": [
    {
     "data": {
      "image/png": "[encoded data removed]",
      "text/plain": [
       "<Figure size 504x432 with 1 Axes>"
      ]
     },
     "metadata": {
      "needs_background": "light"
     },
     "output_type": "display_data"
    }
   ],
   "source": [
    "#Plotting\n",
    "fig = plt.figure(figsize=(7,6))\n",
    "ax = fig.add_subplot()\n",
    "ax.scatter(train_data['MEDV'], train_data['PRED_MEDV'], label='Train Data', c='red')\n",
    "ax.scatter(test_data['MEDV'], test_data['PRED_MEDV'], label= 'Test Data', c='blue')\n",
    "ax.set_xlabel(\"Observed median value of owner-occupied homes (in $1000's)\")\n",
    "ax.set_ylabel(\"Predicted median value of owner-occupied homes (in $1000's)\")\n",
    "ax.set_title(\"Train and Test Baseline Model Prediction\")\n",
    "\n",
    "ax.spines['right'].set_visible(False)\n",
    "ax.spines['top'].set_visible(False)\n",
    "ax.legend()\n",
    "plt.show(fig)"
   ]
  },
  {
   "cell_type": "code",
   "execution_count": 10,
   "metadata": {
    "jupyter": {
     "outputs_hidden": true
    }
   },
   "outputs": [],
   "source": [
    "# #Mean value baseline model\n",
    "# baseline_model = bdata_train['MEDV'].mean()\n",
    "\n",
    "# #Training RMSE\n",
    "# train_predictions_baseline= np.ones(len(bdata_train))*baseline_model\n",
    "# train_baseline_RMSE = compute_rmse(train_predictions_baseline, bdata_train['MEDV'])\n",
    "# print(\"Train RMSE:\")\n",
    "# print(train_baseline_RMSE)\n",
    "\n",
    "# #Computing time taken for predicting on test data\n",
    "# start_time = time.time()\n",
    "# test_predictions_baseline = np.ones(len(bdata_test)) * baseline_model\n",
    "# end_time = time.time()\n",
    "# time_test_prediction = end_time - start_time\n",
    "# print(\"Time Taken for prediction: \")\n",
    "# print(time_test_prediction)\n",
    "\n",
    "# #Test RMSE\n",
    "# test_baseline_RMSE = compute_rmse(test_predictions_baseline,bdata_test['MEDV'])\n",
    "# print(\"Test RMSE:\")\n",
    "# print(test_baseline_RMSE)"
   ]
  },
  {
   "cell_type": "markdown",
   "metadata": {},
   "source": [
    "1. Train RMSE: 9.12\n",
    "\n",
    "2. Test RMSE: 8.89\n",
    "\n",
    "3. Training and Test set RMSE is comparable, in line with my expectation.\n",
    "\n",
    "4. It took 0.0001 seconds to compute the predicted value for test set."
   ]
  },
  {
   "cell_type": "markdown",
   "metadata": {},
   "source": [
    "---\n",
    "\n",
    "## Part 2: Nearest Neighbors\n"
   ]
  },
  {
   "cell_type": "markdown",
   "metadata": {},
   "source": [
    "### 2.1 Nearest Neighbors: Distance function\n",
    "Let's try and build a machine learning algorithm to beat the \"Average Value\" baseline that you computed above.  Soon you will implement the Nearest Neighbor algorithm, but first you need to create a distance metric to measure the distance (and similarity) between two instances.  Write a generic function to compute the L-Norm distance (called the [*p*-norm][1] distance on Wikipedia). Verify that your function works by computing the Euclidean distance between the points (2,7) and (5,11), and then compute the Manhattan distance between (4,4) and (12,10).\n",
    "\n",
    "[1]: https://en.wikipedia.org/wiki/Norm_(mathematics)#p-norm"
   ]
  },
  {
   "cell_type": "code",
   "execution_count": 12,
   "metadata": {},
   "outputs": [
    {
     "name": "stdout",
     "output_type": "stream",
     "text": [
      "The Euclidean distance between the points (2,7) and (5,11) is 5.0\n",
      "The Manhattan distance between the points (4,4) and (12,10) is 14.0\n"
     ]
    }
   ],
   "source": [
    "\"\"\"\n",
    "Function\n",
    "--------\n",
    "distance\n",
    "\n",
    "Given two instances and a value for L, return the L-Norm distance between them\n",
    "\n",
    "Parameters\n",
    "----------\n",
    "x1, x2 : array\n",
    "    Array of numerical values corresponding to predictions for each of the N observations\n",
    "\n",
    "L: int\n",
    "    Value of L to use in computing distances\n",
    "\n",
    "Returns\n",
    "-------\n",
    "dist : int\n",
    "    The L-norm distance between instances\n",
    "\n",
    "Example\n",
    "-------\n",
    ">>> print(distance((2,7),(5,11),2))\n",
    "5\n",
    "\n",
    "\"\"\"\n",
    "def distance(x1, x2, L):\n",
    "    # your code here\n",
    "    if type(x1)!=np.ndarray:\n",
    "        x1 = np.array(x1)\n",
    "    \n",
    "    if type(x2)!=np.ndarray:\n",
    "        x2 = np.array(x2)\n",
    "    \n",
    "            \n",
    "    # L-norm distance when x2 has many points in it\n",
    "    if x2.ndim!=1:\n",
    "        dist = (np.sum((abs(x1 - x2))**L, axis=1))**(1/L)\n",
    "        \n",
    "    # L-norm distance when x2 has a single point in it\n",
    "    else:\n",
    "        dist = (np.sum((abs(x1 - x2))**L))**(1/L)\n",
    "    return dist\n",
    "\n",
    "print(f\"The Euclidean distance between the points (2,7) and (5,11) is {distance((2,7),(5,11),2)}\")\n",
    "print(f\"The Manhattan distance between the points (4,4) and (12,10) is {distance((4,4),(12,10),1)}\")"
   ]
  },
  {
   "cell_type": "markdown",
   "metadata": {},
   "source": [
    "### 2.2 Basic Nearest Neighbor algorithm\n",
    "\n",
    "Your next task is to implement a basic nearest neighbor algorithm from scratch.  Your simple model will use three input features (`CRIM, RM and ZN`) and a single output (`MEDV`).  In other words, you are modelling the relationship between median home value and crime rates, house size and the proportion of residential land zoned for lots.\n",
    "\n",
    "Use your training data (bdata_train) to \"fit\" your model, although as you know, with Nearest Neighbors there is no real training, you just need to keep your training data in memory.  Write a function that predicts the median home value using the nearest neighbor algorithm we discussed in class.  Since this is a small dataset, you can simply compare your test instance to every instance in the training set, and return the `MEDV` value of the closest training instance.  Have your function take L as an input, where L is passed to the distance function. Use L=2 for all questions henceforth unless explicitly stated otherwise.\n",
    "\n",
    "Make sure to do the following - \n",
    "1. Fill in the function specification below\n",
    "2. Use your algorithm to predict the median home value of every instance in the test set. Report the RMSE (\"test RMSE\")\n",
    "3. Use your algorithm to predict the median home value of every instance in the training set and report the training RMSE.\n",
    "4. Create a scatter plot that shows the true value of each instance on the x-axis and the predicted value of each instance on the y-axis. Color the training instances in red and the test instances in blue. \n",
    "5. Report an estimate of the total time taken by your code to predict the nearest neighbors for all the values in the test data set.\n",
    "6. How does the performance (test RMSE and total runtime) of your nearest neighbors algorithm compare to the baseline in part 1.3?"
   ]
  },
  {
   "cell_type": "code",
   "execution_count": 13,
   "metadata": {
    "jupyter": {
     "outputs_hidden": true
    }
   },
   "outputs": [
    {
     "name": "stdout",
     "output_type": "stream",
     "text": [
      "Train Results:\n",
      "Time taken: 0.03 seconds\n",
      "Nearest Neighbour: Train RMSE\n",
      "0.0\n",
      "\n",
      "Test Results:\n",
      "Time taken: 0.01 seconds\n",
      "Nearest Neighbour: Test RMSE\n",
      "6.89\n"
     ]
    }
   ],
   "source": [
    "\"\"\"\n",
    "Function\n",
    "--------\n",
    "Nearest Neighbors\n",
    "\n",
    "Implementation of nearest neighbors algorithm.\n",
    "\n",
    "Parameters\n",
    "----------\n",
    "x_train: array\n",
    "    Array of numerical feature values for training the model.\n",
    "y_train: array\n",
    "    Array of numerical output values for training the model.\n",
    "x_test: array\n",
    "    Array of numerical feature values for testing the model.\n",
    "y_test: array\n",
    "    Array of numerical output values for testing the model.\n",
    "L: int\n",
    "    Order of L-norm function used for calculating distance.\n",
    "\n",
    "Returns\n",
    "-------\n",
    "rmse : int\n",
    "    Value of the RMSE from data.\n",
    "\"\"\"\n",
    "\n",
    "# 1. Fill in the function specification below\n",
    "def nneighbor(X_Train,Y_Train,X_Test,Y_Test, L):\n",
    "    \n",
    "    start_time = time.time()\n",
    "    Y_Test_predicted = np.zeros(len(X_Test))\n",
    "    \n",
    "    #Compute distances\n",
    "    for i in range(len(X_Test)):\n",
    "        dist = distance(X_Test[i], X_Train, L)\n",
    "        \n",
    "        Y_Test_predicted[i] = Y_Train[np.argmin(dist)]\n",
    "            \n",
    "    # RMSE\n",
    "    rmse = compute_rmse(Y_Test_predicted, Y_Test)\n",
    "    \n",
    "    t=(time.time() - start_time)\n",
    "    \n",
    "    print(\"Time taken: {:.2f} seconds\".format(time.time() - start_time))\n",
    "    \n",
    "    return Y_Test_predicted,rmse,t\n",
    "\n",
    "# 2. Use your algorithm to predict the median home value of every instance in the training set.\n",
    "#Computing RMSE based on nearest neighbour\n",
    "print(\"Train Results:\")\n",
    "#Train RMSE\n",
    "train_NN_Predicted, train_NN_RMSE, train_NN_t  = nneighbor(bdata_train[['CRIM','RM','ZN']].values,bdata_train['MEDV'].values,\n",
    "                                                bdata_train[['CRIM','RM','ZN']].values,bdata_train['MEDV'].values, 2)\n",
    "\n",
    "print(\"Nearest Neighbour: Train RMSE\")\n",
    "print(train_NN_RMSE)\n",
    "print()\n",
    "# 3. Use your algorithm to predict the median home value of every instance in the training set and report the training RMSE.\n",
    "print(\"Test Results:\")\n",
    "#Test RMSE\n",
    "test_NN_Predicted, test_NN_RMSE, test_NN_t = nneighbor(bdata_train[['CRIM','RM','ZN']].values,bdata_train['MEDV'].values,\n",
    "                                                       bdata_test[['CRIM','RM','ZN']].values,bdata_test['MEDV'].values,2)\n",
    "print(\"Nearest Neighbour: Test RMSE\")\n",
    "print(test_NN_RMSE)"
   ]
  },
  {
   "cell_type": "code",
   "execution_count": 31,
   "metadata": {},
   "outputs": [
    {
     "data": {
      "image/png": "[encoded data removed]",
      "text/plain": [
       "<Figure size 504x504 with 1 Axes>"
      ]
     },
     "metadata": {
      "needs_background": "light"
     },
     "output_type": "display_data"
    }
   ],
   "source": [
    "#Plotting\n",
    "fig = plt.figure(figsize=(7,7))\n",
    "ax = fig.add_subplot()\n",
    "\n",
    "ax.scatter(bdata_train['MEDV'], train_NN_Predicted, c='red', label='Train Data', alpha=0.5)\n",
    "ax.scatter(bdata_test['MEDV'], test_NN_Predicted, c='blue', label='Test Data', alpha=0.5)\n",
    "\n",
    "ax.set_xlabel(\"Observed median value of owner-occupied homes (in $1000's)\")\n",
    "ax.set_ylabel(\"Predicted median value of owner-occupied homes (in $1000's)\")\n",
    "ax.set_title(\"Train and Test Nearest Neighbour Model Prediction\")\n",
    "\n",
    "ax.spines['right'].set_visible(False)\n",
    "ax.spines['top'].set_visible(False)\n",
    "ax.legend()\n",
    "plt.show(fig)"
   ]
  },
  {
   "cell_type": "markdown",
   "metadata": {},
   "source": [
    "* Train Results:\n",
    "    * Time taken: 0.03 seconds\n",
    "    * Nearest Neighbour \n",
    "    * Train RMSE: 0.0\n",
    "\n",
    "* Test Results:\n",
    "    * Time taken: 0.01 seconds\n",
    "    * Nearest Neighbour\n",
    "    * Test RMSE: 6.894908404377965\n",
    "\n",
    "* Comparing with result in 1.3, Test RMSE has decreased a little from 8.89 to 6.89. In terms of runtime, it took around 0.01 seconds as compared to Zero second for baseline "
   ]
  },
  {
   "cell_type": "markdown",
   "metadata": {},
   "source": [
    "### 2.3 Results and Normalization\n",
    "\n",
    "If you were being astute, you would have noticed that we never normalized our features -- a big no-no with Nearest Neighbor algorithms.  Write a generic normalization function that takes as input an array of values for a given feature, and returns the standardized array (subtract the mean and divide by the standard deviation).\n",
    "\n",
    "Re-run the Nearest Neighbor algorithm on the normalized dataset (still just using `CRIM, RM and ZN` as input), and compare the RMSE from this method with your previous RMSE evaluations. What do you observe?\n",
    "\n",
    "*NOTE*: To normalize properly, you should compute the mean and standard deviation on the training set, and use the same values to normalize both the training and the testing dataset.\n",
    "\n",
    "*NOTE 2*: In this case, the normalization may or may not reduce the RMSE; don't get confused if you find that to be the case."
   ]
  },
  {
   "cell_type": "code",
   "execution_count": 15,
   "metadata": {
    "jupyter": {
     "outputs_hidden": true
    }
   },
   "outputs": [],
   "source": [
    "\"\"\"\n",
    "Function\n",
    "--------\n",
    "Normalize data\n",
    "\n",
    "Normalize all of the features in a data frame.\n",
    "\n",
    "Parameters\n",
    "----------\n",
    "raw_data: array\n",
    "    Array of numerical values to normalize.\n",
    "\n",
    "Returns\n",
    "-------\n",
    "normalized_data : array\n",
    "    The array with normalized values for all features\n",
    "\"\"\"\n",
    "def normalize(raw_data):\n",
    "    \n",
    "    normalized_data= (raw_data - np.mean(raw_data))/np.std(raw_data)\n",
    "        \n",
    "    return normalized_data\n",
    "\n",
    "\n",
    "bdata_train_normalized = bdata_train.copy()\n",
    "for col in bdata_train.columns:\n",
    "    if col!='MEDV':\n",
    "        bdata_train_normalized[col] = normalize(bdata_train[col])\n",
    "    \n",
    "bdata_test_normalized = bdata_test.copy()\n",
    "for col in bdata_test.columns:\n",
    "    if col!='MEDV':\n",
    "        bdata_test_normalized[col] = normalize(bdata_test[col])"
   ]
  },
  {
   "cell_type": "code",
   "execution_count": 16,
   "metadata": {},
   "outputs": [
    {
     "name": "stdout",
     "output_type": "stream",
     "text": [
      "Train Results:\n",
      "Time taken: 0.02 seconds\n",
      "Nearest Neighbour: Train RMSE\n",
      "0.0\n",
      "\n",
      "Test Results:\n",
      "Time taken: 0.01 seconds\n",
      "Nearest Neighbour: Test RMSE\n",
      "7.9\n"
     ]
    }
   ],
   "source": [
    "#Computing RMSE based on normalized data using nearest neighbour\n",
    "\n",
    "print(\"Train Results:\")\n",
    "#Train RMSE\n",
    "train_NN_Predicted_normalized, train_NN_RMSE_normalized,train_NN_t_normalized = nneighbor(bdata_train_normalized[['CRIM','RM','ZN']].values,bdata_train_normalized['MEDV'].values,\n",
    "                                                bdata_train_normalized[['CRIM','RM','ZN']].values,bdata_train_normalized['MEDV'].values, 2)\n",
    "\n",
    "print(\"Nearest Neighbour: Train RMSE\")\n",
    "print(train_NN_RMSE_normalized)\n",
    "\n",
    "print()\n",
    "print(\"Test Results:\")\n",
    "#Test RMSE\n",
    "test_NN_Predicted_normalized, test_NN_RMSE_normalized, test_NN_t_normalized = nneighbor(bdata_train_normalized[['CRIM','RM','ZN']].values,bdata_train_normalized['MEDV'].values,\n",
    "                                                       bdata_test_normalized[['CRIM','RM','ZN']].values,bdata_test_normalized['MEDV'].values,2)\n",
    "print(\"Nearest Neighbour: Test RMSE\")\n",
    "print(test_NN_RMSE_normalized)"
   ]
  },
  {
   "cell_type": "markdown",
   "metadata": {},
   "source": [
    "RMSE for normalized test data: 7.89 ~ 7.9\n",
    "previous RMSE of test data: 6.89\n",
    "\n",
    "As we can see, the RSME for the normalised test data is 1 unit bigger than the previous RSME"
   ]
  },
  {
   "cell_type": "markdown",
   "metadata": {},
   "source": [
    "### 2.4 Optimization\n",
    "\n",
    "A lot of the decisions we've made so far have been arbitrary.  Try to increase the performance of your nearest neighbor algorithm by adding features that you think might be relevant, and by using different values of L in the distance function.  Try a model that uses a different set of 2 features, then try at least one model that uses more than 4 features, then try using a different value of L.  If you're having fun, try a few different combinations of features and L! Use the test set to report the RMSE values.\n",
    "\n",
    "What combination of features and distance function provide the lowest RMSE on the test set?  Do your decisions affect the running time of the algorithm?\n",
    "\n",
    "*NOTE:* For this and all subsequent questions, you should use normalized features. "
   ]
  },
  {
   "cell_type": "code",
   "execution_count": 32,
   "metadata": {
    "jupyter": {
     "outputs_hidden": true
    }
   },
   "outputs": [
    {
     "name": "stdout",
     "output_type": "stream",
     "text": [
      "Train Results:\n",
      "Time taken: 0.02 seconds\n",
      "Nearest Neighbour: Train RMSE\n",
      "0.0\n",
      "\n",
      "Test Results:\n",
      "Time taken: 0.01 seconds\n",
      "Nearest Neighbour: Test RMSE\n",
      "6.39\n"
     ]
    }
   ],
   "source": [
    "#Trying models with features: LSTAT and CHAS with L=5\n",
    "\n",
    "#Computing RMSE based on normalized data using nearest neighbour\n",
    "\n",
    "print(\"Train Results:\")\n",
    "#Train RMSE\n",
    "train_NN_Predicted_normalized, train_NN_RMSE_normalized,train_NN_t_normalized = nneighbor(bdata_train_normalized[['LSTAT','CHAS']].values,bdata_train_normalized['MEDV'].values,\n",
    "                                                bdata_train_normalized[['LSTAT','CHAS']].values,bdata_train_normalized['MEDV'].values, 5)\n",
    "\n",
    "print(\"Nearest Neighbour: Train RMSE\")\n",
    "print(train_NN_RMSE_normalized)\n",
    "\n",
    "print()\n",
    "print(\"Test Results:\")\n",
    "#Test RMSE\n",
    "test_NN_Predicted_normalized, test_NN_RMSE_normalized, test_NN_t_normalized = nneighbor(bdata_train_normalized[['LSTAT','CHAS']].values,bdata_train_normalized['MEDV'].values,\n",
    "                                                       bdata_test_normalized[['LSTAT','CHAS']].values,bdata_test_normalized['MEDV'].values,5)\n",
    "print(\"Nearest Neighbour: Test RMSE\")\n",
    "print(test_NN_RMSE_normalized)"
   ]
  },
  {
   "cell_type": "code",
   "execution_count": 33,
   "metadata": {},
   "outputs": [
    {
     "name": "stdout",
     "output_type": "stream",
     "text": [
      "Train Results:\n",
      "Time taken: 0.03 seconds\n",
      "Nearest Neighbour: Train RMSE\n",
      "0.0\n",
      "\n",
      "Test Results:\n",
      "Time taken: 0.01 seconds\n",
      "Nearest Neighbour: Test RMSE\n",
      "10.9\n"
     ]
    }
   ],
   "source": [
    "#Trying models with features: PTRATIO and NOX with L=6\n",
    "\n",
    "#Computing RMSE based on normalized data using nearest neighbour\n",
    "\n",
    "print(\"Train Results:\")\n",
    "#Train RMSE\n",
    "train_NN_Predicted_normalized, train_NN_RMSE_normalized,train_NN_t_normalized = nneighbor(bdata_train_normalized[['PTRATIO','NOX']].values,bdata_train_normalized['MEDV'].values,\n",
    "                                                bdata_train_normalized[['PTRATIO','NOX']].values,bdata_train_normalized['MEDV'].values, 6)\n",
    "\n",
    "print(\"Nearest Neighbour: Train RMSE\")\n",
    "print(train_NN_RMSE_normalized)\n",
    "\n",
    "print()\n",
    "print(\"Test Results:\")\n",
    "#Test RMSE\n",
    "test_NN_Predicted_normalized, test_NN_RMSE_normalized, test_NN_t_normalized = nneighbor(bdata_train_normalized[['PTRATIO','NOX']].values,bdata_train_normalized['MEDV'].values,\n",
    "                                                       bdata_test_normalized[['PTRATIO','NOX']].values,bdata_test_normalized['MEDV'].values,6)\n",
    "print(\"Nearest Neighbour: Test RMSE\")\n",
    "print(test_NN_RMSE_normalized)"
   ]
  },
  {
   "cell_type": "code",
   "execution_count": 34,
   "metadata": {},
   "outputs": [
    {
     "name": "stdout",
     "output_type": "stream",
     "text": [
      "Train Results:\n",
      "Time taken: 0.03 seconds\n",
      "Nearest Neighbour: Train RMSE\n",
      "0.0\n",
      "\n",
      "Test Results:\n",
      "Time taken: 0.01 seconds\n",
      "Nearest Neighbour: Test RMSE\n",
      "6.6\n"
     ]
    }
   ],
   "source": [
    "#Trying models with features: PTRATIO and LSTAT with L=4\n",
    "\n",
    "#Computing RMSE based on normalized data using nearest neighbour\n",
    "\n",
    "print(\"Train Results:\")\n",
    "#Train RMSE\n",
    "train_NN_Predicted_normalized, train_NN_RMSE_normalized,train_NN_t_normalized = nneighbor(bdata_train_normalized[['PTRATIO','LSTAT']].values,bdata_train_normalized['MEDV'].values,\n",
    "                                                bdata_train_normalized[['PTRATIO','LSTAT']].values,bdata_train_normalized['MEDV'].values, 4)\n",
    "\n",
    "print(\"Nearest Neighbour: Train RMSE\")\n",
    "print(train_NN_RMSE_normalized)\n",
    "\n",
    "print()\n",
    "print(\"Test Results:\")\n",
    "#Test RMSE\n",
    "test_NN_Predicted_normalized, test_NN_RMSE_normalized, test_NN_t_normalized = nneighbor(bdata_train_normalized[['PTRATIO','LSTAT']].values,bdata_train_normalized['MEDV'].values,\n",
    "                                                       bdata_test_normalized[['PTRATIO','LSTAT']].values,bdata_test_normalized['MEDV'].values,4)\n",
    "print(\"Nearest Neighbour: Test RMSE\")\n",
    "print(test_NN_RMSE_normalized)"
   ]
  },
  {
   "cell_type": "code",
   "execution_count": 20,
   "metadata": {},
   "outputs": [
    {
     "name": "stdout",
     "output_type": "stream",
     "text": [
      "Train Results:\n",
      "Time taken: 0.05 seconds\n",
      "Nearest Neighbour: Train RMSE\n",
      "0.0\n",
      "\n",
      "Test Results:\n",
      "Time taken: 0.01 seconds\n",
      "Nearest Neighbour: Test RMSE\n",
      "7.05\n"
     ]
    }
   ],
   "source": [
    "#Trying models with features: PTRATIO,CRIM, NOX, AGE and LSTAT with L=4\n",
    "\n",
    "#Computing RMSE based on normalized data using nearest neighbour\n",
    "\n",
    "print(\"Train Results:\")\n",
    "#Train RMSE\n",
    "train_NN_Predicted_normalized, train_NN_RMSE_normalized,train_NN_t_normalized = nneighbor(bdata_train_normalized[['PTRATIO','LSTAT','CRIM','NOX','AGE']].values,bdata_train_normalized['MEDV'].values,\n",
    "                                                bdata_train_normalized[['PTRATIO','LSTAT','CRIM','NOX','AGE']].values,bdata_train_normalized['MEDV'].values, 4)\n",
    "\n",
    "print(\"Nearest Neighbour: Train RMSE\")\n",
    "print(train_NN_RMSE_normalized)\n",
    "\n",
    "print()\n",
    "print(\"Test Results:\")\n",
    "#Test RMSE\n",
    "test_NN_Predicted_normalized, test_NN_RMSE_normalized, test_NN_t_normalized = nneighbor(bdata_train_normalized[['PTRATIO','LSTAT','CRIM','NOX','AGE']].values,bdata_train_normalized['MEDV'].values,\n",
    "                                                       bdata_test_normalized[['PTRATIO','LSTAT','CRIM','NOX','AGE']].values,bdata_test_normalized['MEDV'].values,4)\n",
    "print(\"Nearest Neighbour: Test RMSE\")\n",
    "print(test_NN_RMSE_normalized)"
   ]
  },
  {
   "cell_type": "code",
   "execution_count": 21,
   "metadata": {},
   "outputs": [
    {
     "name": "stdout",
     "output_type": "stream",
     "text": [
      "Train Results:\n",
      "Time taken: 0.06 seconds\n",
      "Nearest Neighbour: Train RMSE\n",
      "0.0\n",
      "\n",
      "Test Results:\n",
      "Time taken: 0.02 seconds\n",
      "Nearest Neighbour: Test RMSE\n",
      "6.92\n"
     ]
    }
   ],
   "source": [
    "#Trying models with features: PTRATIO,CRIM, NOX, AGE and LSTAT with L=6\n",
    "\n",
    "#Computing RMSE based on normalized data using nearest neighbour\n",
    "\n",
    "print(\"Train Results:\")\n",
    "#Train RMSE\n",
    "train_NN_Predicted_normalized, train_NN_RMSE_normalized,train_NN_t_normalized = nneighbor(bdata_train_normalized[['PTRATIO','LSTAT','CRIM','NOX','AGE']].values,bdata_train_normalized['MEDV'].values,\n",
    "                                                bdata_train_normalized[['PTRATIO','LSTAT','CRIM','NOX','AGE']].values,bdata_train_normalized['MEDV'].values, 6)\n",
    "\n",
    "print(\"Nearest Neighbour: Train RMSE\")\n",
    "print(train_NN_RMSE_normalized)\n",
    "\n",
    "print()\n",
    "print(\"Test Results:\")\n",
    "#Test RMSE\n",
    "test_NN_Predicted_normalized, test_NN_RMSE_normalized, test_NN_t_normalized = nneighbor(bdata_train_normalized[['PTRATIO','LSTAT','CRIM','NOX','AGE']].values,bdata_train_normalized['MEDV'].values,\n",
    "                                                       bdata_test_normalized[['PTRATIO','LSTAT','CRIM','NOX','AGE']].values,bdata_test_normalized['MEDV'].values,6)\n",
    "print(\"Nearest Neighbour: Test RMSE\")\n",
    "print(test_NN_RMSE_normalized)"
   ]
  },
  {
   "cell_type": "markdown",
   "metadata": {},
   "source": [
    "* For me, the following combination of features worked the best, giving the smallest RMSE: **LSTAT and CHAS with L=5** getting 6.39\n",
    "* Comparing the time taken by all the model, yes, choice of decisions do affect the runtime of the algorithm. "
   ]
  },
  {
   "cell_type": "markdown",
   "metadata": {},
   "source": [
    "### 2.5 Cross-Validation\n",
    "\n",
    "The more you tinkered with your features and distance function, the higher the risk that you overfit your training data.  One solution to this sort of overfitting is to use cross-validation (see K-fold [cross-validation][1].  Here you must implement a simple k-fold cross-validation algorithm yourself.  The function you write here will be used several more times in this problem set, so do your best to write efficient code! (Note that the sklearn package has a built-in [K-fold][2] iterator -- you should *not* be invoking that or any related algorithms in this section of the problem set.)\n",
    "\n",
    "Use 25-fold cross-validation and report the average RMSE for Nearest Neighbors using Euclidean distance with `CRIM,RM and ZN` input features, as well as the total running time for the full run of 25 folds.  In other words, randomly divide your training dataset (created in 1.2) into 25 equally-sized samples.\n",
    "\n",
    "For each of the 25 iterations (the \"folds\"), use 24 samples as \"training data\" (even though there is no training in k-NN!), and the remaining 1 sample for validation.  Compute the RMSE of that particular validation set, then move on to the next iteration.  \n",
    "\n",
    " - Report the average cross-validated RMSE across the 25 iterations. What do you observe?\n",
    " \n",
    " - Create a histogram of the RMSEs for the folds (there should be 25 of these). Additionally, use a horizontal line to mark the average cross-validated RMSE.\n",
    "\n",
    "\n",
    "[1]: http://en.wikipedia.org/wiki/Cross-validation_(statistics)\n",
    "[2]: http://scikit-learn.org/stable/modules/cross_validation.html#cross-validation\n",
    "\n",
    "\n",
    "\n",
    "NOTE: To perform any randomized operation, only use functions in the *numpy library (np.random)*. Do not use other packages for random functions.\n",
    "\n",
    "HINT: Running 25-fold cross validation might be time-consuming. Try starting with 5 folds."
   ]
  },
  {
   "cell_type": "code",
   "execution_count": 22,
   "metadata": {
    "jupyter": {
     "outputs_hidden": true
    }
   },
   "outputs": [
    {
     "name": "stdout",
     "output_type": "stream",
     "text": [
      "Time taken: 0.00 seconds\n",
      "Time taken: 0.00 seconds\n",
      "Time taken: 0.00 seconds\n",
      "Time taken: 0.00 seconds\n",
      "Time taken: 0.00 seconds\n",
      "Time taken: 0.00 seconds\n",
      "Time taken: 0.00 seconds\n",
      "Time taken: 0.00 seconds\n",
      "Time taken: 0.00 seconds\n",
      "Time taken: 0.00 seconds\n",
      "Time taken: 0.00 seconds\n",
      "Time taken: 0.00 seconds\n",
      "Time taken: 0.00 seconds\n",
      "Time taken: 0.00 seconds\n",
      "Time taken: 0.00 seconds\n",
      "Time taken: 0.00 seconds\n",
      "Time taken: 0.00 seconds\n",
      "Time taken: 0.00 seconds\n",
      "Time taken: 0.00 seconds\n",
      "Time taken: 0.00 seconds\n",
      "Time taken: 0.00 seconds\n",
      "Time taken: 0.00 seconds\n",
      "Time taken: 0.00 seconds\n",
      "Time taken: 0.00 seconds\n",
      "Time taken: 0.00 seconds\n"
     ]
    },
    {
     "data": {
      "text/html": [
       "<div>\n",
       "<style scoped>\n",
       "    .dataframe tbody tr th:only-of-type {\n",
       "        vertical-align: middle;\n",
       "    }\n",
       "\n",
       "    .dataframe tbody tr th {\n",
       "        vertical-align: top;\n",
       "    }\n",
       "\n",
       "    .dataframe thead th {\n",
       "        text-align: right;\n",
       "    }\n",
       "</style>\n",
       "<table border=\"1\" class=\"dataframe\">\n",
       "  <thead>\n",
       "    <tr style=\"text-align: right;\">\n",
       "      <th></th>\n",
       "      <th>RMSE</th>\n",
       "    </tr>\n",
       "  </thead>\n",
       "  <tbody>\n",
       "    <tr>\n",
       "      <th>0</th>\n",
       "      <td>6.47</td>\n",
       "    </tr>\n",
       "    <tr>\n",
       "      <th>1</th>\n",
       "      <td>6.34</td>\n",
       "    </tr>\n",
       "    <tr>\n",
       "      <th>2</th>\n",
       "      <td>5.93</td>\n",
       "    </tr>\n",
       "    <tr>\n",
       "      <th>3</th>\n",
       "      <td>5.42</td>\n",
       "    </tr>\n",
       "    <tr>\n",
       "      <th>4</th>\n",
       "      <td>4.81</td>\n",
       "    </tr>\n",
       "    <tr>\n",
       "      <th>5</th>\n",
       "      <td>5.81</td>\n",
       "    </tr>\n",
       "    <tr>\n",
       "      <th>6</th>\n",
       "      <td>8.93</td>\n",
       "    </tr>\n",
       "    <tr>\n",
       "      <th>7</th>\n",
       "      <td>9.16</td>\n",
       "    </tr>\n",
       "    <tr>\n",
       "      <th>8</th>\n",
       "      <td>3.49</td>\n",
       "    </tr>\n",
       "    <tr>\n",
       "      <th>9</th>\n",
       "      <td>14.65</td>\n",
       "    </tr>\n",
       "    <tr>\n",
       "      <th>10</th>\n",
       "      <td>10.76</td>\n",
       "    </tr>\n",
       "    <tr>\n",
       "      <th>11</th>\n",
       "      <td>7.12</td>\n",
       "    </tr>\n",
       "    <tr>\n",
       "      <th>12</th>\n",
       "      <td>5.73</td>\n",
       "    </tr>\n",
       "    <tr>\n",
       "      <th>13</th>\n",
       "      <td>6.48</td>\n",
       "    </tr>\n",
       "    <tr>\n",
       "      <th>14</th>\n",
       "      <td>5.74</td>\n",
       "    </tr>\n",
       "    <tr>\n",
       "      <th>15</th>\n",
       "      <td>4.29</td>\n",
       "    </tr>\n",
       "    <tr>\n",
       "      <th>16</th>\n",
       "      <td>10.87</td>\n",
       "    </tr>\n",
       "    <tr>\n",
       "      <th>17</th>\n",
       "      <td>12.43</td>\n",
       "    </tr>\n",
       "    <tr>\n",
       "      <th>18</th>\n",
       "      <td>10.11</td>\n",
       "    </tr>\n",
       "    <tr>\n",
       "      <th>19</th>\n",
       "      <td>8.09</td>\n",
       "    </tr>\n",
       "    <tr>\n",
       "      <th>20</th>\n",
       "      <td>4.80</td>\n",
       "    </tr>\n",
       "    <tr>\n",
       "      <th>21</th>\n",
       "      <td>5.90</td>\n",
       "    </tr>\n",
       "    <tr>\n",
       "      <th>22</th>\n",
       "      <td>10.08</td>\n",
       "    </tr>\n",
       "    <tr>\n",
       "      <th>23</th>\n",
       "      <td>12.60</td>\n",
       "    </tr>\n",
       "    <tr>\n",
       "      <th>24</th>\n",
       "      <td>8.70</td>\n",
       "    </tr>\n",
       "  </tbody>\n",
       "</table>\n",
       "</div>"
      ],
      "text/plain": [
       "     RMSE\n",
       "0    6.47\n",
       "1    6.34\n",
       "2    5.93\n",
       "3    5.42\n",
       "4    4.81\n",
       "5    5.81\n",
       "6    8.93\n",
       "7    9.16\n",
       "8    3.49\n",
       "9   14.65\n",
       "10  10.76\n",
       "11   7.12\n",
       "12   5.73\n",
       "13   6.48\n",
       "14   5.74\n",
       "15   4.29\n",
       "16  10.87\n",
       "17  12.43\n",
       "18  10.11\n",
       "19   8.09\n",
       "20   4.80\n",
       "21   5.90\n",
       "22  10.08\n",
       "23  12.60\n",
       "24   8.70"
      ]
     },
     "execution_count": 22,
     "metadata": {},
     "output_type": "execute_result"
    }
   ],
   "source": [
    "np.random.seed(seed=13579)\n",
    "\n",
    "# Using full original dataset for cross validation\n",
    "\n",
    "# Length of each fold\n",
    "len_fold = np.int(len(boston_data)/25)\n",
    "\n",
    "# Randomly select folds\n",
    "fold_index = np.random.choice(range(len(boston_data)), (25, len_fold), replace=False)\n",
    "\n",
    "# Assign the folds\n",
    "for i in range(25):\n",
    "    boston_data.loc[fold_index[i], 'fold'] = i+1\n",
    "\n",
    "# Initialize vector for storing each iteration result\n",
    "RMSE_cv = np.zeros(25)\n",
    "t_cv = np.zeros(25)\n",
    "\n",
    "#Iteration\n",
    "for i in range(25):\n",
    "    bdata_train_fold = boston_data[boston_data['fold'] != (i+1)]\n",
    "    bdata_test_fold =  boston_data[boston_data['fold'] == (i+1)]\n",
    "    \n",
    "    #Normalizing the train and test set for each iteration\n",
    "    bdata_train_fold_norm = bdata_train_fold.copy()\n",
    "    for col in bdata_train_fold.columns:\n",
    "        if col!='MEDV':\n",
    "            bdata_train_fold_norm[col] = normalize(bdata_train_fold[col])\n",
    "    \n",
    "    bdata_test_fold_norm = bdata_test_fold.copy()\n",
    "    for col in bdata_test_fold.columns:\n",
    "        if col!='MEDV':\n",
    "            bdata_test_fold_norm[col] = normalize(bdata_test_fold[col])\n",
    "    \n",
    "    #Test RMSE\n",
    "    predicted, rmse, t = nneighbor(bdata_train_fold_norm[['CRIM','RM','ZN']].values,bdata_train_fold_norm['MEDV'].values,\n",
    "                                    bdata_test_fold_norm[['CRIM','RM','ZN']].values,bdata_test_fold_norm['MEDV'].values,2)\n",
    "    \n",
    "    RMSE_cv[i] = rmse\n",
    "    t_cv[i] = t\n",
    "\n",
    "RMSE_cv = pd.DataFrame(RMSE_cv,columns=['RMSE'])\n",
    "RMSE_cv"
   ]
  },
  {
   "cell_type": "code",
   "execution_count": 23,
   "metadata": {},
   "outputs": [
    {
     "data": {
      "text/plain": [
       "7.788400000000001"
      ]
     },
     "execution_count": 23,
     "metadata": {},
     "output_type": "execute_result"
    }
   ],
   "source": [
    "#Average RMSE\n",
    "np.mean(RMSE_cv.RMSE)"
   ]
  },
  {
   "cell_type": "code",
   "execution_count": 24,
   "metadata": {},
   "outputs": [
    {
     "data": {
      "text/plain": [
       "0.032213449478149414"
      ]
     },
     "execution_count": 24,
     "metadata": {},
     "output_type": "execute_result"
    }
   ],
   "source": [
    "#Total runtime for prediction\n",
    "sum(t_cv)"
   ]
  },
  {
   "cell_type": "markdown",
   "metadata": {},
   "source": [
    "* Average RMSE: 7.789\n",
    "* Total Runtime (Prediction): 0.027 seconds"
   ]
  },
  {
   "cell_type": "markdown",
   "metadata": {},
   "source": [
    "### 2.6 K-Nearest Neighbors Algorithm\n",
    "\n",
    "Implement the K-Nearest Neighbors algorithm.  Use 10-fold cross validation and L2 normalization, and the same features as in 2.5. Report the RMSE for K=5 and the running time of the algorithm. What do you observe?"
   ]
  },
  {
   "cell_type": "code",
   "execution_count": 25,
   "metadata": {
    "jupyter": {
     "outputs_hidden": true
    }
   },
   "outputs": [
    {
     "name": "stdout",
     "output_type": "stream",
     "text": [
      "RMSE:\n",
      "4.246\n",
      "\n",
      "Time taken:\n",
      "0.022574186325073242\n"
     ]
    }
   ],
   "source": [
    "\"\"\"\n",
    "Function\n",
    "--------\n",
    "K-Nearest Neighbors\n",
    "\n",
    "Implementation of nearest neighbors algorithm.\n",
    "\n",
    "Parameters\n",
    "----------\n",
    "x_train: array\n",
    "    Array of numerical feature values for training the model.\n",
    "y_train: array\n",
    "    Array of numerical output values for training the model.\n",
    "x_test: array\n",
    "    Array of numerical feature values for testing the model.\n",
    "y_test: array\n",
    "    Array of numerical output values for testing the model.\n",
    "L: int\n",
    "    Order of L-norm function used for calculating distance.\n",
    "K: int\n",
    "    Neighbors to include in algorithm\n",
    "    \n",
    "Returns\n",
    "-------\n",
    "rmse : int\n",
    "    Value of the RMSE from data.\n",
    "\"\"\"\n",
    "\n",
    "def knn(X,Y,fold_num, L, K):\n",
    "    # start the watch\n",
    "    t_start = time.time()\n",
    "    \n",
    "    #Storing vector for RMSE for 10 folds\n",
    "    rmse_folds = np.zeros(10)\n",
    "    \n",
    "    # Iterating through the folds\n",
    "    for i in range(10):   \n",
    "        #Train and Test for each fold \n",
    "        X_train = X[fold_num!=(i+1)]\n",
    "        Y_train = Y[fold_num!=(i+1)]\n",
    "        X_test = X[fold_num==(i+1)]\n",
    "        Y_test = Y[fold_num==(i+1)]\n",
    "        \n",
    "        # initiate the storage vector\n",
    "        Y_test_predicted = np.zeros(len(X_test))\n",
    "        \n",
    "        # Predicting the median house value\n",
    "        for j in range(len(X_test)):\n",
    "            # calculate distance\n",
    "            dist = distance(X_test[j], X_train, L)\n",
    "            # calculate the mean Y of the K nearest points\n",
    "            Y_test_predicted[j] = np.mean(Y_train[dist.argsort()[:K]])\n",
    "            \n",
    "        # RMSE\n",
    "        rmse_folds[i] = compute_rmse(Y_test_predicted, Y_test)\n",
    "        \n",
    "    t = time.time() - t_start\n",
    "    rmse = np.mean(rmse_folds)    \n",
    "    \n",
    "    return rmse,t\n",
    "\n",
    "#Normalizing complete dataset \n",
    "boston_data_norm = boston_data.copy()\n",
    "for col in boston_data.columns:\n",
    "    if (col!='MEDV') & (col!= 'fold'):\n",
    "        boston_data_norm[col] = normalize(boston_data[col])\n",
    "\n",
    "rmse, t = knn(boston_data_norm[['CRIM','RM','ZN']].values,boston_data_norm['MEDV'].values,boston_data_norm['fold'].values, 2, 5)\n",
    "\n",
    "print(\"RMSE:\")\n",
    "print(rmse)\n",
    "print()\n",
    "print(\"Time taken:\")\n",
    "print(t)"
   ]
  },
  {
   "cell_type": "markdown",
   "metadata": {},
   "source": [
    "RMSE:\n",
    "4.244805451214061\n",
    "\n",
    "Time taken:\n",
    "0.030987024307250977"
   ]
  },
  {
   "cell_type": "markdown",
   "metadata": {},
   "source": [
    "### 2.7 Using cross validation to find K\n",
    "\n",
    "Compute the cross-validated RMSE for values of K between 1 and 25 using 10-fold cross-validation and L2 normalization.  Use the following features in your model: `CRIM, ZN, RM, AGE, DIS, TAX`.  Create a graph that shows how cross-validated RMSE changes as K increases from 1 to 25.  Label your axes, and summarize what you see.  What do you think is a reasonable choice of K for this model?\n",
    "\n",
    "Finally, report the test RMSE using the value of K that minimized the cross-validated RMSE. (Continue to use L2 normalization and the same set of features). How does the test RMSE compare to the cross-validated RMSE, and is this what you expected? How does the test RMSE compare to the test RMSE from 2.4, and is this what you expected?"
   ]
  },
  {
   "cell_type": "code",
   "execution_count": 26,
   "metadata": {
    "jupyter": {
     "outputs_hidden": true
    }
   },
   "outputs": [
    {
     "data": {
      "text/html": [
       "<div>\n",
       "<style scoped>\n",
       "    .dataframe tbody tr th:only-of-type {\n",
       "        vertical-align: middle;\n",
       "    }\n",
       "\n",
       "    .dataframe tbody tr th {\n",
       "        vertical-align: top;\n",
       "    }\n",
       "\n",
       "    .dataframe thead th {\n",
       "        text-align: right;\n",
       "    }\n",
       "</style>\n",
       "<table border=\"1\" class=\"dataframe\">\n",
       "  <thead>\n",
       "    <tr style=\"text-align: right;\">\n",
       "      <th></th>\n",
       "      <th>K</th>\n",
       "      <th>RMSE</th>\n",
       "    </tr>\n",
       "  </thead>\n",
       "  <tbody>\n",
       "    <tr>\n",
       "      <th>5</th>\n",
       "      <td>6</td>\n",
       "      <td>3.535</td>\n",
       "    </tr>\n",
       "    <tr>\n",
       "      <th>6</th>\n",
       "      <td>7</td>\n",
       "      <td>3.537</td>\n",
       "    </tr>\n",
       "    <tr>\n",
       "      <th>7</th>\n",
       "      <td>8</td>\n",
       "      <td>3.545</td>\n",
       "    </tr>\n",
       "    <tr>\n",
       "      <th>4</th>\n",
       "      <td>5</td>\n",
       "      <td>3.614</td>\n",
       "    </tr>\n",
       "    <tr>\n",
       "      <th>8</th>\n",
       "      <td>9</td>\n",
       "      <td>3.689</td>\n",
       "    </tr>\n",
       "    <tr>\n",
       "      <th>9</th>\n",
       "      <td>10</td>\n",
       "      <td>3.735</td>\n",
       "    </tr>\n",
       "    <tr>\n",
       "      <th>3</th>\n",
       "      <td>4</td>\n",
       "      <td>3.759</td>\n",
       "    </tr>\n",
       "    <tr>\n",
       "      <th>2</th>\n",
       "      <td>3</td>\n",
       "      <td>3.791</td>\n",
       "    </tr>\n",
       "    <tr>\n",
       "      <th>11</th>\n",
       "      <td>12</td>\n",
       "      <td>3.806</td>\n",
       "    </tr>\n",
       "    <tr>\n",
       "      <th>10</th>\n",
       "      <td>11</td>\n",
       "      <td>3.813</td>\n",
       "    </tr>\n",
       "    <tr>\n",
       "      <th>12</th>\n",
       "      <td>13</td>\n",
       "      <td>3.830</td>\n",
       "    </tr>\n",
       "    <tr>\n",
       "      <th>13</th>\n",
       "      <td>14</td>\n",
       "      <td>3.878</td>\n",
       "    </tr>\n",
       "    <tr>\n",
       "      <th>1</th>\n",
       "      <td>2</td>\n",
       "      <td>3.881</td>\n",
       "    </tr>\n",
       "    <tr>\n",
       "      <th>14</th>\n",
       "      <td>15</td>\n",
       "      <td>3.890</td>\n",
       "    </tr>\n",
       "    <tr>\n",
       "      <th>16</th>\n",
       "      <td>17</td>\n",
       "      <td>3.959</td>\n",
       "    </tr>\n",
       "    <tr>\n",
       "      <th>17</th>\n",
       "      <td>18</td>\n",
       "      <td>3.962</td>\n",
       "    </tr>\n",
       "    <tr>\n",
       "      <th>15</th>\n",
       "      <td>16</td>\n",
       "      <td>3.972</td>\n",
       "    </tr>\n",
       "    <tr>\n",
       "      <th>18</th>\n",
       "      <td>19</td>\n",
       "      <td>4.005</td>\n",
       "    </tr>\n",
       "    <tr>\n",
       "      <th>19</th>\n",
       "      <td>20</td>\n",
       "      <td>4.022</td>\n",
       "    </tr>\n",
       "    <tr>\n",
       "      <th>20</th>\n",
       "      <td>21</td>\n",
       "      <td>4.083</td>\n",
       "    </tr>\n",
       "    <tr>\n",
       "      <th>21</th>\n",
       "      <td>22</td>\n",
       "      <td>4.107</td>\n",
       "    </tr>\n",
       "    <tr>\n",
       "      <th>22</th>\n",
       "      <td>23</td>\n",
       "      <td>4.126</td>\n",
       "    </tr>\n",
       "    <tr>\n",
       "      <th>23</th>\n",
       "      <td>24</td>\n",
       "      <td>4.135</td>\n",
       "    </tr>\n",
       "    <tr>\n",
       "      <th>24</th>\n",
       "      <td>25</td>\n",
       "      <td>4.160</td>\n",
       "    </tr>\n",
       "    <tr>\n",
       "      <th>0</th>\n",
       "      <td>1</td>\n",
       "      <td>4.377</td>\n",
       "    </tr>\n",
       "  </tbody>\n",
       "</table>\n",
       "</div>"
      ],
      "text/plain": [
       "     K   RMSE\n",
       "5    6  3.535\n",
       "6    7  3.537\n",
       "7    8  3.545\n",
       "4    5  3.614\n",
       "8    9  3.689\n",
       "9   10  3.735\n",
       "3    4  3.759\n",
       "2    3  3.791\n",
       "11  12  3.806\n",
       "10  11  3.813\n",
       "12  13  3.830\n",
       "13  14  3.878\n",
       "1    2  3.881\n",
       "14  15  3.890\n",
       "16  17  3.959\n",
       "17  18  3.962\n",
       "15  16  3.972\n",
       "18  19  4.005\n",
       "19  20  4.022\n",
       "20  21  4.083\n",
       "21  22  4.107\n",
       "22  23  4.126\n",
       "23  24  4.135\n",
       "24  25  4.160\n",
       "0    1  4.377"
      ]
     },
     "execution_count": 26,
     "metadata": {},
     "output_type": "execute_result"
    }
   ],
   "source": [
    "rmse_K = np.zeros(25)\n",
    "\n",
    "for i in range(25):\n",
    "    rmse, t = knn(boston_data_norm[['CRIM','ZN','RM','AGE','DIS','TAX']].values,\n",
    "                  boston_data_norm['MEDV'].values,\n",
    "                  boston_data_norm['fold'].values, 2, i+1)\n",
    "    rmse_K[i] = rmse\n",
    "    \n",
    "rmse_K = pd.DataFrame(rmse_K,columns=['RMSE'])\n",
    "rmse_K.index.name = 'K'\n",
    "rmse_K=rmse_K.reset_index()\n",
    "rmse_K['K'] = rmse_K['K'] + 1\n",
    "rmse_K.sort_values(\"RMSE\")"
   ]
  },
  {
   "cell_type": "code",
   "execution_count": 27,
   "metadata": {},
   "outputs": [
    {
     "data": {
      "image/png": "[encoded data removed]",
      "text/plain": [
       "<Figure size 504x504 with 1 Axes>"
      ]
     },
     "metadata": {
      "needs_background": "light"
     },
     "output_type": "display_data"
    }
   ],
   "source": [
    "#Plotting\n",
    "fig = plt.figure(figsize=(7,7))\n",
    "ax = fig.add_subplot()\n",
    "\n",
    "ax.plot(rmse_K['K'], rmse_K['RMSE'],marker='o', c='green', alpha=0.5)\n",
    "\n",
    "ax.set_xlabel(\"K\")\n",
    "ax.set_ylabel(\"RMSE\")\n",
    "ax.set_title(\"RMSE with different values of K\");"
   ]
  },
  {
   "cell_type": "markdown",
   "metadata": {},
   "source": [
    "* Best choice of K for this data is 6.\n",
    "* As one can see in the graph, the RMSE decreases intitally with increase in the value of K, but after a point (K=6), it starts increasing again."
   ]
  },
  {
   "cell_type": "markdown",
   "metadata": {},
   "source": [
    "### Extra-Credit: Forward selection\n",
    "\n",
    "Thus far the choice of predictor variables has been rather arbitrary. For extra credit, implement a basic [forward selection](https://see.stanford.edu/materials/aimlcs229/cs229-notes5.pdf) algorithm to progressively include features that decrease the cross-validated RMSE of the model. Note that the optimal value of K may be different for each model, so you may want to use cross-validation to choose K each time (but it is also fine if you fix K at the optimal value from 2.7).  Create a graph that shows RMSE as a function of the number of features in the model. Label each point on the x-axis with the name of the feature that is added at that step in the forward selection algorithm. *(For instance, if the optimal single-feature model has CRIM with RMSE = 10, and the optimal two-feature model has CRIM+ZN with RMSE=9, the first x-axis label will say CRIM and the second x-axis lable with say ZN)*"
   ]
  },
  {
   "cell_type": "code",
   "execution_count": 28,
   "metadata": {
    "jupyter": {
     "outputs_hidden": true
    }
   },
   "outputs": [],
   "source": [
    "#Forward Selection\n",
    "# Using K= 6 as found optimal in 2.7 above\n",
    "\n",
    "# Lsist of features\n",
    "all_feature_list = boston_data_norm.columns[0:13]\n",
    "\n",
    "#Number of features available \n",
    "num_features= len(all_feature_list)\n",
    "feature_RMSE = np.zeros(num_features)\n",
    "feature_list = []\n",
    "\n",
    "#Iteration on the total number of features\n",
    "for i in range(num_features):\n",
    "    test_RMSE=[]\n",
    "    test_feature_list = []\n",
    "    \n",
    "    for j in range(num_features):\n",
    "        if all_feature_list[j] not in feature_list:\n",
    "            test_features = copy.deepcopy(feature_list)\n",
    "            test_features.append(all_feature_list[j])\n",
    "            rmse, t = knn(boston_data_norm[test_features].values,\n",
    "                  boston_data_norm['MEDV'].values,\n",
    "                  boston_data_norm['fold'].values, 2, 6)\n",
    "            test_RMSE.append(rmse)\n",
    "            test_feature_list.append(all_feature_list[j])\n",
    "    \n",
    "    min_RMSE = np.argmin(test_RMSE)\n",
    "    feature_RMSE[i] = test_RMSE[min_RMSE]\n",
    "    feature_list.append(test_feature_list[min_RMSE])"
   ]
  },
  {
   "cell_type": "code",
   "execution_count": 29,
   "metadata": {},
   "outputs": [
    {
     "data": {
      "image/png": "[encoded data removed]",
      "text/plain": [
       "<Figure size 504x504 with 1 Axes>"
      ]
     },
     "metadata": {
      "needs_background": "light"
     },
     "output_type": "display_data"
    }
   ],
   "source": [
    "#Plotting\n",
    "fig = plt.figure(figsize=(7,7))\n",
    "ax = fig.add_subplot()\n",
    "\n",
    "ax.plot(np.arange(num_features), feature_RMSE,marker='o', c='blue', alpha=0.5)\n",
    "\n",
    "#X-tick labels\n",
    "x_tick_labels = []\n",
    "for i in range(num_features):\n",
    "    x_tick_labels.append('{}:{}'.format(i+1, feature_list[i]))\n",
    "                         \n",
    "ax.set_xlabel(\"Feature Added in every Iteration\")\n",
    "ax.set_xticks(np.arange(num_features))\n",
    "ax.set_xticklabels(x_tick_labels,rotation=45, ha='right')\n",
    "ax.set_ylabel(\"Mean RMSE\")\n",
    "ax.set_title(\"RMSE with different Features at K=6\");"
   ]
  }
 ],
 "metadata": {
  "kernelspec": {
   "display_name": "Python 3",
   "language": "python",
   "name": "python3"
  },
  "language_info": {
   "codemirror_mode": {
    "name": "ipython",
    "version": 3
   },
   "file_extension": ".py",
   "mimetype": "text/x-python",
   "name": "python",
   "nbconvert_exporter": "python",
   "pygments_lexer": "ipython3",
   "version": "3.8.8"
  }
 },
 "nbformat": 4,
 "nbformat_minor": 4
}
